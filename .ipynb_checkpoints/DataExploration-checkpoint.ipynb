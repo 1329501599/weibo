{
 "metadata": {
  "name": "",
  "signature": "sha256:e0452131f10d30d6922e3b726ef09be6675f75450cb6ace22df120a49b1bb020"
 },
 "nbformat": 3,
 "nbformat_minor": 0,
 "worksheets": [
  {
   "cells": [
    {
     "cell_type": "code",
     "collapsed": false,
     "input": [
      "import weiboPredict"
     ],
     "language": "python",
     "metadata": {},
     "outputs": [],
     "prompt_number": 1
    },
    {
     "cell_type": "code",
     "collapsed": false,
     "input": [
      "from weiboPredict import framework as fw"
     ],
     "language": "python",
     "metadata": {},
     "outputs": [],
     "prompt_number": 2
    },
    {
     "cell_type": "code",
     "collapsed": false,
     "input": [
      "fw.loadData()"
     ],
     "language": "python",
     "metadata": {},
     "outputs": [],
     "prompt_number": 3
    },
    {
     "cell_type": "code",
     "collapsed": false,
     "input": [
      "fw.weibo_train_data.describe()"
     ],
     "language": "python",
     "metadata": {},
     "outputs": [
      {
       "html": [
        "<div style=\"max-height:1000px;max-width:1500px;overflow:auto;\">\n",
        "<table border=\"1\" class=\"dataframe\">\n",
        "  <thead>\n",
        "    <tr style=\"text-align: right;\">\n",
        "      <th></th>\n",
        "      <th>forward_count</th>\n",
        "      <th>comment_count</th>\n",
        "      <th>like_count</th>\n",
        "    </tr>\n",
        "  </thead>\n",
        "  <tbody>\n",
        "    <tr>\n",
        "      <th>count</th>\n",
        "      <td> 1626750.000000</td>\n",
        "      <td> 1626750.000000</td>\n",
        "      <td> 1626750.000000</td>\n",
        "    </tr>\n",
        "    <tr>\n",
        "      <th>mean</th>\n",
        "      <td>       2.306879</td>\n",
        "      <td>       1.152022</td>\n",
        "      <td>       1.214953</td>\n",
        "    </tr>\n",
        "    <tr>\n",
        "      <th>std</th>\n",
        "      <td>      92.491569</td>\n",
        "      <td>      34.765826</td>\n",
        "      <td>      22.399237</td>\n",
        "    </tr>\n",
        "    <tr>\n",
        "      <th>min</th>\n",
        "      <td>       0.000000</td>\n",
        "      <td>       0.000000</td>\n",
        "      <td>       0.000000</td>\n",
        "    </tr>\n",
        "    <tr>\n",
        "      <th>25%</th>\n",
        "      <td>       0.000000</td>\n",
        "      <td>       0.000000</td>\n",
        "      <td>       0.000000</td>\n",
        "    </tr>\n",
        "    <tr>\n",
        "      <th>50%</th>\n",
        "      <td>       0.000000</td>\n",
        "      <td>       0.000000</td>\n",
        "      <td>       0.000000</td>\n",
        "    </tr>\n",
        "    <tr>\n",
        "      <th>75%</th>\n",
        "      <td>       0.000000</td>\n",
        "      <td>       0.000000</td>\n",
        "      <td>       0.000000</td>\n",
        "    </tr>\n",
        "    <tr>\n",
        "      <th>max</th>\n",
        "      <td>   81851.000000</td>\n",
        "      <td>   35019.000000</td>\n",
        "      <td>    7020.000000</td>\n",
        "    </tr>\n",
        "  </tbody>\n",
        "</table>\n",
        "</div>"
       ],
       "metadata": {},
       "output_type": "pyout",
       "prompt_number": 4,
       "text": [
        "        forward_count   comment_count      like_count\n",
        "count  1626750.000000  1626750.000000  1626750.000000\n",
        "mean         2.306879        1.152022        1.214953\n",
        "std         92.491569       34.765826       22.399237\n",
        "min          0.000000        0.000000        0.000000\n",
        "25%          0.000000        0.000000        0.000000\n",
        "50%          0.000000        0.000000        0.000000\n",
        "75%          0.000000        0.000000        0.000000\n",
        "max      81851.000000    35019.000000     7020.000000"
       ]
      }
     ],
     "prompt_number": 4
    },
    {
     "cell_type": "code",
     "collapsed": false,
     "input": [
      "fw.weibo_predict_data.describe()"
     ],
     "language": "python",
     "metadata": {},
     "outputs": [
      {
       "html": [
        "<div style=\"max-height:1000px;max-width:1500px;overflow:auto;\">\n",
        "<table border=\"1\" class=\"dataframe\">\n",
        "  <thead>\n",
        "    <tr style=\"text-align: right;\">\n",
        "      <th></th>\n",
        "      <th>uid</th>\n",
        "      <th>mid</th>\n",
        "      <th>time</th>\n",
        "      <th>context</th>\n",
        "    </tr>\n",
        "  </thead>\n",
        "  <tbody>\n",
        "    <tr>\n",
        "      <th>count</th>\n",
        "      <td>                           275331</td>\n",
        "      <td>                           275331</td>\n",
        "      <td>     275331</td>\n",
        "      <td>                                            275331</td>\n",
        "    </tr>\n",
        "    <tr>\n",
        "      <th>unique</th>\n",
        "      <td>                            24818</td>\n",
        "      <td>                           275331</td>\n",
        "      <td>         32</td>\n",
        "      <td>                                            228038</td>\n",
        "    </tr>\n",
        "    <tr>\n",
        "      <th>top</th>\n",
        "      <td> 875a4a77b339d93f819e2c4de5bd0b57</td>\n",
        "      <td> c2a882d8859f09387be2cfb5717a744c</td>\n",
        "      <td> 2015-01-01</td>\n",
        "      <td> \u8ba9\u4f60\u4ece\u6b64\u6f6e\u8d77\u6765\uff01[\u9177]\u6700\u8fd1\u8eab\u8fb9\u7684\u670b\u53cb\u4eec\u90fd\u7279\u522b\u6f6e\uff0c\u6b7b\u78e8\u786c\u6ce1\u624d\u77e5\u9053[\u53ef\u601c]\u539f\u6765\u5927\u5bb6\u90fd\u5728\u5de5\u5382\u5e97\u4e70\u7684...</td>\n",
        "    </tr>\n",
        "    <tr>\n",
        "      <th>freq</th>\n",
        "      <td>                             8516</td>\n",
        "      <td>                                1</td>\n",
        "      <td>      11620</td>\n",
        "      <td>                                              2891</td>\n",
        "    </tr>\n",
        "  </tbody>\n",
        "</table>\n",
        "</div>"
       ],
       "metadata": {},
       "output_type": "pyout",
       "prompt_number": 5,
       "text": [
        "                                     uid                               mid  \\\n",
        "count                             275331                            275331   \n",
        "unique                             24818                            275331   \n",
        "top     875a4a77b339d93f819e2c4de5bd0b57  c2a882d8859f09387be2cfb5717a744c   \n",
        "freq                                8516                                 1   \n",
        "\n",
        "              time                                            context  \n",
        "count       275331                                             275331  \n",
        "unique          32                                             228038  \n",
        "top     2015-01-01  \u8ba9\u4f60\u4ece\u6b64\u6f6e\u8d77\u6765\uff01[\u9177]\u6700\u8fd1\u8eab\u8fb9\u7684\u670b\u53cb\u4eec\u90fd\u7279\u522b\u6f6e\uff0c\u6b7b\u78e8\u786c\u6ce1\u624d\u77e5\u9053[\u53ef\u601c]\u539f\u6765\u5927\u5bb6\u90fd\u5728\u5de5\u5382\u5e97\u4e70\u7684...  \n",
        "freq         11620                                               2891  "
       ]
      }
     ],
     "prompt_number": 5
    },
    {
     "cell_type": "code",
     "collapsed": false,
     "input": [
      "fw.weibo_train_data[['uid','mid','tick_paramsme','context']].describe()"
     ],
     "language": "python",
     "metadata": {},
     "outputs": [
      {
       "ename": "KeyError",
       "evalue": "\"['tick_paramsme'] not in index\"",
       "output_type": "pyerr",
       "traceback": [
        "\u001b[0;31m---------------------------------------------------------------------------\u001b[0m\n\u001b[0;31mKeyError\u001b[0m                                  Traceback (most recent call last)",
        "\u001b[0;32m<ipython-input-6-eb4df01e5ce2>\u001b[0m in \u001b[0;36m<module>\u001b[0;34m()\u001b[0m\n\u001b[0;32m----> 1\u001b[0;31m \u001b[0mfw\u001b[0m\u001b[0;34m.\u001b[0m\u001b[0mweibo_train_data\u001b[0m\u001b[0;34m[\u001b[0m\u001b[0;34m[\u001b[0m\u001b[0;34m'uid'\u001b[0m\u001b[0;34m,\u001b[0m\u001b[0;34m'mid'\u001b[0m\u001b[0;34m,\u001b[0m\u001b[0;34m'tick_paramsme'\u001b[0m\u001b[0;34m,\u001b[0m\u001b[0;34m'context'\u001b[0m\u001b[0;34m]\u001b[0m\u001b[0;34m]\u001b[0m\u001b[0;34m.\u001b[0m\u001b[0mdescribe\u001b[0m\u001b[0;34m(\u001b[0m\u001b[0;34m)\u001b[0m\u001b[0;34m\u001b[0m\u001b[0m\n\u001b[0m",
        "\u001b[0;32m/Users/Pro/canopy/lib/python2.7/site-packages/pandas/core/frame.pyc\u001b[0m in \u001b[0;36m__getitem__\u001b[0;34m(self, key)\u001b[0m\n\u001b[1;32m   1676\u001b[0m         \u001b[0;32mif\u001b[0m \u001b[0misinstance\u001b[0m\u001b[0;34m(\u001b[0m\u001b[0mkey\u001b[0m\u001b[0;34m,\u001b[0m \u001b[0;34m(\u001b[0m\u001b[0mSeries\u001b[0m\u001b[0;34m,\u001b[0m \u001b[0mnp\u001b[0m\u001b[0;34m.\u001b[0m\u001b[0mndarray\u001b[0m\u001b[0;34m,\u001b[0m \u001b[0mlist\u001b[0m\u001b[0;34m)\u001b[0m\u001b[0;34m)\u001b[0m\u001b[0;34m:\u001b[0m\u001b[0;34m\u001b[0m\u001b[0m\n\u001b[1;32m   1677\u001b[0m             \u001b[0;31m# either boolean or fancy integer index\u001b[0m\u001b[0;34m\u001b[0m\u001b[0;34m\u001b[0m\u001b[0m\n\u001b[0;32m-> 1678\u001b[0;31m             \u001b[0;32mreturn\u001b[0m \u001b[0mself\u001b[0m\u001b[0;34m.\u001b[0m\u001b[0m_getitem_array\u001b[0m\u001b[0;34m(\u001b[0m\u001b[0mkey\u001b[0m\u001b[0;34m)\u001b[0m\u001b[0;34m\u001b[0m\u001b[0m\n\u001b[0m\u001b[1;32m   1679\u001b[0m         \u001b[0;32melif\u001b[0m \u001b[0misinstance\u001b[0m\u001b[0;34m(\u001b[0m\u001b[0mkey\u001b[0m\u001b[0;34m,\u001b[0m \u001b[0mDataFrame\u001b[0m\u001b[0;34m)\u001b[0m\u001b[0;34m:\u001b[0m\u001b[0;34m\u001b[0m\u001b[0m\n\u001b[1;32m   1680\u001b[0m             \u001b[0;32mreturn\u001b[0m \u001b[0mself\u001b[0m\u001b[0;34m.\u001b[0m\u001b[0m_getitem_frame\u001b[0m\u001b[0;34m(\u001b[0m\u001b[0mkey\u001b[0m\u001b[0;34m)\u001b[0m\u001b[0;34m\u001b[0m\u001b[0m\n",
        "\u001b[0;32m/Users/Pro/canopy/lib/python2.7/site-packages/pandas/core/frame.pyc\u001b[0m in \u001b[0;36m_getitem_array\u001b[0;34m(self, key)\u001b[0m\n\u001b[1;32m   1720\u001b[0m             \u001b[0;32mreturn\u001b[0m \u001b[0mself\u001b[0m\u001b[0;34m.\u001b[0m\u001b[0mtake\u001b[0m\u001b[0;34m(\u001b[0m\u001b[0mindexer\u001b[0m\u001b[0;34m,\u001b[0m \u001b[0maxis\u001b[0m\u001b[0;34m=\u001b[0m\u001b[0;36m0\u001b[0m\u001b[0;34m,\u001b[0m \u001b[0mconvert\u001b[0m\u001b[0;34m=\u001b[0m\u001b[0mFalse\u001b[0m\u001b[0;34m)\u001b[0m\u001b[0;34m\u001b[0m\u001b[0m\n\u001b[1;32m   1721\u001b[0m         \u001b[0;32melse\u001b[0m\u001b[0;34m:\u001b[0m\u001b[0;34m\u001b[0m\u001b[0m\n\u001b[0;32m-> 1722\u001b[0;31m             \u001b[0mindexer\u001b[0m \u001b[0;34m=\u001b[0m \u001b[0mself\u001b[0m\u001b[0;34m.\u001b[0m\u001b[0mix\u001b[0m\u001b[0;34m.\u001b[0m\u001b[0m_convert_to_indexer\u001b[0m\u001b[0;34m(\u001b[0m\u001b[0mkey\u001b[0m\u001b[0;34m,\u001b[0m \u001b[0maxis\u001b[0m\u001b[0;34m=\u001b[0m\u001b[0;36m1\u001b[0m\u001b[0;34m)\u001b[0m\u001b[0;34m\u001b[0m\u001b[0m\n\u001b[0m\u001b[1;32m   1723\u001b[0m             \u001b[0;32mreturn\u001b[0m \u001b[0mself\u001b[0m\u001b[0;34m.\u001b[0m\u001b[0mtake\u001b[0m\u001b[0;34m(\u001b[0m\u001b[0mindexer\u001b[0m\u001b[0;34m,\u001b[0m \u001b[0maxis\u001b[0m\u001b[0;34m=\u001b[0m\u001b[0;36m1\u001b[0m\u001b[0;34m,\u001b[0m \u001b[0mconvert\u001b[0m\u001b[0;34m=\u001b[0m\u001b[0mTrue\u001b[0m\u001b[0;34m)\u001b[0m\u001b[0;34m\u001b[0m\u001b[0m\n\u001b[1;32m   1724\u001b[0m \u001b[0;34m\u001b[0m\u001b[0m\n",
        "\u001b[0;32m/Users/Pro/canopy/lib/python2.7/site-packages/pandas/core/indexing.pyc\u001b[0m in \u001b[0;36m_convert_to_indexer\u001b[0;34m(self, obj, axis, is_setter)\u001b[0m\n\u001b[1;32m   1066\u001b[0m                     \u001b[0;32mif\u001b[0m \u001b[0misinstance\u001b[0m\u001b[0;34m(\u001b[0m\u001b[0mobj\u001b[0m\u001b[0;34m,\u001b[0m \u001b[0mtuple\u001b[0m\u001b[0;34m)\u001b[0m \u001b[0;32mand\u001b[0m \u001b[0mis_setter\u001b[0m\u001b[0;34m:\u001b[0m\u001b[0;34m\u001b[0m\u001b[0m\n\u001b[1;32m   1067\u001b[0m                         \u001b[0;32mreturn\u001b[0m \u001b[0;34m{\u001b[0m\u001b[0;34m'key'\u001b[0m\u001b[0;34m:\u001b[0m \u001b[0mobj\u001b[0m\u001b[0;34m}\u001b[0m\u001b[0;34m\u001b[0m\u001b[0m\n\u001b[0;32m-> 1068\u001b[0;31m                     \u001b[0;32mraise\u001b[0m \u001b[0mKeyError\u001b[0m\u001b[0;34m(\u001b[0m\u001b[0;34m'%s not in index'\u001b[0m \u001b[0;34m%\u001b[0m \u001b[0mobjarr\u001b[0m\u001b[0;34m[\u001b[0m\u001b[0mmask\u001b[0m\u001b[0;34m]\u001b[0m\u001b[0;34m)\u001b[0m\u001b[0;34m\u001b[0m\u001b[0m\n\u001b[0m\u001b[1;32m   1069\u001b[0m \u001b[0;34m\u001b[0m\u001b[0m\n\u001b[1;32m   1070\u001b[0m                 \u001b[0;32mreturn\u001b[0m \u001b[0mindexer\u001b[0m\u001b[0;34m\u001b[0m\u001b[0m\n",
        "\u001b[0;31mKeyError\u001b[0m: \"['tick_paramsme'] not in index\""
       ]
      }
     ],
     "prompt_number": 6
    },
    {
     "cell_type": "code",
     "collapsed": false,
     "input": [
      "fw.weibo_train_data['uid','mid','tick_paramsme','context'].describe()"
     ],
     "language": "python",
     "metadata": {},
     "outputs": [
      {
       "ename": "KeyError",
       "evalue": "('uid', 'mid', 'tick_paramsme', 'context')",
       "output_type": "pyerr",
       "traceback": [
        "\u001b[0;31m---------------------------------------------------------------------------\u001b[0m\n\u001b[0;31mKeyError\u001b[0m                                  Traceback (most recent call last)",
        "\u001b[0;32m<ipython-input-7-ba8abb326e7d>\u001b[0m in \u001b[0;36m<module>\u001b[0;34m()\u001b[0m\n\u001b[0;32m----> 1\u001b[0;31m \u001b[0mfw\u001b[0m\u001b[0;34m.\u001b[0m\u001b[0mweibo_train_data\u001b[0m\u001b[0;34m[\u001b[0m\u001b[0;34m'uid'\u001b[0m\u001b[0;34m,\u001b[0m\u001b[0;34m'mid'\u001b[0m\u001b[0;34m,\u001b[0m\u001b[0;34m'tick_paramsme'\u001b[0m\u001b[0;34m,\u001b[0m\u001b[0;34m'context'\u001b[0m\u001b[0;34m]\u001b[0m\u001b[0;34m.\u001b[0m\u001b[0mdescribe\u001b[0m\u001b[0;34m(\u001b[0m\u001b[0;34m)\u001b[0m\u001b[0;34m\u001b[0m\u001b[0m\n\u001b[0m",
        "\u001b[0;32m/Users/Pro/canopy/lib/python2.7/site-packages/pandas/core/frame.pyc\u001b[0m in \u001b[0;36m__getitem__\u001b[0;34m(self, key)\u001b[0m\n\u001b[1;32m   1682\u001b[0m             \u001b[0;32mreturn\u001b[0m \u001b[0mself\u001b[0m\u001b[0;34m.\u001b[0m\u001b[0m_getitem_multilevel\u001b[0m\u001b[0;34m(\u001b[0m\u001b[0mkey\u001b[0m\u001b[0;34m)\u001b[0m\u001b[0;34m\u001b[0m\u001b[0m\n\u001b[1;32m   1683\u001b[0m         \u001b[0;32melse\u001b[0m\u001b[0;34m:\u001b[0m\u001b[0;34m\u001b[0m\u001b[0m\n\u001b[0;32m-> 1684\u001b[0;31m             \u001b[0;32mreturn\u001b[0m \u001b[0mself\u001b[0m\u001b[0;34m.\u001b[0m\u001b[0m_getitem_column\u001b[0m\u001b[0;34m(\u001b[0m\u001b[0mkey\u001b[0m\u001b[0;34m)\u001b[0m\u001b[0;34m\u001b[0m\u001b[0m\n\u001b[0m\u001b[1;32m   1685\u001b[0m \u001b[0;34m\u001b[0m\u001b[0m\n\u001b[1;32m   1686\u001b[0m     \u001b[0;32mdef\u001b[0m \u001b[0m_getitem_column\u001b[0m\u001b[0;34m(\u001b[0m\u001b[0mself\u001b[0m\u001b[0;34m,\u001b[0m \u001b[0mkey\u001b[0m\u001b[0;34m)\u001b[0m\u001b[0;34m:\u001b[0m\u001b[0;34m\u001b[0m\u001b[0m\n",
        "\u001b[0;32m/Users/Pro/canopy/lib/python2.7/site-packages/pandas/core/frame.pyc\u001b[0m in \u001b[0;36m_getitem_column\u001b[0;34m(self, key)\u001b[0m\n\u001b[1;32m   1689\u001b[0m         \u001b[0;31m# get column\u001b[0m\u001b[0;34m\u001b[0m\u001b[0;34m\u001b[0m\u001b[0m\n\u001b[1;32m   1690\u001b[0m         \u001b[0;32mif\u001b[0m \u001b[0mself\u001b[0m\u001b[0;34m.\u001b[0m\u001b[0mcolumns\u001b[0m\u001b[0;34m.\u001b[0m\u001b[0mis_unique\u001b[0m\u001b[0;34m:\u001b[0m\u001b[0;34m\u001b[0m\u001b[0m\n\u001b[0;32m-> 1691\u001b[0;31m             \u001b[0;32mreturn\u001b[0m \u001b[0mself\u001b[0m\u001b[0;34m.\u001b[0m\u001b[0m_get_item_cache\u001b[0m\u001b[0;34m(\u001b[0m\u001b[0mkey\u001b[0m\u001b[0;34m)\u001b[0m\u001b[0;34m\u001b[0m\u001b[0m\n\u001b[0m\u001b[1;32m   1692\u001b[0m \u001b[0;34m\u001b[0m\u001b[0m\n\u001b[1;32m   1693\u001b[0m         \u001b[0;31m# duplicate columns & possible reduce dimensionaility\u001b[0m\u001b[0;34m\u001b[0m\u001b[0;34m\u001b[0m\u001b[0m\n",
        "\u001b[0;32m/Users/Pro/canopy/lib/python2.7/site-packages/pandas/core/generic.pyc\u001b[0m in \u001b[0;36m_get_item_cache\u001b[0;34m(self, item)\u001b[0m\n\u001b[1;32m   1050\u001b[0m         \u001b[0mres\u001b[0m \u001b[0;34m=\u001b[0m \u001b[0mcache\u001b[0m\u001b[0;34m.\u001b[0m\u001b[0mget\u001b[0m\u001b[0;34m(\u001b[0m\u001b[0mitem\u001b[0m\u001b[0;34m)\u001b[0m\u001b[0;34m\u001b[0m\u001b[0m\n\u001b[1;32m   1051\u001b[0m         \u001b[0;32mif\u001b[0m \u001b[0mres\u001b[0m \u001b[0;32mis\u001b[0m \u001b[0mNone\u001b[0m\u001b[0;34m:\u001b[0m\u001b[0;34m\u001b[0m\u001b[0m\n\u001b[0;32m-> 1052\u001b[0;31m             \u001b[0mvalues\u001b[0m \u001b[0;34m=\u001b[0m \u001b[0mself\u001b[0m\u001b[0;34m.\u001b[0m\u001b[0m_data\u001b[0m\u001b[0;34m.\u001b[0m\u001b[0mget\u001b[0m\u001b[0;34m(\u001b[0m\u001b[0mitem\u001b[0m\u001b[0;34m)\u001b[0m\u001b[0;34m\u001b[0m\u001b[0m\n\u001b[0m\u001b[1;32m   1053\u001b[0m             \u001b[0mres\u001b[0m \u001b[0;34m=\u001b[0m \u001b[0mself\u001b[0m\u001b[0;34m.\u001b[0m\u001b[0m_box_item_values\u001b[0m\u001b[0;34m(\u001b[0m\u001b[0mitem\u001b[0m\u001b[0;34m,\u001b[0m \u001b[0mvalues\u001b[0m\u001b[0;34m)\u001b[0m\u001b[0;34m\u001b[0m\u001b[0m\n\u001b[1;32m   1054\u001b[0m             \u001b[0mcache\u001b[0m\u001b[0;34m[\u001b[0m\u001b[0mitem\u001b[0m\u001b[0;34m]\u001b[0m \u001b[0;34m=\u001b[0m \u001b[0mres\u001b[0m\u001b[0;34m\u001b[0m\u001b[0m\n",
        "\u001b[0;32m/Users/Pro/canopy/lib/python2.7/site-packages/pandas/core/internals.pyc\u001b[0m in \u001b[0;36mget\u001b[0;34m(self, item)\u001b[0m\n\u001b[1;32m   2535\u001b[0m \u001b[0;34m\u001b[0m\u001b[0m\n\u001b[1;32m   2536\u001b[0m             \u001b[0;32mif\u001b[0m \u001b[0;32mnot\u001b[0m \u001b[0misnull\u001b[0m\u001b[0;34m(\u001b[0m\u001b[0mitem\u001b[0m\u001b[0;34m)\u001b[0m\u001b[0;34m:\u001b[0m\u001b[0;34m\u001b[0m\u001b[0m\n\u001b[0;32m-> 2537\u001b[0;31m                 \u001b[0mloc\u001b[0m \u001b[0;34m=\u001b[0m \u001b[0mself\u001b[0m\u001b[0;34m.\u001b[0m\u001b[0mitems\u001b[0m\u001b[0;34m.\u001b[0m\u001b[0mget_loc\u001b[0m\u001b[0;34m(\u001b[0m\u001b[0mitem\u001b[0m\u001b[0;34m)\u001b[0m\u001b[0;34m\u001b[0m\u001b[0m\n\u001b[0m\u001b[1;32m   2538\u001b[0m             \u001b[0;32melse\u001b[0m\u001b[0;34m:\u001b[0m\u001b[0;34m\u001b[0m\u001b[0m\n\u001b[1;32m   2539\u001b[0m                 \u001b[0mindexer\u001b[0m \u001b[0;34m=\u001b[0m \u001b[0mnp\u001b[0m\u001b[0;34m.\u001b[0m\u001b[0marange\u001b[0m\u001b[0;34m(\u001b[0m\u001b[0mlen\u001b[0m\u001b[0;34m(\u001b[0m\u001b[0mself\u001b[0m\u001b[0;34m.\u001b[0m\u001b[0mitems\u001b[0m\u001b[0;34m)\u001b[0m\u001b[0;34m)\u001b[0m\u001b[0;34m[\u001b[0m\u001b[0misnull\u001b[0m\u001b[0;34m(\u001b[0m\u001b[0mself\u001b[0m\u001b[0;34m.\u001b[0m\u001b[0mitems\u001b[0m\u001b[0;34m)\u001b[0m\u001b[0;34m]\u001b[0m\u001b[0;34m\u001b[0m\u001b[0m\n",
        "\u001b[0;32m/Users/Pro/canopy/lib/python2.7/site-packages/pandas/core/index.pyc\u001b[0m in \u001b[0;36mget_loc\u001b[0;34m(self, key)\u001b[0m\n\u001b[1;32m   1154\u001b[0m         \u001b[0mloc\u001b[0m \u001b[0;34m:\u001b[0m \u001b[0mint\u001b[0m \u001b[0;32mif\u001b[0m \u001b[0munique\u001b[0m \u001b[0mindex\u001b[0m\u001b[0;34m,\u001b[0m \u001b[0mpossibly\u001b[0m \u001b[0mslice\u001b[0m \u001b[0;32mor\u001b[0m \u001b[0mmask\u001b[0m \u001b[0;32mif\u001b[0m \u001b[0;32mnot\u001b[0m\u001b[0;34m\u001b[0m\u001b[0m\n\u001b[1;32m   1155\u001b[0m         \"\"\"\n\u001b[0;32m-> 1156\u001b[0;31m         \u001b[0;32mreturn\u001b[0m \u001b[0mself\u001b[0m\u001b[0;34m.\u001b[0m\u001b[0m_engine\u001b[0m\u001b[0;34m.\u001b[0m\u001b[0mget_loc\u001b[0m\u001b[0;34m(\u001b[0m\u001b[0m_values_from_object\u001b[0m\u001b[0;34m(\u001b[0m\u001b[0mkey\u001b[0m\u001b[0;34m)\u001b[0m\u001b[0;34m)\u001b[0m\u001b[0;34m\u001b[0m\u001b[0m\n\u001b[0m\u001b[1;32m   1157\u001b[0m \u001b[0;34m\u001b[0m\u001b[0m\n\u001b[1;32m   1158\u001b[0m     \u001b[0;32mdef\u001b[0m \u001b[0mget_value\u001b[0m\u001b[0;34m(\u001b[0m\u001b[0mself\u001b[0m\u001b[0;34m,\u001b[0m \u001b[0mseries\u001b[0m\u001b[0;34m,\u001b[0m \u001b[0mkey\u001b[0m\u001b[0;34m)\u001b[0m\u001b[0;34m:\u001b[0m\u001b[0;34m\u001b[0m\u001b[0m\n",
        "\u001b[0;32m/Users/Pro/canopy/lib/python2.7/site-packages/pandas/index.so\u001b[0m in \u001b[0;36mpandas.index.IndexEngine.get_loc (pandas/index.c:3353)\u001b[0;34m()\u001b[0m\n",
        "\u001b[0;32m/Users/Pro/canopy/lib/python2.7/site-packages/pandas/index.so\u001b[0m in \u001b[0;36mpandas.index.IndexEngine.get_loc (pandas/index.c:3233)\u001b[0;34m()\u001b[0m\n",
        "\u001b[0;32m/Users/Pro/canopy/lib/python2.7/site-packages/pandas/hashtable.so\u001b[0m in \u001b[0;36mpandas.hashtable.PyObjectHashTable.get_item (pandas/hashtable.c:11148)\u001b[0;34m()\u001b[0m\n",
        "\u001b[0;32m/Users/Pro/canopy/lib/python2.7/site-packages/pandas/hashtable.so\u001b[0m in \u001b[0;36mpandas.hashtable.PyObjectHashTable.get_item (pandas/hashtable.c:11101)\u001b[0;34m()\u001b[0m\n",
        "\u001b[0;31mKeyError\u001b[0m: ('uid', 'mid', 'tick_paramsme', 'context')"
       ]
      }
     ],
     "prompt_number": 7
    },
    {
     "cell_type": "code",
     "collapsed": false,
     "input": [
      "fw.weibo_train_data['uid'].describe()"
     ],
     "language": "python",
     "metadata": {},
     "outputs": [
      {
       "metadata": {},
       "output_type": "pyout",
       "prompt_number": 8,
       "text": [
        "count                              1626750\n",
        "unique                               45671\n",
        "top       875a4a77b339d93f819e2c4de5bd0b57\n",
        "freq                                 46873\n",
        "dtype: object"
       ]
      }
     ],
     "prompt_number": 8
    },
    {
     "cell_type": "code",
     "collapsed": false,
     "input": [
      "fw.weibo_train_data['uid','mid'].describe()"
     ],
     "language": "python",
     "metadata": {},
     "outputs": [
      {
       "ename": "KeyError",
       "evalue": "('uid', 'mid')",
       "output_type": "pyerr",
       "traceback": [
        "\u001b[0;31m---------------------------------------------------------------------------\u001b[0m\n\u001b[0;31mKeyError\u001b[0m                                  Traceback (most recent call last)",
        "\u001b[0;32m<ipython-input-9-04c4be64218f>\u001b[0m in \u001b[0;36m<module>\u001b[0;34m()\u001b[0m\n\u001b[0;32m----> 1\u001b[0;31m \u001b[0mfw\u001b[0m\u001b[0;34m.\u001b[0m\u001b[0mweibo_train_data\u001b[0m\u001b[0;34m[\u001b[0m\u001b[0;34m'uid'\u001b[0m\u001b[0;34m,\u001b[0m\u001b[0;34m'mid'\u001b[0m\u001b[0;34m]\u001b[0m\u001b[0;34m.\u001b[0m\u001b[0mdescribe\u001b[0m\u001b[0;34m(\u001b[0m\u001b[0;34m)\u001b[0m\u001b[0;34m\u001b[0m\u001b[0m\n\u001b[0m",
        "\u001b[0;32m/Users/Pro/canopy/lib/python2.7/site-packages/pandas/core/frame.pyc\u001b[0m in \u001b[0;36m__getitem__\u001b[0;34m(self, key)\u001b[0m\n\u001b[1;32m   1682\u001b[0m             \u001b[0;32mreturn\u001b[0m \u001b[0mself\u001b[0m\u001b[0;34m.\u001b[0m\u001b[0m_getitem_multilevel\u001b[0m\u001b[0;34m(\u001b[0m\u001b[0mkey\u001b[0m\u001b[0;34m)\u001b[0m\u001b[0;34m\u001b[0m\u001b[0m\n\u001b[1;32m   1683\u001b[0m         \u001b[0;32melse\u001b[0m\u001b[0;34m:\u001b[0m\u001b[0;34m\u001b[0m\u001b[0m\n\u001b[0;32m-> 1684\u001b[0;31m             \u001b[0;32mreturn\u001b[0m \u001b[0mself\u001b[0m\u001b[0;34m.\u001b[0m\u001b[0m_getitem_column\u001b[0m\u001b[0;34m(\u001b[0m\u001b[0mkey\u001b[0m\u001b[0;34m)\u001b[0m\u001b[0;34m\u001b[0m\u001b[0m\n\u001b[0m\u001b[1;32m   1685\u001b[0m \u001b[0;34m\u001b[0m\u001b[0m\n\u001b[1;32m   1686\u001b[0m     \u001b[0;32mdef\u001b[0m \u001b[0m_getitem_column\u001b[0m\u001b[0;34m(\u001b[0m\u001b[0mself\u001b[0m\u001b[0;34m,\u001b[0m \u001b[0mkey\u001b[0m\u001b[0;34m)\u001b[0m\u001b[0;34m:\u001b[0m\u001b[0;34m\u001b[0m\u001b[0m\n",
        "\u001b[0;32m/Users/Pro/canopy/lib/python2.7/site-packages/pandas/core/frame.pyc\u001b[0m in \u001b[0;36m_getitem_column\u001b[0;34m(self, key)\u001b[0m\n\u001b[1;32m   1689\u001b[0m         \u001b[0;31m# get column\u001b[0m\u001b[0;34m\u001b[0m\u001b[0;34m\u001b[0m\u001b[0m\n\u001b[1;32m   1690\u001b[0m         \u001b[0;32mif\u001b[0m \u001b[0mself\u001b[0m\u001b[0;34m.\u001b[0m\u001b[0mcolumns\u001b[0m\u001b[0;34m.\u001b[0m\u001b[0mis_unique\u001b[0m\u001b[0;34m:\u001b[0m\u001b[0;34m\u001b[0m\u001b[0m\n\u001b[0;32m-> 1691\u001b[0;31m             \u001b[0;32mreturn\u001b[0m \u001b[0mself\u001b[0m\u001b[0;34m.\u001b[0m\u001b[0m_get_item_cache\u001b[0m\u001b[0;34m(\u001b[0m\u001b[0mkey\u001b[0m\u001b[0;34m)\u001b[0m\u001b[0;34m\u001b[0m\u001b[0m\n\u001b[0m\u001b[1;32m   1692\u001b[0m \u001b[0;34m\u001b[0m\u001b[0m\n\u001b[1;32m   1693\u001b[0m         \u001b[0;31m# duplicate columns & possible reduce dimensionaility\u001b[0m\u001b[0;34m\u001b[0m\u001b[0;34m\u001b[0m\u001b[0m\n",
        "\u001b[0;32m/Users/Pro/canopy/lib/python2.7/site-packages/pandas/core/generic.pyc\u001b[0m in \u001b[0;36m_get_item_cache\u001b[0;34m(self, item)\u001b[0m\n\u001b[1;32m   1050\u001b[0m         \u001b[0mres\u001b[0m \u001b[0;34m=\u001b[0m \u001b[0mcache\u001b[0m\u001b[0;34m.\u001b[0m\u001b[0mget\u001b[0m\u001b[0;34m(\u001b[0m\u001b[0mitem\u001b[0m\u001b[0;34m)\u001b[0m\u001b[0;34m\u001b[0m\u001b[0m\n\u001b[1;32m   1051\u001b[0m         \u001b[0;32mif\u001b[0m \u001b[0mres\u001b[0m \u001b[0;32mis\u001b[0m \u001b[0mNone\u001b[0m\u001b[0;34m:\u001b[0m\u001b[0;34m\u001b[0m\u001b[0m\n\u001b[0;32m-> 1052\u001b[0;31m             \u001b[0mvalues\u001b[0m \u001b[0;34m=\u001b[0m \u001b[0mself\u001b[0m\u001b[0;34m.\u001b[0m\u001b[0m_data\u001b[0m\u001b[0;34m.\u001b[0m\u001b[0mget\u001b[0m\u001b[0;34m(\u001b[0m\u001b[0mitem\u001b[0m\u001b[0;34m)\u001b[0m\u001b[0;34m\u001b[0m\u001b[0m\n\u001b[0m\u001b[1;32m   1053\u001b[0m             \u001b[0mres\u001b[0m \u001b[0;34m=\u001b[0m \u001b[0mself\u001b[0m\u001b[0;34m.\u001b[0m\u001b[0m_box_item_values\u001b[0m\u001b[0;34m(\u001b[0m\u001b[0mitem\u001b[0m\u001b[0;34m,\u001b[0m \u001b[0mvalues\u001b[0m\u001b[0;34m)\u001b[0m\u001b[0;34m\u001b[0m\u001b[0m\n\u001b[1;32m   1054\u001b[0m             \u001b[0mcache\u001b[0m\u001b[0;34m[\u001b[0m\u001b[0mitem\u001b[0m\u001b[0;34m]\u001b[0m \u001b[0;34m=\u001b[0m \u001b[0mres\u001b[0m\u001b[0;34m\u001b[0m\u001b[0m\n",
        "\u001b[0;32m/Users/Pro/canopy/lib/python2.7/site-packages/pandas/core/internals.pyc\u001b[0m in \u001b[0;36mget\u001b[0;34m(self, item)\u001b[0m\n\u001b[1;32m   2535\u001b[0m \u001b[0;34m\u001b[0m\u001b[0m\n\u001b[1;32m   2536\u001b[0m             \u001b[0;32mif\u001b[0m \u001b[0;32mnot\u001b[0m \u001b[0misnull\u001b[0m\u001b[0;34m(\u001b[0m\u001b[0mitem\u001b[0m\u001b[0;34m)\u001b[0m\u001b[0;34m:\u001b[0m\u001b[0;34m\u001b[0m\u001b[0m\n\u001b[0;32m-> 2537\u001b[0;31m                 \u001b[0mloc\u001b[0m \u001b[0;34m=\u001b[0m \u001b[0mself\u001b[0m\u001b[0;34m.\u001b[0m\u001b[0mitems\u001b[0m\u001b[0;34m.\u001b[0m\u001b[0mget_loc\u001b[0m\u001b[0;34m(\u001b[0m\u001b[0mitem\u001b[0m\u001b[0;34m)\u001b[0m\u001b[0;34m\u001b[0m\u001b[0m\n\u001b[0m\u001b[1;32m   2538\u001b[0m             \u001b[0;32melse\u001b[0m\u001b[0;34m:\u001b[0m\u001b[0;34m\u001b[0m\u001b[0m\n\u001b[1;32m   2539\u001b[0m                 \u001b[0mindexer\u001b[0m \u001b[0;34m=\u001b[0m \u001b[0mnp\u001b[0m\u001b[0;34m.\u001b[0m\u001b[0marange\u001b[0m\u001b[0;34m(\u001b[0m\u001b[0mlen\u001b[0m\u001b[0;34m(\u001b[0m\u001b[0mself\u001b[0m\u001b[0;34m.\u001b[0m\u001b[0mitems\u001b[0m\u001b[0;34m)\u001b[0m\u001b[0;34m)\u001b[0m\u001b[0;34m[\u001b[0m\u001b[0misnull\u001b[0m\u001b[0;34m(\u001b[0m\u001b[0mself\u001b[0m\u001b[0;34m.\u001b[0m\u001b[0mitems\u001b[0m\u001b[0;34m)\u001b[0m\u001b[0;34m]\u001b[0m\u001b[0;34m\u001b[0m\u001b[0m\n",
        "\u001b[0;32m/Users/Pro/canopy/lib/python2.7/site-packages/pandas/core/index.pyc\u001b[0m in \u001b[0;36mget_loc\u001b[0;34m(self, key)\u001b[0m\n\u001b[1;32m   1154\u001b[0m         \u001b[0mloc\u001b[0m \u001b[0;34m:\u001b[0m \u001b[0mint\u001b[0m \u001b[0;32mif\u001b[0m \u001b[0munique\u001b[0m \u001b[0mindex\u001b[0m\u001b[0;34m,\u001b[0m \u001b[0mpossibly\u001b[0m \u001b[0mslice\u001b[0m \u001b[0;32mor\u001b[0m \u001b[0mmask\u001b[0m \u001b[0;32mif\u001b[0m \u001b[0;32mnot\u001b[0m\u001b[0;34m\u001b[0m\u001b[0m\n\u001b[1;32m   1155\u001b[0m         \"\"\"\n\u001b[0;32m-> 1156\u001b[0;31m         \u001b[0;32mreturn\u001b[0m \u001b[0mself\u001b[0m\u001b[0;34m.\u001b[0m\u001b[0m_engine\u001b[0m\u001b[0;34m.\u001b[0m\u001b[0mget_loc\u001b[0m\u001b[0;34m(\u001b[0m\u001b[0m_values_from_object\u001b[0m\u001b[0;34m(\u001b[0m\u001b[0mkey\u001b[0m\u001b[0;34m)\u001b[0m\u001b[0;34m)\u001b[0m\u001b[0;34m\u001b[0m\u001b[0m\n\u001b[0m\u001b[1;32m   1157\u001b[0m \u001b[0;34m\u001b[0m\u001b[0m\n\u001b[1;32m   1158\u001b[0m     \u001b[0;32mdef\u001b[0m \u001b[0mget_value\u001b[0m\u001b[0;34m(\u001b[0m\u001b[0mself\u001b[0m\u001b[0;34m,\u001b[0m \u001b[0mseries\u001b[0m\u001b[0;34m,\u001b[0m \u001b[0mkey\u001b[0m\u001b[0;34m)\u001b[0m\u001b[0;34m:\u001b[0m\u001b[0;34m\u001b[0m\u001b[0m\n",
        "\u001b[0;32m/Users/Pro/canopy/lib/python2.7/site-packages/pandas/index.so\u001b[0m in \u001b[0;36mpandas.index.IndexEngine.get_loc (pandas/index.c:3353)\u001b[0;34m()\u001b[0m\n",
        "\u001b[0;32m/Users/Pro/canopy/lib/python2.7/site-packages/pandas/index.so\u001b[0m in \u001b[0;36mpandas.index.IndexEngine.get_loc (pandas/index.c:3233)\u001b[0;34m()\u001b[0m\n",
        "\u001b[0;32m/Users/Pro/canopy/lib/python2.7/site-packages/pandas/hashtable.so\u001b[0m in \u001b[0;36mpandas.hashtable.PyObjectHashTable.get_item (pandas/hashtable.c:11148)\u001b[0;34m()\u001b[0m\n",
        "\u001b[0;32m/Users/Pro/canopy/lib/python2.7/site-packages/pandas/hashtable.so\u001b[0m in \u001b[0;36mpandas.hashtable.PyObjectHashTable.get_item (pandas/hashtable.c:11101)\u001b[0;34m()\u001b[0m\n",
        "\u001b[0;31mKeyError\u001b[0m: ('uid', 'mid')"
       ]
      }
     ],
     "prompt_number": 9
    },
    {
     "cell_type": "code",
     "collapsed": false,
     "input": [
      "fw.weibo_train_data[['uid','mid']].describe()"
     ],
     "language": "python",
     "metadata": {},
     "outputs": [
      {
       "html": [
        "<div style=\"max-height:1000px;max-width:1500px;overflow:auto;\">\n",
        "<table border=\"1\" class=\"dataframe\">\n",
        "  <thead>\n",
        "    <tr style=\"text-align: right;\">\n",
        "      <th></th>\n",
        "      <th>uid</th>\n",
        "      <th>mid</th>\n",
        "    </tr>\n",
        "  </thead>\n",
        "  <tbody>\n",
        "    <tr>\n",
        "      <th>count</th>\n",
        "      <td>                          1626750</td>\n",
        "      <td>                          1626750</td>\n",
        "    </tr>\n",
        "    <tr>\n",
        "      <th>unique</th>\n",
        "      <td>                            45671</td>\n",
        "      <td>                          1626750</td>\n",
        "    </tr>\n",
        "    <tr>\n",
        "      <th>top</th>\n",
        "      <td> 875a4a77b339d93f819e2c4de5bd0b57</td>\n",
        "      <td> d3cacc46be3868d9c3a7741b6b06d1e6</td>\n",
        "    </tr>\n",
        "    <tr>\n",
        "      <th>freq</th>\n",
        "      <td>                            46873</td>\n",
        "      <td>                                1</td>\n",
        "    </tr>\n",
        "  </tbody>\n",
        "</table>\n",
        "</div>"
       ],
       "metadata": {},
       "output_type": "pyout",
       "prompt_number": 10,
       "text": [
        "                                     uid                               mid\n",
        "count                            1626750                           1626750\n",
        "unique                             45671                           1626750\n",
        "top     875a4a77b339d93f819e2c4de5bd0b57  d3cacc46be3868d9c3a7741b6b06d1e6\n",
        "freq                               46873                                 1"
       ]
      }
     ],
     "prompt_number": 10
    },
    {
     "cell_type": "code",
     "collapsed": false,
     "input": [
      "fw.weibo_train_data.time.hist()"
     ],
     "language": "python",
     "metadata": {},
     "outputs": [
      {
       "ename": "TypeError",
       "evalue": "cannot concatenate 'str' and 'float' objects",
       "output_type": "pyerr",
       "traceback": [
        "\u001b[0;31m---------------------------------------------------------------------------\u001b[0m\n\u001b[0;31mTypeError\u001b[0m                                 Traceback (most recent call last)",
        "\u001b[0;32m<ipython-input-11-483e3aebf512>\u001b[0m in \u001b[0;36m<module>\u001b[0;34m()\u001b[0m\n\u001b[0;32m----> 1\u001b[0;31m \u001b[0mfw\u001b[0m\u001b[0;34m.\u001b[0m\u001b[0mweibo_train_data\u001b[0m\u001b[0;34m.\u001b[0m\u001b[0mtime\u001b[0m\u001b[0;34m.\u001b[0m\u001b[0mhist\u001b[0m\u001b[0;34m(\u001b[0m\u001b[0;34m)\u001b[0m\u001b[0;34m\u001b[0m\u001b[0m\n\u001b[0m",
        "\u001b[0;32m/Users/Pro/canopy/lib/python2.7/site-packages/pandas/tools/plotting.pyc\u001b[0m in \u001b[0;36mhist_series\u001b[0;34m(self, by, ax, grid, xlabelsize, xrot, ylabelsize, yrot, figsize, bins, **kwds)\u001b[0m\n\u001b[1;32m   2616\u001b[0m         \u001b[0mvalues\u001b[0m \u001b[0;34m=\u001b[0m \u001b[0mself\u001b[0m\u001b[0;34m.\u001b[0m\u001b[0mdropna\u001b[0m\u001b[0;34m(\u001b[0m\u001b[0;34m)\u001b[0m\u001b[0;34m.\u001b[0m\u001b[0mvalues\u001b[0m\u001b[0;34m\u001b[0m\u001b[0m\n\u001b[1;32m   2617\u001b[0m \u001b[0;34m\u001b[0m\u001b[0m\n\u001b[0;32m-> 2618\u001b[0;31m         \u001b[0max\u001b[0m\u001b[0;34m.\u001b[0m\u001b[0mhist\u001b[0m\u001b[0;34m(\u001b[0m\u001b[0mvalues\u001b[0m\u001b[0;34m,\u001b[0m \u001b[0mbins\u001b[0m\u001b[0;34m=\u001b[0m\u001b[0mbins\u001b[0m\u001b[0;34m,\u001b[0m \u001b[0;34m**\u001b[0m\u001b[0mkwds\u001b[0m\u001b[0;34m)\u001b[0m\u001b[0;34m\u001b[0m\u001b[0m\n\u001b[0m\u001b[1;32m   2619\u001b[0m         \u001b[0max\u001b[0m\u001b[0;34m.\u001b[0m\u001b[0mgrid\u001b[0m\u001b[0;34m(\u001b[0m\u001b[0mgrid\u001b[0m\u001b[0;34m)\u001b[0m\u001b[0;34m\u001b[0m\u001b[0m\n\u001b[1;32m   2620\u001b[0m         \u001b[0maxes\u001b[0m \u001b[0;34m=\u001b[0m \u001b[0mnp\u001b[0m\u001b[0;34m.\u001b[0m\u001b[0marray\u001b[0m\u001b[0;34m(\u001b[0m\u001b[0;34m[\u001b[0m\u001b[0max\u001b[0m\u001b[0;34m]\u001b[0m\u001b[0;34m)\u001b[0m\u001b[0;34m\u001b[0m\u001b[0m\n",
        "\u001b[0;32m/Users/Pro/canopy/lib/python2.7/site-packages/matplotlib/axes.pyc\u001b[0m in \u001b[0;36mhist\u001b[0;34m(self, x, bins, range, normed, weights, cumulative, bottom, histtype, align, orientation, rwidth, log, color, label, stacked, **kwargs)\u001b[0m\n\u001b[1;32m   8324\u001b[0m             \u001b[0;31m# this will automatically overwrite bins,\u001b[0m\u001b[0;34m\u001b[0m\u001b[0;34m\u001b[0m\u001b[0m\n\u001b[1;32m   8325\u001b[0m             \u001b[0;31m# so that each histogram uses the same bins\u001b[0m\u001b[0;34m\u001b[0m\u001b[0;34m\u001b[0m\u001b[0m\n\u001b[0;32m-> 8326\u001b[0;31m             \u001b[0mm\u001b[0m\u001b[0;34m,\u001b[0m \u001b[0mbins\u001b[0m \u001b[0;34m=\u001b[0m \u001b[0mnp\u001b[0m\u001b[0;34m.\u001b[0m\u001b[0mhistogram\u001b[0m\u001b[0;34m(\u001b[0m\u001b[0mx\u001b[0m\u001b[0;34m[\u001b[0m\u001b[0mi\u001b[0m\u001b[0;34m]\u001b[0m\u001b[0;34m,\u001b[0m \u001b[0mbins\u001b[0m\u001b[0;34m,\u001b[0m \u001b[0mweights\u001b[0m\u001b[0;34m=\u001b[0m\u001b[0mw\u001b[0m\u001b[0;34m[\u001b[0m\u001b[0mi\u001b[0m\u001b[0;34m]\u001b[0m\u001b[0;34m,\u001b[0m \u001b[0;34m**\u001b[0m\u001b[0mhist_kwargs\u001b[0m\u001b[0;34m)\u001b[0m\u001b[0;34m\u001b[0m\u001b[0m\n\u001b[0m\u001b[1;32m   8327\u001b[0m             \u001b[0mm\u001b[0m \u001b[0;34m=\u001b[0m \u001b[0mm\u001b[0m\u001b[0;34m.\u001b[0m\u001b[0mastype\u001b[0m\u001b[0;34m(\u001b[0m\u001b[0mfloat\u001b[0m\u001b[0;34m)\u001b[0m \u001b[0;31m# causes problems later if it's an int\u001b[0m\u001b[0;34m\u001b[0m\u001b[0m\n\u001b[1;32m   8328\u001b[0m             \u001b[0;32mif\u001b[0m \u001b[0mmlast\u001b[0m \u001b[0;32mis\u001b[0m \u001b[0mNone\u001b[0m\u001b[0;34m:\u001b[0m\u001b[0;34m\u001b[0m\u001b[0m\n",
        "\u001b[0;32m/Users/Pro/canopy/lib/python2.7/site-packages/numpy/lib/function_base.pyc\u001b[0m in \u001b[0;36mhistogram\u001b[0;34m(a, bins, range, normed, weights, density)\u001b[0m\n\u001b[1;32m    174\u001b[0m             \u001b[0;32melse\u001b[0m\u001b[0;34m:\u001b[0m\u001b[0;34m\u001b[0m\u001b[0m\n\u001b[1;32m    175\u001b[0m                 \u001b[0mrange\u001b[0m \u001b[0;34m=\u001b[0m \u001b[0;34m(\u001b[0m\u001b[0ma\u001b[0m\u001b[0;34m.\u001b[0m\u001b[0mmin\u001b[0m\u001b[0;34m(\u001b[0m\u001b[0;34m)\u001b[0m\u001b[0;34m,\u001b[0m \u001b[0ma\u001b[0m\u001b[0;34m.\u001b[0m\u001b[0mmax\u001b[0m\u001b[0;34m(\u001b[0m\u001b[0;34m)\u001b[0m\u001b[0;34m)\u001b[0m\u001b[0;34m\u001b[0m\u001b[0m\n\u001b[0;32m--> 176\u001b[0;31m         \u001b[0mmn\u001b[0m\u001b[0;34m,\u001b[0m \u001b[0mmx\u001b[0m \u001b[0;34m=\u001b[0m \u001b[0;34m[\u001b[0m\u001b[0mmi\u001b[0m\u001b[0;34m+\u001b[0m\u001b[0;36m0.0\u001b[0m \u001b[0;32mfor\u001b[0m \u001b[0mmi\u001b[0m \u001b[0;32min\u001b[0m \u001b[0mrange\u001b[0m\u001b[0;34m]\u001b[0m\u001b[0;34m\u001b[0m\u001b[0m\n\u001b[0m\u001b[1;32m    177\u001b[0m         \u001b[0;32mif\u001b[0m \u001b[0mmn\u001b[0m \u001b[0;34m==\u001b[0m \u001b[0mmx\u001b[0m\u001b[0;34m:\u001b[0m\u001b[0;34m\u001b[0m\u001b[0m\n\u001b[1;32m    178\u001b[0m             \u001b[0mmn\u001b[0m \u001b[0;34m-=\u001b[0m \u001b[0;36m0.5\u001b[0m\u001b[0;34m\u001b[0m\u001b[0m\n",
        "\u001b[0;31mTypeError\u001b[0m: cannot concatenate 'str' and 'float' objects"
       ]
      },
      {
       "metadata": {},
       "output_type": "display_data",
       "png": "[encoded data removed]",
       "text": [
        "<matplotlib.figure.Figure at 0x10d471590>"
       ]
      }
     ],
     "prompt_number": 11
    },
    {
     "cell_type": "code",
     "collapsed": false,
     "input": [
      "fw.weibo_train_data.head()"
     ],
     "language": "python",
     "metadata": {},
     "outputs": [
      {
       "html": [
        "<div style=\"max-height:1000px;max-width:1500px;overflow:auto;\">\n",
        "<table border=\"1\" class=\"dataframe\">\n",
        "  <thead>\n",
        "    <tr style=\"text-align: right;\">\n",
        "      <th></th>\n",
        "      <th>uid</th>\n",
        "      <th>mid</th>\n",
        "      <th>time</th>\n",
        "      <th>forward_count</th>\n",
        "      <th>comment_count</th>\n",
        "      <th>like_count</th>\n",
        "      <th>context</th>\n",
        "    </tr>\n",
        "  </thead>\n",
        "  <tbody>\n",
        "    <tr>\n",
        "      <th>0</th>\n",
        "      <td> 07fc721342df1a4c1992560b582992f8</td>\n",
        "      <td> 5fefc2488f99aba5782baa43096b76dc</td>\n",
        "      <td> 2014-11-04</td>\n",
        "      <td> 0</td>\n",
        "      <td> 7</td>\n",
        "      <td> 2</td>\n",
        "      <td> [\u5410]@\u4eac\u4e1c \u7684\u7528\u6237\u4f53\u9a8c\u592a\u5dee\u4e86....\u7b2c\u4e00\u6b21\u5728\u4eac\u4e1c\u8d2d\u7269\uff0c\u4e70\u4e86\u51e0\u767e\u7684\u4e66....\u771f\u662f\u7ecf\u5386\u4e86\u7f51\u8d2d\u7684...</td>\n",
        "    </tr>\n",
        "    <tr>\n",
        "      <th>1</th>\n",
        "      <td> 07fc721342df1a4c1992560b582992f8</td>\n",
        "      <td> 397d9abe2ebf9ba986fe5ab5a6139e11</td>\n",
        "      <td> 2014-11-04</td>\n",
        "      <td> 0</td>\n",
        "      <td> 3</td>\n",
        "      <td> 0</td>\n",
        "      <td> #\u6211\u7231\u5c0f\u7c73\u624b\u673a#\u56e0\u4e3a\u5c0f\u7c73\u624b\u673a4\u7684\u5c4f\u5e55\u592a\u7ed9\u529b\u4e86\uff0c5\u82f1\u5bf8\u7684\u9ad8\u8272\u5f69\u9971\u548c\u5ea6\u590f\u666e / JDI\u5c4f\u5e55\uff0c19...</td>\n",
        "    </tr>\n",
        "    <tr>\n",
        "      <th>2</th>\n",
        "      <td> 07fc721342df1a4c1992560b582992f8</td>\n",
        "      <td> a2ae3959e9aa21a47993506e2609a4ec</td>\n",
        "      <td> 2014-11-08</td>\n",
        "      <td> 0</td>\n",
        "      <td> 0</td>\n",
        "      <td> 0</td>\n",
        "      <td>              [doge][\u55b5\u55b5]\u5929\u732b\u771f\u662f\u725b....\u5356\u5b9e\u9a8c\u8017\u6750\u7684\u90fd\u8dd1\u5929\u732b\u53bb\u5f00\u5e97\u4e86...</td>\n",
        "    </tr>\n",
        "    <tr>\n",
        "      <th>3</th>\n",
        "      <td> 07fc721342df1a4c1992560b582992f8</td>\n",
        "      <td> fcc63a086522040a271ba6d1fb604734</td>\n",
        "      <td> 2014-11-09</td>\n",
        "      <td> 0</td>\n",
        "      <td> 6</td>\n",
        "      <td> 0</td>\n",
        "      <td>                                [doge]\u627e\u5de5\u4f5c\u256e(\u256f\u25bd\u2570)\u256d\u2026\u2026</td>\n",
        "    </tr>\n",
        "    <tr>\n",
        "      <th>4</th>\n",
        "      <td> 07fc721342df1a4c1992560b582992f8</td>\n",
        "      <td> 6ab0f93ab59cbdaf25f4a023642971a6</td>\n",
        "      <td> 2014-11-11</td>\n",
        "      <td> 0</td>\n",
        "      <td> 5</td>\n",
        "      <td> 1</td>\n",
        "      <td>                                  [doge]\u6210\u529f\u62a2\u4e86\u53f0\u7c734\u7535\u4fe1~</td>\n",
        "    </tr>\n",
        "  </tbody>\n",
        "</table>\n",
        "</div>"
       ],
       "metadata": {},
       "output_type": "pyout",
       "prompt_number": 12,
       "text": [
        "                                uid                               mid  \\\n",
        "0  07fc721342df1a4c1992560b582992f8  5fefc2488f99aba5782baa43096b76dc   \n",
        "1  07fc721342df1a4c1992560b582992f8  397d9abe2ebf9ba986fe5ab5a6139e11   \n",
        "2  07fc721342df1a4c1992560b582992f8  a2ae3959e9aa21a47993506e2609a4ec   \n",
        "3  07fc721342df1a4c1992560b582992f8  fcc63a086522040a271ba6d1fb604734   \n",
        "4  07fc721342df1a4c1992560b582992f8  6ab0f93ab59cbdaf25f4a023642971a6   \n",
        "\n",
        "         time  forward_count  comment_count  like_count  \\\n",
        "0  2014-11-04              0              7           2   \n",
        "1  2014-11-04              0              3           0   \n",
        "2  2014-11-08              0              0           0   \n",
        "3  2014-11-09              0              6           0   \n",
        "4  2014-11-11              0              5           1   \n",
        "\n",
        "                                             context  \n",
        "0  [\u5410]@\u4eac\u4e1c \u7684\u7528\u6237\u4f53\u9a8c\u592a\u5dee\u4e86....\u7b2c\u4e00\u6b21\u5728\u4eac\u4e1c\u8d2d\u7269\uff0c\u4e70\u4e86\u51e0\u767e\u7684\u4e66....\u771f\u662f\u7ecf\u5386\u4e86\u7f51\u8d2d\u7684...  \n",
        "1  #\u6211\u7231\u5c0f\u7c73\u624b\u673a#\u56e0\u4e3a\u5c0f\u7c73\u624b\u673a4\u7684\u5c4f\u5e55\u592a\u7ed9\u529b\u4e86\uff0c5\u82f1\u5bf8\u7684\u9ad8\u8272\u5f69\u9971\u548c\u5ea6\u590f\u666e / JDI\u5c4f\u5e55\uff0c19...  \n",
        "2               [doge][\u55b5\u55b5]\u5929\u732b\u771f\u662f\u725b....\u5356\u5b9e\u9a8c\u8017\u6750\u7684\u90fd\u8dd1\u5929\u732b\u53bb\u5f00\u5e97\u4e86...  \n",
        "3                                 [doge]\u627e\u5de5\u4f5c\u256e(\u256f\u25bd\u2570)\u256d\u2026\u2026  \n",
        "4                                   [doge]\u6210\u529f\u62a2\u4e86\u53f0\u7c734\u7535\u4fe1~  "
       ]
      }
     ],
     "prompt_number": 12
    },
    {
     "cell_type": "code",
     "collapsed": false,
     "input": [
      "fw.weibo_train_data.groupby('time').sum()"
     ],
     "language": "python",
     "metadata": {},
     "outputs": [
      {
       "html": [
        "<div style=\"max-height:1000px;max-width:1500px;overflow:auto;\">\n",
        "<table border=\"1\" class=\"dataframe\">\n",
        "  <thead>\n",
        "    <tr style=\"text-align: right;\">\n",
        "      <th></th>\n",
        "      <th>forward_count</th>\n",
        "      <th>comment_count</th>\n",
        "      <th>like_count</th>\n",
        "    </tr>\n",
        "    <tr>\n",
        "      <th>time</th>\n",
        "      <th></th>\n",
        "      <th></th>\n",
        "      <th></th>\n",
        "    </tr>\n",
        "  </thead>\n",
        "  <tbody>\n",
        "    <tr>\n",
        "      <th>2014-07-01</th>\n",
        "      <td>  30531</td>\n",
        "      <td> 17809</td>\n",
        "      <td>  9047</td>\n",
        "    </tr>\n",
        "    <tr>\n",
        "      <th>2014-07-02</th>\n",
        "      <td> 106699</td>\n",
        "      <td> 47871</td>\n",
        "      <td> 10688</td>\n",
        "    </tr>\n",
        "    <tr>\n",
        "      <th>2014-07-03</th>\n",
        "      <td>  16033</td>\n",
        "      <td> 11117</td>\n",
        "      <td>  7038</td>\n",
        "    </tr>\n",
        "    <tr>\n",
        "      <th>2014-07-04</th>\n",
        "      <td>  18571</td>\n",
        "      <td> 11564</td>\n",
        "      <td> 10129</td>\n",
        "    </tr>\n",
        "    <tr>\n",
        "      <th>2014-07-05</th>\n",
        "      <td>  17169</td>\n",
        "      <td> 12650</td>\n",
        "      <td> 13760</td>\n",
        "    </tr>\n",
        "    <tr>\n",
        "      <th>2014-07-06</th>\n",
        "      <td>  13849</td>\n",
        "      <td> 10086</td>\n",
        "      <td> 11689</td>\n",
        "    </tr>\n",
        "    <tr>\n",
        "      <th>2014-07-07</th>\n",
        "      <td>  19813</td>\n",
        "      <td> 13489</td>\n",
        "      <td> 10826</td>\n",
        "    </tr>\n",
        "    <tr>\n",
        "      <th>2014-07-08</th>\n",
        "      <td>  21894</td>\n",
        "      <td> 17397</td>\n",
        "      <td> 15259</td>\n",
        "    </tr>\n",
        "    <tr>\n",
        "      <th>2014-07-09</th>\n",
        "      <td>  25774</td>\n",
        "      <td> 14828</td>\n",
        "      <td>  9016</td>\n",
        "    </tr>\n",
        "    <tr>\n",
        "      <th>2014-07-10</th>\n",
        "      <td>  21708</td>\n",
        "      <td> 12308</td>\n",
        "      <td> 12161</td>\n",
        "    </tr>\n",
        "    <tr>\n",
        "      <th>2014-07-11</th>\n",
        "      <td>  13946</td>\n",
        "      <td> 11714</td>\n",
        "      <td>  9476</td>\n",
        "    </tr>\n",
        "    <tr>\n",
        "      <th>2014-07-12</th>\n",
        "      <td>  13169</td>\n",
        "      <td>  8732</td>\n",
        "      <td>  8867</td>\n",
        "    </tr>\n",
        "    <tr>\n",
        "      <th>2014-07-13</th>\n",
        "      <td>  12651</td>\n",
        "      <td> 12212</td>\n",
        "      <td> 12656</td>\n",
        "    </tr>\n",
        "    <tr>\n",
        "      <th>2014-07-14</th>\n",
        "      <td>  18237</td>\n",
        "      <td> 14323</td>\n",
        "      <td> 13898</td>\n",
        "    </tr>\n",
        "    <tr>\n",
        "      <th>2014-07-15</th>\n",
        "      <td>  18824</td>\n",
        "      <td> 12487</td>\n",
        "      <td>  9970</td>\n",
        "    </tr>\n",
        "    <tr>\n",
        "      <th>2014-07-16</th>\n",
        "      <td>  19618</td>\n",
        "      <td> 10432</td>\n",
        "      <td>  7249</td>\n",
        "    </tr>\n",
        "    <tr>\n",
        "      <th>2014-07-17</th>\n",
        "      <td>  16226</td>\n",
        "      <td> 12621</td>\n",
        "      <td>  9075</td>\n",
        "    </tr>\n",
        "    <tr>\n",
        "      <th>2014-07-18</th>\n",
        "      <td>  19679</td>\n",
        "      <td> 15302</td>\n",
        "      <td> 14987</td>\n",
        "    </tr>\n",
        "    <tr>\n",
        "      <th>2014-07-19</th>\n",
        "      <td>  16439</td>\n",
        "      <td> 10396</td>\n",
        "      <td> 10710</td>\n",
        "    </tr>\n",
        "    <tr>\n",
        "      <th>2014-07-20</th>\n",
        "      <td>  13667</td>\n",
        "      <td> 16621</td>\n",
        "      <td> 16092</td>\n",
        "    </tr>\n",
        "    <tr>\n",
        "      <th>2014-07-21</th>\n",
        "      <td>  16162</td>\n",
        "      <td> 10350</td>\n",
        "      <td>  9313</td>\n",
        "    </tr>\n",
        "    <tr>\n",
        "      <th>2014-07-22</th>\n",
        "      <td>  19276</td>\n",
        "      <td> 12188</td>\n",
        "      <td> 15539</td>\n",
        "    </tr>\n",
        "    <tr>\n",
        "      <th>2014-07-23</th>\n",
        "      <td>  28783</td>\n",
        "      <td> 14265</td>\n",
        "      <td> 13570</td>\n",
        "    </tr>\n",
        "    <tr>\n",
        "      <th>2014-07-24</th>\n",
        "      <td>  18916</td>\n",
        "      <td> 13428</td>\n",
        "      <td> 13932</td>\n",
        "    </tr>\n",
        "    <tr>\n",
        "      <th>2014-07-25</th>\n",
        "      <td>  19019</td>\n",
        "      <td> 11030</td>\n",
        "      <td>  9452</td>\n",
        "    </tr>\n",
        "    <tr>\n",
        "      <th>2014-07-26</th>\n",
        "      <td>  12655</td>\n",
        "      <td>  7833</td>\n",
        "      <td>  7881</td>\n",
        "    </tr>\n",
        "    <tr>\n",
        "      <th>2014-07-27</th>\n",
        "      <td>  14097</td>\n",
        "      <td> 10472</td>\n",
        "      <td> 16118</td>\n",
        "    </tr>\n",
        "    <tr>\n",
        "      <th>2014-07-28</th>\n",
        "      <td>  14268</td>\n",
        "      <td>  9282</td>\n",
        "      <td>  7179</td>\n",
        "    </tr>\n",
        "    <tr>\n",
        "      <th>2014-07-29</th>\n",
        "      <td>  54531</td>\n",
        "      <td> 13667</td>\n",
        "      <td> 15378</td>\n",
        "    </tr>\n",
        "    <tr>\n",
        "      <th>2014-07-30</th>\n",
        "      <td>  16529</td>\n",
        "      <td> 11197</td>\n",
        "      <td>  9658</td>\n",
        "    </tr>\n",
        "    <tr>\n",
        "      <th>...</th>\n",
        "      <td>...</td>\n",
        "      <td>...</td>\n",
        "      <td>...</td>\n",
        "    </tr>\n",
        "    <tr>\n",
        "      <th>2014-12-02</th>\n",
        "      <td>  17256</td>\n",
        "      <td>  9492</td>\n",
        "      <td>  9915</td>\n",
        "    </tr>\n",
        "    <tr>\n",
        "      <th>2014-12-03</th>\n",
        "      <td>  17788</td>\n",
        "      <td>  7575</td>\n",
        "      <td>  9190</td>\n",
        "    </tr>\n",
        "    <tr>\n",
        "      <th>2014-12-04</th>\n",
        "      <td>  22276</td>\n",
        "      <td> 10513</td>\n",
        "      <td> 11646</td>\n",
        "    </tr>\n",
        "    <tr>\n",
        "      <th>2014-12-05</th>\n",
        "      <td>  24139</td>\n",
        "      <td>  9620</td>\n",
        "      <td>  9457</td>\n",
        "    </tr>\n",
        "    <tr>\n",
        "      <th>2014-12-06</th>\n",
        "      <td>  17006</td>\n",
        "      <td>  7398</td>\n",
        "      <td> 14872</td>\n",
        "    </tr>\n",
        "    <tr>\n",
        "      <th>2014-12-07</th>\n",
        "      <td>  15540</td>\n",
        "      <td>  5640</td>\n",
        "      <td>  8074</td>\n",
        "    </tr>\n",
        "    <tr>\n",
        "      <th>2014-12-08</th>\n",
        "      <td>  14829</td>\n",
        "      <td>  7781</td>\n",
        "      <td>  8412</td>\n",
        "    </tr>\n",
        "    <tr>\n",
        "      <th>2014-12-09</th>\n",
        "      <td>  19253</td>\n",
        "      <td>  8257</td>\n",
        "      <td> 10390</td>\n",
        "    </tr>\n",
        "    <tr>\n",
        "      <th>2014-12-10</th>\n",
        "      <td>  23637</td>\n",
        "      <td>  9136</td>\n",
        "      <td> 10242</td>\n",
        "    </tr>\n",
        "    <tr>\n",
        "      <th>2014-12-11</th>\n",
        "      <td>  39485</td>\n",
        "      <td> 10860</td>\n",
        "      <td>  7556</td>\n",
        "    </tr>\n",
        "    <tr>\n",
        "      <th>2014-12-12</th>\n",
        "      <td>  17073</td>\n",
        "      <td>  8176</td>\n",
        "      <td>  7028</td>\n",
        "    </tr>\n",
        "    <tr>\n",
        "      <th>2014-12-13</th>\n",
        "      <td>  14381</td>\n",
        "      <td>  7154</td>\n",
        "      <td>  8712</td>\n",
        "    </tr>\n",
        "    <tr>\n",
        "      <th>2014-12-14</th>\n",
        "      <td>  13239</td>\n",
        "      <td>  7134</td>\n",
        "      <td> 12280</td>\n",
        "    </tr>\n",
        "    <tr>\n",
        "      <th>2014-12-15</th>\n",
        "      <td>  16803</td>\n",
        "      <td>  7247</td>\n",
        "      <td>  8678</td>\n",
        "    </tr>\n",
        "    <tr>\n",
        "      <th>2014-12-16</th>\n",
        "      <td>  17716</td>\n",
        "      <td> 11772</td>\n",
        "      <td> 12374</td>\n",
        "    </tr>\n",
        "    <tr>\n",
        "      <th>2014-12-17</th>\n",
        "      <td>  17404</td>\n",
        "      <td>  7453</td>\n",
        "      <td>  8830</td>\n",
        "    </tr>\n",
        "    <tr>\n",
        "      <th>2014-12-18</th>\n",
        "      <td>  19092</td>\n",
        "      <td>  7586</td>\n",
        "      <td>  8859</td>\n",
        "    </tr>\n",
        "    <tr>\n",
        "      <th>2014-12-19</th>\n",
        "      <td>  15517</td>\n",
        "      <td>  7004</td>\n",
        "      <td>  7604</td>\n",
        "    </tr>\n",
        "    <tr>\n",
        "      <th>2014-12-20</th>\n",
        "      <td>  18634</td>\n",
        "      <td>  7520</td>\n",
        "      <td>  8882</td>\n",
        "    </tr>\n",
        "    <tr>\n",
        "      <th>2014-12-21</th>\n",
        "      <td>  10341</td>\n",
        "      <td>  5197</td>\n",
        "      <td>  7652</td>\n",
        "    </tr>\n",
        "    <tr>\n",
        "      <th>2014-12-22</th>\n",
        "      <td>  15090</td>\n",
        "      <td>  6827</td>\n",
        "      <td>  7529</td>\n",
        "    </tr>\n",
        "    <tr>\n",
        "      <th>2014-12-23</th>\n",
        "      <td>  15902</td>\n",
        "      <td>  7681</td>\n",
        "      <td>  8776</td>\n",
        "    </tr>\n",
        "    <tr>\n",
        "      <th>2014-12-24</th>\n",
        "      <td>  22210</td>\n",
        "      <td>  9820</td>\n",
        "      <td> 11605</td>\n",
        "    </tr>\n",
        "    <tr>\n",
        "      <th>2014-12-25</th>\n",
        "      <td>  19233</td>\n",
        "      <td> 10614</td>\n",
        "      <td> 11652</td>\n",
        "    </tr>\n",
        "    <tr>\n",
        "      <th>2014-12-26</th>\n",
        "      <td>  18410</td>\n",
        "      <td>  6941</td>\n",
        "      <td>  9867</td>\n",
        "    </tr>\n",
        "    <tr>\n",
        "      <th>2014-12-27</th>\n",
        "      <td>  23162</td>\n",
        "      <td>  7622</td>\n",
        "      <td> 11716</td>\n",
        "    </tr>\n",
        "    <tr>\n",
        "      <th>2014-12-28</th>\n",
        "      <td>  15478</td>\n",
        "      <td>  6632</td>\n",
        "      <td>  9044</td>\n",
        "    </tr>\n",
        "    <tr>\n",
        "      <th>2014-12-29</th>\n",
        "      <td>  29055</td>\n",
        "      <td>  8760</td>\n",
        "      <td> 10429</td>\n",
        "    </tr>\n",
        "    <tr>\n",
        "      <th>2014-12-30</th>\n",
        "      <td>  18960</td>\n",
        "      <td>  8565</td>\n",
        "      <td> 11054</td>\n",
        "    </tr>\n",
        "    <tr>\n",
        "      <th>2014-12-31</th>\n",
        "      <td>  14528</td>\n",
        "      <td>  8969</td>\n",
        "      <td> 11214</td>\n",
        "    </tr>\n",
        "  </tbody>\n",
        "</table>\n",
        "<p>184 rows \u00d7 3 columns</p>\n",
        "</div>"
       ],
       "metadata": {},
       "output_type": "pyout",
       "prompt_number": 13,
       "text": [
        "            forward_count  comment_count  like_count\n",
        "time                                                \n",
        "2014-07-01          30531          17809        9047\n",
        "2014-07-02         106699          47871       10688\n",
        "2014-07-03          16033          11117        7038\n",
        "2014-07-04          18571          11564       10129\n",
        "2014-07-05          17169          12650       13760\n",
        "2014-07-06          13849          10086       11689\n",
        "2014-07-07          19813          13489       10826\n",
        "2014-07-08          21894          17397       15259\n",
        "2014-07-09          25774          14828        9016\n",
        "2014-07-10          21708          12308       12161\n",
        "2014-07-11          13946          11714        9476\n",
        "2014-07-12          13169           8732        8867\n",
        "2014-07-13          12651          12212       12656\n",
        "2014-07-14          18237          14323       13898\n",
        "2014-07-15          18824          12487        9970\n",
        "2014-07-16          19618          10432        7249\n",
        "2014-07-17          16226          12621        9075\n",
        "2014-07-18          19679          15302       14987\n",
        "2014-07-19          16439          10396       10710\n",
        "2014-07-20          13667          16621       16092\n",
        "2014-07-21          16162          10350        9313\n",
        "2014-07-22          19276          12188       15539\n",
        "2014-07-23          28783          14265       13570\n",
        "2014-07-24          18916          13428       13932\n",
        "2014-07-25          19019          11030        9452\n",
        "2014-07-26          12655           7833        7881\n",
        "2014-07-27          14097          10472       16118\n",
        "2014-07-28          14268           9282        7179\n",
        "2014-07-29          54531          13667       15378\n",
        "2014-07-30          16529          11197        9658\n",
        "...                   ...            ...         ...\n",
        "2014-12-02          17256           9492        9915\n",
        "2014-12-03          17788           7575        9190\n",
        "2014-12-04          22276          10513       11646\n",
        "2014-12-05          24139           9620        9457\n",
        "2014-12-06          17006           7398       14872\n",
        "2014-12-07          15540           5640        8074\n",
        "2014-12-08          14829           7781        8412\n",
        "2014-12-09          19253           8257       10390\n",
        "2014-12-10          23637           9136       10242\n",
        "2014-12-11          39485          10860        7556\n",
        "2014-12-12          17073           8176        7028\n",
        "2014-12-13          14381           7154        8712\n",
        "2014-12-14          13239           7134       12280\n",
        "2014-12-15          16803           7247        8678\n",
        "2014-12-16          17716          11772       12374\n",
        "2014-12-17          17404           7453        8830\n",
        "2014-12-18          19092           7586        8859\n",
        "2014-12-19          15517           7004        7604\n",
        "2014-12-20          18634           7520        8882\n",
        "2014-12-21          10341           5197        7652\n",
        "2014-12-22          15090           6827        7529\n",
        "2014-12-23          15902           7681        8776\n",
        "2014-12-24          22210           9820       11605\n",
        "2014-12-25          19233          10614       11652\n",
        "2014-12-26          18410           6941        9867\n",
        "2014-12-27          23162           7622       11716\n",
        "2014-12-28          15478           6632        9044\n",
        "2014-12-29          29055           8760       10429\n",
        "2014-12-30          18960           8565       11054\n",
        "2014-12-31          14528           8969       11214\n",
        "\n",
        "[184 rows x 3 columns]"
       ]
      }
     ],
     "prompt_number": 13
    },
    {
     "cell_type": "code",
     "collapsed": false,
     "input": [
      "fw.weibo_train_data.groupby('time').sum().plot()"
     ],
     "language": "python",
     "metadata": {},
     "outputs": [
      {
       "metadata": {},
       "output_type": "pyout",
       "prompt_number": 14,
       "text": [
        "<matplotlib.axes.AxesSubplot at 0x10dbb4650>"
       ]
      },
      {
       "metadata": {},
       "output_type": "display_data",
       "png": "[encoded data removed]",
       "text": [
        "<matplotlib.figure.Figure at 0x10dbbd790>"
       ]
      }
     ],
     "prompt_number": 14
    },
    {
     "cell_type": "code",
     "collapsed": false,
     "input": [
      "fw.weibo_train_data.head()"
     ],
     "language": "python",
     "metadata": {},
     "outputs": [
      {
       "ename": "NameError",
       "evalue": "name 'fw' is not defined",
       "output_type": "pyerr",
       "traceback": [
        "\u001b[0;31m---------------------------------------------------------------------------\u001b[0m\n\u001b[0;31mNameError\u001b[0m                                 Traceback (most recent call last)",
        "\u001b[0;32m<ipython-input-1-9d8e3a73d6f5>\u001b[0m in \u001b[0;36m<module>\u001b[0;34m()\u001b[0m\n\u001b[0;32m----> 1\u001b[0;31m \u001b[0mfw\u001b[0m\u001b[0;34m.\u001b[0m\u001b[0mweibo_train_data\u001b[0m\u001b[0;34m.\u001b[0m\u001b[0mhead\u001b[0m\u001b[0;34m(\u001b[0m\u001b[0;34m)\u001b[0m\u001b[0;34m\u001b[0m\u001b[0m\n\u001b[0m",
        "\u001b[0;31mNameError\u001b[0m: name 'fw' is not defined"
       ]
      }
     ],
     "prompt_number": 1
    },
    {
     "cell_type": "code",
     "collapsed": false,
     "input": [
      "import weiboPredict"
     ],
     "language": "python",
     "metadata": {},
     "outputs": [],
     "prompt_number": 2
    },
    {
     "cell_type": "code",
     "collapsed": false,
     "input": [
      "from weiboPredict import framework as fw"
     ],
     "language": "python",
     "metadata": {},
     "outputs": [],
     "prompt_number": 3
    },
    {
     "cell_type": "code",
     "collapsed": false,
     "input": [
      "fw.loadData()"
     ],
     "language": "python",
     "metadata": {},
     "outputs": [],
     "prompt_number": 4
    },
    {
     "cell_type": "code",
     "collapsed": false,
     "input": [
      "fw.weibo_train_data.groupby('uid').sum().comment_count.hist()"
     ],
     "language": "python",
     "metadata": {},
     "outputs": [
      {
       "metadata": {},
       "output_type": "pyout",
       "prompt_number": 13,
       "text": [
        "<matplotlib.axes.AxesSubplot at 0x10f4a8490>"
       ]
      },
      {
       "metadata": {},
       "output_type": "display_data",
       "png": "[encoded data removed]",
       "text": [
        "<matplotlib.figure.Figure at 0x10b51ed10>"
       ]
      }
     ],
     "prompt_number": 13
    },
    {
     "cell_type": "code",
     "collapsed": false,
     "input": [
      "fw.weibo_train_data.groupby('uid').sum().comment_count.hist?"
     ],
     "language": "python",
     "metadata": {},
     "outputs": [
      {
       "output_type": "stream",
       "stream": "stdout",
       "text": [
        "Object `comment_count.hist` not found.\n"
       ]
      }
     ],
     "prompt_number": 14
    },
    {
     "cell_type": "code",
     "collapsed": false,
     "input": [
      "fw.weibo_train_data.groupby('uid').sum().comment_count.hist()?"
     ],
     "language": "python",
     "metadata": {},
     "outputs": [
      {
       "ename": "SyntaxError",
       "evalue": "invalid syntax (<ipython-input-15-b96e7f846779>, line 1)",
       "output_type": "pyerr",
       "traceback": [
        "\u001b[0;36m  File \u001b[0;32m\"<ipython-input-15-b96e7f846779>\"\u001b[0;36m, line \u001b[0;32m1\u001b[0m\n\u001b[0;31m    fw.weibo_train_data.groupby('uid').sum().comment_count.hist()?\u001b[0m\n\u001b[0m                                                                 ^\u001b[0m\n\u001b[0;31mSyntaxError\u001b[0m\u001b[0;31m:\u001b[0m invalid syntax\n"
       ]
      }
     ],
     "prompt_number": 15
    },
    {
     "cell_type": "code",
     "collapsed": false,
     "input": [
      "from pandas import DataFrame, Series"
     ],
     "language": "python",
     "metadata": {},
     "outputs": [],
     "prompt_number": 16
    },
    {
     "cell_type": "code",
     "collapsed": false,
     "input": [
      "Series.hist?"
     ],
     "language": "python",
     "metadata": {},
     "outputs": [],
     "prompt_number": 25
    },
    {
     "cell_type": "code",
     "collapsed": false,
     "input": [
      "fw.weibo_train_data.groupby('uid').sum().comment_count.hist(bins=100)"
     ],
     "language": "python",
     "metadata": {},
     "outputs": [
      {
       "metadata": {},
       "output_type": "pyout",
       "prompt_number": 18,
       "text": [
        "<matplotlib.axes.AxesSubplot at 0x10f49a650>"
       ]
      },
      {
       "metadata": {},
       "output_type": "display_data",
       "png": "[encoded data removed]",
       "text": [
        "<matplotlib.figure.Figure at 0x10f494550>"
       ]
      }
     ],
     "prompt_number": 18
    },
    {
     "cell_type": "code",
     "collapsed": false,
     "input": [
      "fw.weibo_train_data.groupby('uid').sum().forward_count.hist(bins=200,xrot=10)"
     ],
     "language": "python",
     "metadata": {},
     "outputs": [
      {
       "metadata": {},
       "output_type": "pyout",
       "prompt_number": 26,
       "text": [
        "<matplotlib.axes.AxesSubplot at 0x11bdc0a50>"
       ]
      },
      {
       "metadata": {},
       "output_type": "display_data",
       "png": "[encoded data removed]",
       "text": [
        "<matplotlib.figure.Figure at 0x1202ada50>"
       ]
      }
     ],
     "prompt_number": 26
    },
    {
     "cell_type": "code",
     "collapsed": false,
     "input": [
      "Series.filter?"
     ],
     "language": "python",
     "metadata": {},
     "outputs": [],
     "prompt_number": 27
    },
    {
     "cell_type": "code",
     "collapsed": false,
     "input": [
      "a=Series([1,2,3])"
     ],
     "language": "python",
     "metadata": {},
     "outputs": [],
     "prompt_number": 28
    },
    {
     "cell_type": "code",
     "collapsed": false,
     "input": [
      "a>2"
     ],
     "language": "python",
     "metadata": {},
     "outputs": [
      {
       "metadata": {},
       "output_type": "pyout",
       "prompt_number": 29,
       "text": [
        "0    False\n",
        "1    False\n",
        "2     True\n",
        "dtype: bool"
       ]
      }
     ],
     "prompt_number": 29
    },
    {
     "cell_type": "code",
     "collapsed": false,
     "input": [
      "type(a>2)"
     ],
     "language": "python",
     "metadata": {},
     "outputs": [
      {
       "metadata": {},
       "output_type": "pyout",
       "prompt_number": 30,
       "text": [
        "pandas.core.series.Series"
       ]
      }
     ],
     "prompt_number": 30
    },
    {
     "cell_type": "code",
     "collapsed": false,
     "input": [
      "b=DataFrame({'a':[1,2,3],'b':[4,1,6],'c':[5,2,4]})"
     ],
     "language": "python",
     "metadata": {},
     "outputs": [],
     "prompt_number": 35
    },
    {
     "cell_type": "code",
     "collapsed": false,
     "input": [
      "b"
     ],
     "language": "python",
     "metadata": {},
     "outputs": [
      {
       "html": [
        "<div style=\"max-height:1000px;max-width:1500px;overflow:auto;\">\n",
        "<table border=\"1\" class=\"dataframe\">\n",
        "  <thead>\n",
        "    <tr style=\"text-align: right;\">\n",
        "      <th></th>\n",
        "      <th>a</th>\n",
        "      <th>b</th>\n",
        "      <th>c</th>\n",
        "    </tr>\n",
        "  </thead>\n",
        "  <tbody>\n",
        "    <tr>\n",
        "      <th>0</th>\n",
        "      <td> 1</td>\n",
        "      <td> 4</td>\n",
        "      <td> 5</td>\n",
        "    </tr>\n",
        "    <tr>\n",
        "      <th>1</th>\n",
        "      <td> 2</td>\n",
        "      <td> 1</td>\n",
        "      <td> 2</td>\n",
        "    </tr>\n",
        "    <tr>\n",
        "      <th>2</th>\n",
        "      <td> 3</td>\n",
        "      <td> 6</td>\n",
        "      <td> 4</td>\n",
        "    </tr>\n",
        "  </tbody>\n",
        "</table>\n",
        "</div>"
       ],
       "metadata": {},
       "output_type": "pyout",
       "prompt_number": 36,
       "text": [
        "   a  b  c\n",
        "0  1  4  5\n",
        "1  2  1  2\n",
        "2  3  6  4"
       ]
      }
     ],
     "prompt_number": 36
    },
    {
     "cell_type": "code",
     "collapsed": false,
     "input": [
      "b>2"
     ],
     "language": "python",
     "metadata": {},
     "outputs": [
      {
       "html": [
        "<div style=\"max-height:1000px;max-width:1500px;overflow:auto;\">\n",
        "<table border=\"1\" class=\"dataframe\">\n",
        "  <thead>\n",
        "    <tr style=\"text-align: right;\">\n",
        "      <th></th>\n",
        "      <th>a</th>\n",
        "      <th>b</th>\n",
        "      <th>c</th>\n",
        "    </tr>\n",
        "  </thead>\n",
        "  <tbody>\n",
        "    <tr>\n",
        "      <th>0</th>\n",
        "      <td> False</td>\n",
        "      <td>  True</td>\n",
        "      <td>  True</td>\n",
        "    </tr>\n",
        "    <tr>\n",
        "      <th>1</th>\n",
        "      <td> False</td>\n",
        "      <td> False</td>\n",
        "      <td> False</td>\n",
        "    </tr>\n",
        "    <tr>\n",
        "      <th>2</th>\n",
        "      <td>  True</td>\n",
        "      <td>  True</td>\n",
        "      <td>  True</td>\n",
        "    </tr>\n",
        "  </tbody>\n",
        "</table>\n",
        "</div>"
       ],
       "metadata": {},
       "output_type": "pyout",
       "prompt_number": 37,
       "text": [
        "       a      b      c\n",
        "0  False   True   True\n",
        "1  False  False  False\n",
        "2   True   True   True"
       ]
      }
     ],
     "prompt_number": 37
    },
    {
     "cell_type": "code",
     "collapsed": false,
     "input": [
      "b[b>2]=3"
     ],
     "language": "python",
     "metadata": {},
     "outputs": [],
     "prompt_number": 39
    },
    {
     "cell_type": "code",
     "collapsed": false,
     "input": [
      "b"
     ],
     "language": "python",
     "metadata": {},
     "outputs": [
      {
       "html": [
        "<div style=\"max-height:1000px;max-width:1500px;overflow:auto;\">\n",
        "<table border=\"1\" class=\"dataframe\">\n",
        "  <thead>\n",
        "    <tr style=\"text-align: right;\">\n",
        "      <th></th>\n",
        "      <th>a</th>\n",
        "      <th>b</th>\n",
        "      <th>c</th>\n",
        "    </tr>\n",
        "  </thead>\n",
        "  <tbody>\n",
        "    <tr>\n",
        "      <th>0</th>\n",
        "      <td> 1</td>\n",
        "      <td> 3</td>\n",
        "      <td> 3</td>\n",
        "    </tr>\n",
        "    <tr>\n",
        "      <th>1</th>\n",
        "      <td> 2</td>\n",
        "      <td> 1</td>\n",
        "      <td> 2</td>\n",
        "    </tr>\n",
        "    <tr>\n",
        "      <th>2</th>\n",
        "      <td> 3</td>\n",
        "      <td> 3</td>\n",
        "      <td> 3</td>\n",
        "    </tr>\n",
        "  </tbody>\n",
        "</table>\n",
        "</div>"
       ],
       "metadata": {},
       "output_type": "pyout",
       "prompt_number": 40,
       "text": [
        "   a  b  c\n",
        "0  1  3  3\n",
        "1  2  1  2\n",
        "2  3  3  3"
       ]
      }
     ],
     "prompt_number": 40
    },
    {
     "cell_type": "code",
     "collapsed": false,
     "input": [
      "weibo_train_data_u_sum=fw.weibo_train_data.groupby('uid').sum()"
     ],
     "language": "python",
     "metadata": {},
     "outputs": [],
     "prompt_number": 41
    },
    {
     "cell_type": "code",
     "collapsed": false,
     "input": [
      "weibo_train_data_u_sum[weibo_train_data_u_sum<50000].hist()"
     ],
     "language": "python",
     "metadata": {},
     "outputs": [
      {
       "metadata": {},
       "output_type": "pyout",
       "prompt_number": 42,
       "text": [
        "array([[<matplotlib.axes.AxesSubplot object at 0x12e687f50>,\n",
        "        <matplotlib.axes.AxesSubplot object at 0x12ce0db90>],\n",
        "       [<matplotlib.axes.AxesSubplot object at 0x12ce317d0>,\n",
        "        <matplotlib.axes.AxesSubplot object at 0x128e17bd0>]], dtype=object)"
       ]
      },
      {
       "metadata": {},
       "output_type": "display_data",
       "png": "[encoded data removed]",
       "text": [
        "<matplotlib.figure.Figure at 0x12e66ee90>"
       ]
      }
     ],
     "prompt_number": 42
    },
    {
     "cell_type": "code",
     "collapsed": false,
     "input": [
      "weibo_train_data_u_sum[weibo_train_data_u_sum<10000].hist(bins=100)"
     ],
     "language": "python",
     "metadata": {},
     "outputs": [
      {
       "metadata": {},
       "output_type": "pyout",
       "prompt_number": 44,
       "text": [
        "array([[<matplotlib.axes.AxesSubplot object at 0x130366f90>,\n",
        "        <matplotlib.axes.AxesSubplot object at 0x12dc9fd50>],\n",
        "       [<matplotlib.axes.AxesSubplot object at 0x12dcc6990>,\n",
        "        <matplotlib.axes.AxesSubplot object at 0x131749d90>]], dtype=object)"
       ]
      },
      {
       "metadata": {},
       "output_type": "display_data",
       "png": "[encoded data removed]",
       "text": [
        "<matplotlib.figure.Figure at 0x10fcbd0d0>"
       ]
      }
     ],
     "prompt_number": 44
    },
    {
     "cell_type": "code",
     "collapsed": false,
     "input": [
      "weibo_train_data_u_sum[weibo_train_data_u_sum<2000].hist(bins=100)"
     ],
     "language": "python",
     "metadata": {},
     "outputs": [
      {
       "metadata": {},
       "output_type": "pyout",
       "prompt_number": 45,
       "text": [
        "array([[<matplotlib.axes.AxesSubplot object at 0x10fd553d0>,\n",
        "        <matplotlib.axes.AxesSubplot object at 0x1303c76d0>],\n",
        "       [<matplotlib.axes.AxesSubplot object at 0x13f202e90>,\n",
        "        <matplotlib.axes.AxesSubplot object at 0x13f2252d0>]], dtype=object)"
       ]
      },
      {
       "metadata": {},
       "output_type": "display_data",
       "png": "[encoded data removed]",
       "text": [
        "<matplotlib.figure.Figure at 0x1106ad4d0>"
       ]
      }
     ],
     "prompt_number": 45
    },
    {
     "cell_type": "code",
     "collapsed": false,
     "input": [
      "weibo_train_data_u_sum.forward_count[weibo_train_data_u_sum.forward_count<100].hist(bins=10)"
     ],
     "language": "python",
     "metadata": {},
     "outputs": [
      {
       "metadata": {},
       "output_type": "pyout",
       "prompt_number": 50,
       "text": [
        "<matplotlib.axes.AxesSubplot at 0x1449e9050>"
       ]
      },
      {
       "metadata": {},
       "output_type": "display_data",
       "png": "[encoded data removed]",
       "text": [
        "<matplotlib.figure.Figure at 0x143d7fbd0>"
       ]
      }
     ],
     "prompt_number": 50
    },
    {
     "cell_type": "code",
     "collapsed": false,
     "input": [
      "weibo_train_data_u_sum.comment_count[weibo_train_data_u_sum.comment_count<100].hist(bins=10)"
     ],
     "language": "python",
     "metadata": {},
     "outputs": [
      {
       "metadata": {},
       "output_type": "pyout",
       "prompt_number": 52,
       "text": [
        "<matplotlib.axes.AxesSubplot at 0x14498a490>"
       ]
      },
      {
       "metadata": {},
       "output_type": "display_data",
       "png": "[encoded data removed]",
       "text": [
        "<matplotlib.figure.Figure at 0x144a5b4d0>"
       ]
      }
     ],
     "prompt_number": 52
    },
    {
     "cell_type": "code",
     "collapsed": false,
     "input": [
      "weibo_train_data_u_sum.like_count[weibo_train_data_u_sum.like_count<100].hist(bins=10)"
     ],
     "language": "python",
     "metadata": {},
     "outputs": [
      {
       "metadata": {},
       "output_type": "pyout",
       "prompt_number": 53,
       "text": [
        "<matplotlib.axes.AxesSubplot at 0x14499ccd0>"
       ]
      },
      {
       "metadata": {},
       "output_type": "display_data",
       "png": "[encoded data removed]",
       "text": [
        "<matplotlib.figure.Figure at 0x144aa0ad0>"
       ]
      }
     ],
     "prompt_number": 53
    },
    {
     "cell_type": "code",
     "collapsed": false,
     "input": [
      "import matplotlib.pyplot as plt"
     ],
     "language": "python",
     "metadata": {},
     "outputs": [],
     "prompt_number": 55
    },
    {
     "cell_type": "markdown",
     "metadata": {},
     "source": [
      "\u770b\u4e00\u4e0b\u7528\u6237\u7684\u8f6c\u53d1\u4e0e\u8bc4\u8bba\u95f4\u7684\u5173\u7cfb"
     ]
    },
    {
     "cell_type": "code",
     "collapsed": false,
     "input": [
      "plt.scatter(weibo_train_data_u_sum.forward_count,weibo_train_data_u_sum.comment_count)"
     ],
     "language": "python",
     "metadata": {},
     "outputs": [
      {
       "metadata": {},
       "output_type": "pyout",
       "prompt_number": 56,
       "text": [
        "<matplotlib.collections.PathCollection at 0x144eede90>"
       ]
      },
      {
       "metadata": {},
       "output_type": "display_data",
       "png": "[encoded data removed]",
       "text": [
        "<matplotlib.figure.Figure at 0x144ec1710>"
       ]
      }
     ],
     "prompt_number": 56
    },
    {
     "cell_type": "markdown",
     "metadata": {},
     "source": [
      "\u627e\u5230\u90a3\u4e2a\u8bc4\u8bba\u5f88\u591a\u8f6c\u53d1\u5f88\u5c11\u7684\u5f02\u5e38\u70b9"
     ]
    },
    {
     "cell_type": "code",
     "collapsed": false,
     "input": [
      "weibo_train_data_u_sum[weibo_train_data_u_sum.comment_count>200000]"
     ],
     "language": "python",
     "metadata": {},
     "outputs": [
      {
       "html": [
        "<div style=\"max-height:1000px;max-width:1500px;overflow:auto;\">\n",
        "<table border=\"1\" class=\"dataframe\">\n",
        "  <thead>\n",
        "    <tr style=\"text-align: right;\">\n",
        "      <th></th>\n",
        "      <th>forward_count</th>\n",
        "      <th>comment_count</th>\n",
        "      <th>like_count</th>\n",
        "    </tr>\n",
        "    <tr>\n",
        "      <th>uid</th>\n",
        "      <th></th>\n",
        "      <th></th>\n",
        "      <th></th>\n",
        "    </tr>\n",
        "  </thead>\n",
        "  <tbody>\n",
        "    <tr>\n",
        "      <th>4ac74188244820225e905a3cf93a83f5</th>\n",
        "      <td> 85013</td>\n",
        "      <td> 216480</td>\n",
        "      <td> 386849</td>\n",
        "    </tr>\n",
        "  </tbody>\n",
        "</table>\n",
        "</div>"
       ],
       "metadata": {},
       "output_type": "pyout",
       "prompt_number": 58,
       "text": [
        "                                  forward_count  comment_count  like_count\n",
        "uid                                                                       \n",
        "4ac74188244820225e905a3cf93a83f5          85013         216480      386849"
       ]
      }
     ],
     "prompt_number": 58
    },
    {
     "cell_type": "code",
     "collapsed": false,
     "input": [
      "fw.weibo_train_data[fw.weibo_train_data.uid=='4ac74188244820225e905a3cf93a83f5'].groupby('time').sum().plot()"
     ],
     "language": "python",
     "metadata": {},
     "outputs": [
      {
       "metadata": {},
       "output_type": "pyout",
       "prompt_number": 62,
       "text": [
        "<matplotlib.axes.AxesSubplot at 0x144ef07d0>"
       ]
      },
      {
       "metadata": {},
       "output_type": "display_data",
       "png": "[encoded data removed]",
       "text": [
        "<matplotlib.figure.Figure at 0x144eede50>"
       ]
      }
     ],
     "prompt_number": 62
    },
    {
     "cell_type": "code",
     "collapsed": false,
     "input": [],
     "language": "python",
     "metadata": {},
     "outputs": []
    }
   ],
   "metadata": {}
  }
 ]
}