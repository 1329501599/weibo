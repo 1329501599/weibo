{
 "metadata": {
  "name": "",
  "signature": "sha256:70462ecc59f754aafe6fdafca0cc9b261a08bcd8adcbd9fe4302ae319a3de649"
 },
 "nbformat": 3,
 "nbformat_minor": 0,
 "worksheets": [
  {
   "cells": [
    {
     "cell_type": "code",
     "collapsed": false,
     "input": [
      "!pip install jieba"
     ],
     "language": "python",
     "metadata": {},
     "outputs": [
      {
       "output_type": "stream",
       "stream": "stdout",
       "text": [
        "Downloading/unpacking jieba\r\n"
       ]
      },
      {
       "output_type": "stream",
       "stream": "stdout",
       "text": [
        "  Downloading jieba-0.37.zip (6.4MB): \r",
        "  Downloading jieba-0.37.zip (6.4MB):   0%  4.1kB\r",
        "  Downloading jieba-0.37.zip (6.4MB):   0%  8.2kB\r",
        "  Downloading jieba-0.37.zip (6.4MB):   0%  12kB \r",
        "  Downloading jieba-0.37.zip (6.4MB):   0%  16kB\r",
        "  Downloading jieba-0.37.zip (6.4MB):   0%  20kB\r",
        "  Downloading jieba-0.37.zip (6.4MB):   0%  24kB\r",
        "  Downloading jieba-0.37.zip (6.4MB):   0%  28kB"
       ]
      },
      {
       "output_type": "stream",
       "stream": "stdout",
       "text": [
        "\r",
        "  Downloading jieba-0.37.zip (6.4MB):   0%  32kB\r",
        "  Downloading jieba-0.37.zip (6.4MB):   0%  36kB\r",
        "  Downloading jieba-0.37.zip (6.4MB):   0%  40kB\r",
        "  Downloading jieba-0.37.zip (6.4MB):   0%  45kB"
       ]
      },
      {
       "output_type": "stream",
       "stream": "stdout",
       "text": [
        "\r",
        "  Downloading jieba-0.37.zip (6.4MB):   0%  49kB\r",
        "  Downloading jieba-0.37.zip (6.4MB):   0%  53kB\r",
        "  Downloading jieba-0.37.zip (6.4MB):   0%  57kB\r",
        "  Downloading jieba-0.37.zip (6.4MB):   0%  61kB"
       ]
      },
      {
       "output_type": "stream",
       "stream": "stdout",
       "text": [
        "\r",
        "  Downloading jieba-0.37.zip (6.4MB):   1%  65kB\r",
        "  Downloading jieba-0.37.zip (6.4MB):   1%  69kB\r",
        "  Downloading jieba-0.37.zip (6.4MB):   1%  73kB\r",
        "  Downloading jieba-0.37.zip (6.4MB):   1%  77kB"
       ]
      },
      {
       "output_type": "stream",
       "stream": "stdout",
       "text": [
        "\r",
        "  Downloading jieba-0.37.zip (6.4MB):   1%  81kB\r",
        "  Downloading jieba-0.37.zip (6.4MB):   1%  86kB\r",
        "  Downloading jieba-0.37.zip (6.4MB):   1%  90kB\r",
        "  Downloading jieba-0.37.zip (6.4MB):   1%  94kB"
       ]
      },
      {
       "output_type": "stream",
       "stream": "stdout",
       "text": [
        "\r",
        "  Downloading jieba-0.37.zip (6.4MB):   1%  98kB\r",
        "  Downloading jieba-0.37.zip (6.4MB):   1%  102kB\r",
        "  Downloading jieba-0.37.zip (6.4MB):   1%  106kB\r",
        "  Downloading jieba-0.37.zip (6.4MB):   1%  110kB"
       ]
      },
      {
       "output_type": "stream",
       "stream": "stdout",
       "text": [
        "\r",
        "  Downloading jieba-0.37.zip (6.4MB):   1%  114kB\r",
        "  Downloading jieba-0.37.zip (6.4MB):   1%  118kB\r",
        "  Downloading jieba-0.37.zip (6.4MB):   1%  122kB\r",
        "  Downloading jieba-0.37.zip (6.4MB):   1%  126kB"
       ]
      },
      {
       "output_type": "stream",
       "stream": "stdout",
       "text": [
        "\r",
        "  Downloading jieba-0.37.zip (6.4MB):   2%  131kB\r",
        "  Downloading jieba-0.37.zip (6.4MB):   2%  135kB\r",
        "  Downloading jieba-0.37.zip (6.4MB):   2%  139kB\r",
        "  Downloading jieba-0.37.zip (6.4MB):   2%  143kB"
       ]
      },
      {
       "output_type": "stream",
       "stream": "stdout",
       "text": [
        "\r",
        "  Downloading jieba-0.37.zip (6.4MB):   2%  147kB"
       ]
      },
      {
       "output_type": "stream",
       "stream": "stdout",
       "text": [
        "\r",
        "  Downloading jieba-0.37.zip (6.4MB):   2%  151kB\r",
        "  Downloading jieba-0.37.zip (6.4MB):   2%  155kB\r",
        "  Downloading jieba-0.37.zip (6.4MB):   2%  159kB"
       ]
      },
      {
       "output_type": "stream",
       "stream": "stdout",
       "text": [
        "\r",
        "  Downloading jieba-0.37.zip (6.4MB):   2%  163kB\r",
        "  Downloading jieba-0.37.zip (6.4MB):   2%  167kB\r",
        "  Downloading jieba-0.37.zip (6.4MB):   2%  172kB\r",
        "  Downloading jieba-0.37.zip (6.4MB):   2%  176kB"
       ]
      },
      {
       "output_type": "stream",
       "stream": "stdout",
       "text": [
        "\r",
        "  Downloading jieba-0.37.zip (6.4MB):   2%  180kB\r",
        "  Downloading jieba-0.37.zip (6.4MB):   2%  184kB\r",
        "  Downloading jieba-0.37.zip (6.4MB):   2%  188kB\r",
        "  Downloading jieba-0.37.zip (6.4MB):   3%  192kB"
       ]
      },
      {
       "output_type": "stream",
       "stream": "stdout",
       "text": [
        "\r",
        "  Downloading jieba-0.37.zip (6.4MB):   3%  196kB\r",
        "  Downloading jieba-0.37.zip (6.4MB):   3%  200kB\r",
        "  Downloading jieba-0.37.zip (6.4MB):   3%  204kB\r",
        "  Downloading jieba-0.37.zip (6.4MB):   3%  208kB"
       ]
      },
      {
       "output_type": "stream",
       "stream": "stdout",
       "text": [
        "\r",
        "  Downloading jieba-0.37.zip (6.4MB):   3%  212kB\r",
        "  Downloading jieba-0.37.zip (6.4MB):   3%  217kB\r",
        "  Downloading jieba-0.37.zip (6.4MB):   3%  221kB\r",
        "  Downloading jieba-0.37.zip (6.4MB):   3%  225kB"
       ]
      },
      {
       "output_type": "stream",
       "stream": "stdout",
       "text": [
        "\r",
        "  Downloading jieba-0.37.zip (6.4MB):   3%  229kB\r",
        "  Downloading jieba-0.37.zip (6.4MB):   3%  233kB\r",
        "  Downloading jieba-0.37.zip (6.4MB):   3%  237kB\r",
        "  Downloading jieba-0.37.zip (6.4MB):   3%  241kB"
       ]
      },
      {
       "output_type": "stream",
       "stream": "stdout",
       "text": [
        "\r",
        "  Downloading jieba-0.37.zip (6.4MB):   3%  245kB\r",
        "  Downloading jieba-0.37.zip (6.4MB):   3%  249kB\r",
        "  Downloading jieba-0.37.zip (6.4MB):   3%  253kB\r",
        "  Downloading jieba-0.37.zip (6.4MB):   4%  258kB"
       ]
      },
      {
       "output_type": "stream",
       "stream": "stdout",
       "text": [
        "\r",
        "  Downloading jieba-0.37.zip (6.4MB):   4%  262kB\r",
        "  Downloading jieba-0.37.zip (6.4MB):   4%  266kB\r",
        "  Downloading jieba-0.37.zip (6.4MB):   4%  270kB\r",
        "  Downloading jieba-0.37.zip (6.4MB):   4%  274kB"
       ]
      },
      {
       "output_type": "stream",
       "stream": "stdout",
       "text": [
        "\r",
        "  Downloading jieba-0.37.zip (6.4MB):   4%  278kB\r",
        "  Downloading jieba-0.37.zip (6.4MB):   4%  282kB\r",
        "  Downloading jieba-0.37.zip (6.4MB):   4%  286kB\r",
        "  Downloading jieba-0.37.zip (6.4MB):   4%  290kB"
       ]
      },
      {
       "output_type": "stream",
       "stream": "stdout",
       "text": [
        "\r",
        "  Downloading jieba-0.37.zip (6.4MB):   4%  294kB\r",
        "  Downloading jieba-0.37.zip (6.4MB):   4%  299kB\r",
        "  Downloading jieba-0.37.zip (6.4MB):   4%  303kB\r",
        "  Downloading jieba-0.37.zip (6.4MB):   4%  307kB"
       ]
      },
      {
       "output_type": "stream",
       "stream": "stdout",
       "text": [
        "\r",
        "  Downloading jieba-0.37.zip (6.4MB):   4%  311kB\r",
        "  Downloading jieba-0.37.zip (6.4MB):   4%  315kB\r",
        "  Downloading jieba-0.37.zip (6.4MB):   4%  319kB\r",
        "  Downloading jieba-0.37.zip (6.4MB):   5%  323kB"
       ]
      },
      {
       "output_type": "stream",
       "stream": "stdout",
       "text": [
        "\r",
        "  Downloading jieba-0.37.zip (6.4MB):   5%  327kB\r",
        "  Downloading jieba-0.37.zip (6.4MB):   5%  331kB\r",
        "  Downloading jieba-0.37.zip (6.4MB):   5%  335kB\r",
        "  Downloading jieba-0.37.zip (6.4MB):   5%  339kB"
       ]
      },
      {
       "output_type": "stream",
       "stream": "stdout",
       "text": [
        "\r",
        "  Downloading jieba-0.37.zip (6.4MB):   5%  344kB\r",
        "  Downloading jieba-0.37.zip (6.4MB):   5%  348kB\r",
        "  Downloading jieba-0.37.zip (6.4MB):   5%  352kB\r",
        "  Downloading jieba-0.37.zip (6.4MB):   5%  356kB"
       ]
      },
      {
       "output_type": "stream",
       "stream": "stdout",
       "text": [
        "\r",
        "  Downloading jieba-0.37.zip (6.4MB):   5%  360kB\r",
        "  Downloading jieba-0.37.zip (6.4MB):   5%  364kB\r",
        "  Downloading jieba-0.37.zip (6.4MB):   5%  368kB\r",
        "  Downloading jieba-0.37.zip (6.4MB):   5%  372kB"
       ]
      },
      {
       "output_type": "stream",
       "stream": "stdout",
       "text": [
        "\r",
        "  Downloading jieba-0.37.zip (6.4MB):   5%  376kB\r",
        "  Downloading jieba-0.37.zip (6.4MB):   5%  380kB\r",
        "  Downloading jieba-0.37.zip (6.4MB):   6%  385kB\r",
        "  Downloading jieba-0.37.zip (6.4MB):   6%  389kB"
       ]
      },
      {
       "output_type": "stream",
       "stream": "stdout",
       "text": [
        "\r",
        "  Downloading jieba-0.37.zip (6.4MB):   6%  393kB\r",
        "  Downloading jieba-0.37.zip (6.4MB):   6%  397kB\r",
        "  Downloading jieba-0.37.zip (6.4MB):   6%  401kB\r",
        "  Downloading jieba-0.37.zip (6.4MB):   6%  405kB"
       ]
      },
      {
       "output_type": "stream",
       "stream": "stdout",
       "text": [
        "\r",
        "  Downloading jieba-0.37.zip (6.4MB):   6%  409kB\r",
        "  Downloading jieba-0.37.zip (6.4MB):   6%  413kB\r",
        "  Downloading jieba-0.37.zip (6.4MB):   6%  417kB\r",
        "  Downloading jieba-0.37.zip (6.4MB):   6%  421kB"
       ]
      },
      {
       "output_type": "stream",
       "stream": "stdout",
       "text": [
        "\r",
        "  Downloading jieba-0.37.zip (6.4MB):   6%  425kB\r",
        "  Downloading jieba-0.37.zip (6.4MB):   6%  430kB\r",
        "  Downloading jieba-0.37.zip (6.4MB):   6%  434kB\r",
        "  Downloading jieba-0.37.zip (6.4MB):   6%  438kB"
       ]
      },
      {
       "output_type": "stream",
       "stream": "stdout",
       "text": [
        "\r",
        "  Downloading jieba-0.37.zip (6.4MB):   6%  442kB\r",
        "  Downloading jieba-0.37.zip (6.4MB):   6%  446kB\r",
        "  Downloading jieba-0.37.zip (6.4MB):   7%  450kB\r",
        "  Downloading jieba-0.37.zip (6.4MB):   7%  454kB"
       ]
      },
      {
       "output_type": "stream",
       "stream": "stdout",
       "text": [
        "\r",
        "  Downloading jieba-0.37.zip (6.4MB):   7%  458kB\r",
        "  Downloading jieba-0.37.zip (6.4MB):   7%  462kB\r",
        "  Downloading jieba-0.37.zip (6.4MB):   7%  466kB\r",
        "  Downloading jieba-0.37.zip (6.4MB):   7%  471kB"
       ]
      },
      {
       "output_type": "stream",
       "stream": "stdout",
       "text": [
        "\r",
        "  Downloading jieba-0.37.zip (6.4MB):   7%  475kB\r",
        "  Downloading jieba-0.37.zip (6.4MB):   7%  479kB\r",
        "  Downloading jieba-0.37.zip (6.4MB):   7%  483kB\r",
        "  Downloading jieba-0.37.zip (6.4MB):   7%  487kB"
       ]
      },
      {
       "output_type": "stream",
       "stream": "stdout",
       "text": [
        "\r",
        "  Downloading jieba-0.37.zip (6.4MB):   7%  491kB\r",
        "  Downloading jieba-0.37.zip (6.4MB):   7%  495kB\r",
        "  Downloading jieba-0.37.zip (6.4MB):   7%  499kB\r",
        "  Downloading jieba-0.37.zip (6.4MB):   7%  503kB"
       ]
      },
      {
       "output_type": "stream",
       "stream": "stdout",
       "text": [
        "\r",
        "  Downloading jieba-0.37.zip (6.4MB):   7%  507kB\r",
        "  Downloading jieba-0.37.zip (6.4MB):   8%  512kB\r",
        "  Downloading jieba-0.37.zip (6.4MB):   8%  516kB\r",
        "  Downloading jieba-0.37.zip (6.4MB):   8%  520kB"
       ]
      },
      {
       "output_type": "stream",
       "stream": "stdout",
       "text": [
        "\r",
        "  Downloading jieba-0.37.zip (6.4MB):   8%  524kB\r",
        "  Downloading jieba-0.37.zip (6.4MB):   8%  528kB\r",
        "  Downloading jieba-0.37.zip (6.4MB):   8%  532kB\r",
        "  Downloading jieba-0.37.zip (6.4MB):   8%  536kB"
       ]
      },
      {
       "output_type": "stream",
       "stream": "stdout",
       "text": [
        "\r",
        "  Downloading jieba-0.37.zip (6.4MB):   8%  540kB\r",
        "  Downloading jieba-0.37.zip (6.4MB):   8%  544kB\r",
        "  Downloading jieba-0.37.zip (6.4MB):   8%  548kB\r",
        "  Downloading jieba-0.37.zip (6.4MB):   8%  552kB"
       ]
      },
      {
       "output_type": "stream",
       "stream": "stdout",
       "text": [
        "\r",
        "  Downloading jieba-0.37.zip (6.4MB):   8%  557kB\r",
        "  Downloading jieba-0.37.zip (6.4MB):   8%  561kB\r",
        "  Downloading jieba-0.37.zip (6.4MB):   8%  565kB\r",
        "  Downloading jieba-0.37.zip (6.4MB):   8%  569kB"
       ]
      },
      {
       "output_type": "stream",
       "stream": "stdout",
       "text": [
        "\r",
        "  Downloading jieba-0.37.zip (6.4MB):   8%  573kB\r",
        "  Downloading jieba-0.37.zip (6.4MB):   9%  577kB\r",
        "  Downloading jieba-0.37.zip (6.4MB):   9%  581kB\r",
        "  Downloading jieba-0.37.zip (6.4MB):   9%  585kB"
       ]
      },
      {
       "output_type": "stream",
       "stream": "stdout",
       "text": [
        "\r",
        "  Downloading jieba-0.37.zip (6.4MB):   9%  589kB\r",
        "  Downloading jieba-0.37.zip (6.4MB):   9%  593kB\r",
        "  Downloading jieba-0.37.zip (6.4MB):   9%  598kB\r",
        "  Downloading jieba-0.37.zip (6.4MB):   9%  602kB"
       ]
      },
      {
       "output_type": "stream",
       "stream": "stdout",
       "text": [
        "\r",
        "  Downloading jieba-0.37.zip (6.4MB):   9%  606kB\r",
        "  Downloading jieba-0.37.zip (6.4MB):   9%  610kB\r",
        "  Downloading jieba-0.37.zip (6.4MB):   9%  614kB\r",
        "  Downloading jieba-0.37.zip (6.4MB):   9%  618kB"
       ]
      },
      {
       "output_type": "stream",
       "stream": "stdout",
       "text": [
        "\r",
        "  Downloading jieba-0.37.zip (6.4MB):   9%  622kB\r",
        "  Downloading jieba-0.37.zip (6.4MB):   9%  626kB\r",
        "  Downloading jieba-0.37.zip (6.4MB):   9%  630kB\r",
        "  Downloading jieba-0.37.zip (6.4MB):   9%  634kB"
       ]
      },
      {
       "output_type": "stream",
       "stream": "stdout",
       "text": [
        "\r",
        "  Downloading jieba-0.37.zip (6.4MB):   9%  638kB\r",
        "  Downloading jieba-0.37.zip (6.4MB):  10%  643kB\r",
        "  Downloading jieba-0.37.zip (6.4MB):  10%  647kB\r",
        "  Downloading jieba-0.37.zip (6.4MB):  10%  651kB"
       ]
      },
      {
       "output_type": "stream",
       "stream": "stdout",
       "text": [
        "\r",
        "  Downloading jieba-0.37.zip (6.4MB):  10%  655kB\r",
        "  Downloading jieba-0.37.zip (6.4MB):  10%  659kB\r",
        "  Downloading jieba-0.37.zip (6.4MB):  10%  663kB\r",
        "  Downloading jieba-0.37.zip (6.4MB):  10%  667kB"
       ]
      },
      {
       "output_type": "stream",
       "stream": "stdout",
       "text": [
        "\r",
        "  Downloading jieba-0.37.zip (6.4MB):  10%  671kB\r",
        "  Downloading jieba-0.37.zip (6.4MB):  10%  675kB\r",
        "  Downloading jieba-0.37.zip (6.4MB):  10%  679kB\r",
        "  Downloading jieba-0.37.zip (6.4MB):  10%  684kB"
       ]
      },
      {
       "output_type": "stream",
       "stream": "stdout",
       "text": [
        "\r",
        "  Downloading jieba-0.37.zip (6.4MB):  10%  688kB\r",
        "  Downloading jieba-0.37.zip (6.4MB):  10%  692kB\r",
        "  Downloading jieba-0.37.zip (6.4MB):  10%  696kB\r",
        "  Downloading jieba-0.37.zip (6.4MB):  10%  700kB"
       ]
      },
      {
       "output_type": "stream",
       "stream": "stdout",
       "text": [
        "\r",
        "  Downloading jieba-0.37.zip (6.4MB):  11%  704kB\r",
        "  Downloading jieba-0.37.zip (6.4MB):  11%  708kB\r",
        "  Downloading jieba-0.37.zip (6.4MB):  11%  712kB\r",
        "  Downloading jieba-0.37.zip (6.4MB):  11%  716kB"
       ]
      },
      {
       "output_type": "stream",
       "stream": "stdout",
       "text": [
        "\r",
        "  Downloading jieba-0.37.zip (6.4MB):  11%  720kB\r",
        "  Downloading jieba-0.37.zip (6.4MB):  11%  724kB\r",
        "  Downloading jieba-0.37.zip (6.4MB):  11%  729kB\r",
        "  Downloading jieba-0.37.zip (6.4MB):  11%  733kB"
       ]
      },
      {
       "output_type": "stream",
       "stream": "stdout",
       "text": [
        "\r",
        "  Downloading jieba-0.37.zip (6.4MB):  11%  737kB\r",
        "  Downloading jieba-0.37.zip (6.4MB):  11%  741kB\r",
        "  Downloading jieba-0.37.zip (6.4MB):  11%  745kB\r",
        "  Downloading jieba-0.37.zip (6.4MB):  11%  749kB"
       ]
      },
      {
       "output_type": "stream",
       "stream": "stdout",
       "text": [
        "\r",
        "  Downloading jieba-0.37.zip (6.4MB):  11%  753kB\r",
        "  Downloading jieba-0.37.zip (6.4MB):  11%  757kB\r",
        "  Downloading jieba-0.37.zip (6.4MB):  11%  761kB\r",
        "  Downloading jieba-0.37.zip (6.4MB):  11%  765kB"
       ]
      },
      {
       "output_type": "stream",
       "stream": "stdout",
       "text": [
        "\r",
        "  Downloading jieba-0.37.zip (6.4MB):  12%  770kB\r",
        "  Downloading jieba-0.37.zip (6.4MB):  12%  774kB\r",
        "  Downloading jieba-0.37.zip (6.4MB):  12%  778kB\r",
        "  Downloading jieba-0.37.zip (6.4MB):  12%  782kB"
       ]
      },
      {
       "output_type": "stream",
       "stream": "stdout",
       "text": [
        "\r",
        "  Downloading jieba-0.37.zip (6.4MB):  12%  786kB\r",
        "  Downloading jieba-0.37.zip (6.4MB):  12%  790kB\r",
        "  Downloading jieba-0.37.zip (6.4MB):  12%  794kB\r",
        "  Downloading jieba-0.37.zip (6.4MB):  12%  798kB"
       ]
      },
      {
       "output_type": "stream",
       "stream": "stdout",
       "text": [
        "\r",
        "  Downloading jieba-0.37.zip (6.4MB):  12%  802kB\r",
        "  Downloading jieba-0.37.zip (6.4MB):  12%  806kB\r",
        "  Downloading jieba-0.37.zip (6.4MB):  12%  811kB\r",
        "  Downloading jieba-0.37.zip (6.4MB):  12%  815kB"
       ]
      },
      {
       "output_type": "stream",
       "stream": "stdout",
       "text": [
        "\r",
        "  Downloading jieba-0.37.zip (6.4MB):  12%  819kB\r",
        "  Downloading jieba-0.37.zip (6.4MB):  12%  823kB\r",
        "  Downloading jieba-0.37.zip (6.4MB):  12%  827kB\r",
        "  Downloading jieba-0.37.zip (6.4MB):  12%  831kB"
       ]
      },
      {
       "output_type": "stream",
       "stream": "stdout",
       "text": [
        "\r",
        "  Downloading jieba-0.37.zip (6.4MB):  13%  835kB\r",
        "  Downloading jieba-0.37.zip (6.4MB):  13%  839kB\r",
        "  Downloading jieba-0.37.zip (6.4MB):  13%  843kB\r",
        "  Downloading jieba-0.37.zip (6.4MB):  13%  847kB"
       ]
      },
      {
       "output_type": "stream",
       "stream": "stdout",
       "text": [
        "\r",
        "  Downloading jieba-0.37.zip (6.4MB):  13%  851kB\r",
        "  Downloading jieba-0.37.zip (6.4MB):  13%  856kB\r",
        "  Downloading jieba-0.37.zip (6.4MB):  13%  860kB\r",
        "  Downloading jieba-0.37.zip (6.4MB):  13%  864kB"
       ]
      },
      {
       "output_type": "stream",
       "stream": "stdout",
       "text": [
        "\r",
        "  Downloading jieba-0.37.zip (6.4MB):  13%  868kB"
       ]
      },
      {
       "output_type": "stream",
       "stream": "stdout",
       "text": [
        "\r",
        "  Downloading jieba-0.37.zip (6.4MB):  13%  872kB\r",
        "  Downloading jieba-0.37.zip (6.4MB):  13%  876kB\r",
        "  Downloading jieba-0.37.zip (6.4MB):  13%  880kB"
       ]
      },
      {
       "output_type": "stream",
       "stream": "stdout",
       "text": [
        "\r",
        "  Downloading jieba-0.37.zip (6.4MB):  13%  884kB\r",
        "  Downloading jieba-0.37.zip (6.4MB):  13%  888kB\r",
        "  Downloading jieba-0.37.zip (6.4MB):  13%  892kB\r",
        "  Downloading jieba-0.37.zip (6.4MB):  14%  897kB"
       ]
      },
      {
       "output_type": "stream",
       "stream": "stdout",
       "text": [
        "\r",
        "  Downloading jieba-0.37.zip (6.4MB):  14%  901kB\r",
        "  Downloading jieba-0.37.zip (6.4MB):  14%  905kB\r",
        "  Downloading jieba-0.37.zip (6.4MB):  14%  909kB\r",
        "  Downloading jieba-0.37.zip (6.4MB):  14%  913kB"
       ]
      },
      {
       "output_type": "stream",
       "stream": "stdout",
       "text": [
        "\r",
        "  Downloading jieba-0.37.zip (6.4MB):  14%  917kB\r",
        "  Downloading jieba-0.37.zip (6.4MB):  14%  921kB\r",
        "  Downloading jieba-0.37.zip (6.4MB):  14%  925kB\r",
        "  Downloading jieba-0.37.zip (6.4MB):  14%  929kB"
       ]
      },
      {
       "output_type": "stream",
       "stream": "stdout",
       "text": [
        "\r",
        "  Downloading jieba-0.37.zip (6.4MB):  14%  933kB\r",
        "  Downloading jieba-0.37.zip (6.4MB):  14%  937kB\r",
        "  Downloading jieba-0.37.zip (6.4MB):  14%  942kB\r",
        "  Downloading jieba-0.37.zip (6.4MB):  14%  946kB"
       ]
      },
      {
       "output_type": "stream",
       "stream": "stdout",
       "text": [
        "\r",
        "  Downloading jieba-0.37.zip (6.4MB):  14%  950kB\r",
        "  Downloading jieba-0.37.zip (6.4MB):  14%  954kB\r",
        "  Downloading jieba-0.37.zip (6.4MB):  14%  958kB\r",
        "  Downloading jieba-0.37.zip (6.4MB):  15%  962kB"
       ]
      },
      {
       "output_type": "stream",
       "stream": "stdout",
       "text": [
        "\r",
        "  Downloading jieba-0.37.zip (6.4MB):  15%  966kB\r",
        "  Downloading jieba-0.37.zip (6.4MB):  15%  970kB\r",
        "  Downloading jieba-0.37.zip (6.4MB):  15%  974kB\r",
        "  Downloading jieba-0.37.zip (6.4MB):  15%  978kB"
       ]
      },
      {
       "output_type": "stream",
       "stream": "stdout",
       "text": [
        "\r",
        "  Downloading jieba-0.37.zip (6.4MB):  15%  983kB\r",
        "  Downloading jieba-0.37.zip (6.4MB):  15%  987kB\r",
        "  Downloading jieba-0.37.zip (6.4MB):  15%  991kB\r",
        "  Downloading jieba-0.37.zip (6.4MB):  15%  995kB"
       ]
      },
      {
       "output_type": "stream",
       "stream": "stdout",
       "text": [
        "\r",
        "  Downloading jieba-0.37.zip (6.4MB):  15%  999kB\r",
        "  Downloading jieba-0.37.zip (6.4MB):  15%  1.0MB\r",
        "  Downloading jieba-0.37.zip (6.4MB):  15%  1.0MB\r",
        "  Downloading jieba-0.37.zip (6.4MB):  15%  1.0MB"
       ]
      },
      {
       "output_type": "stream",
       "stream": "stdout",
       "text": [
        "\r",
        "  Downloading jieba-0.37.zip (6.4MB):  15%  1.0MB\r",
        "  Downloading jieba-0.37.zip (6.4MB):  15%  1.0MB\r",
        "  Downloading jieba-0.37.zip (6.4MB):  16%  1.0MB\r",
        "  Downloading jieba-0.37.zip (6.4MB):  16%  1.0MB"
       ]
      },
      {
       "output_type": "stream",
       "stream": "stdout",
       "text": [
        "\r",
        "  Downloading jieba-0.37.zip (6.4MB):  16%  1.0MB\r",
        "  Downloading jieba-0.37.zip (6.4MB):  16%  1.0MB\r",
        "  Downloading jieba-0.37.zip (6.4MB):  16%  1.0MB\r",
        "  Downloading jieba-0.37.zip (6.4MB):  16%  1.0MB"
       ]
      },
      {
       "output_type": "stream",
       "stream": "stdout",
       "text": [
        "\r",
        "  Downloading jieba-0.37.zip (6.4MB):  16%  1.0MB\r",
        "  Downloading jieba-0.37.zip (6.4MB):  16%  1.1MB\r",
        "  Downloading jieba-0.37.zip (6.4MB):  16%  1.1MB\r",
        "  Downloading jieba-0.37.zip (6.4MB):  16%  1.1MB"
       ]
      },
      {
       "output_type": "stream",
       "stream": "stdout",
       "text": [
        "\r",
        "  Downloading jieba-0.37.zip (6.4MB):  16%  1.1MB\r",
        "  Downloading jieba-0.37.zip (6.4MB):  16%  1.1MB\r",
        "  Downloading jieba-0.37.zip (6.4MB):  16%  1.1MB\r",
        "  Downloading jieba-0.37.zip (6.4MB):  16%  1.1MB"
       ]
      },
      {
       "output_type": "stream",
       "stream": "stdout",
       "text": [
        "\r",
        "  Downloading jieba-0.37.zip (6.4MB):  16%  1.1MB\r",
        "  Downloading jieba-0.37.zip (6.4MB):  16%  1.1MB\r",
        "  Downloading jieba-0.37.zip (6.4MB):  17%  1.1MB\r",
        "  Downloading jieba-0.37.zip (6.4MB):  17%  1.1MB"
       ]
      },
      {
       "output_type": "stream",
       "stream": "stdout",
       "text": [
        "\r",
        "  Downloading jieba-0.37.zip (6.4MB):  17%  1.1MB\r",
        "  Downloading jieba-0.37.zip (6.4MB):  17%  1.1MB\r",
        "  Downloading jieba-0.37.zip (6.4MB):  17%  1.1MB\r",
        "  Downloading jieba-0.37.zip (6.4MB):  17%  1.1MB"
       ]
      },
      {
       "output_type": "stream",
       "stream": "stdout",
       "text": [
        "\r",
        "  Downloading jieba-0.37.zip (6.4MB):  17%  1.1MB\r",
        "  Downloading jieba-0.37.zip (6.4MB):  17%  1.1MB\r",
        "  Downloading jieba-0.37.zip (6.4MB):  17%  1.1MB\r",
        "  Downloading jieba-0.37.zip (6.4MB):  17%  1.1MB"
       ]
      },
      {
       "output_type": "stream",
       "stream": "stdout",
       "text": [
        "\r",
        "  Downloading jieba-0.37.zip (6.4MB):  17%  1.1MB\r",
        "  Downloading jieba-0.37.zip (6.4MB):  17%  1.1MB\r",
        "  Downloading jieba-0.37.zip (6.4MB):  17%  1.1MB\r",
        "  Downloading jieba-0.37.zip (6.4MB):  17%  1.1MB"
       ]
      },
      {
       "output_type": "stream",
       "stream": "stdout",
       "text": [
        "\r",
        "  Downloading jieba-0.37.zip (6.4MB):  17%  1.1MB\r",
        "  Downloading jieba-0.37.zip (6.4MB):  17%  1.2MB\r",
        "  Downloading jieba-0.37.zip (6.4MB):  18%  1.2MB\r",
        "  Downloading jieba-0.37.zip (6.4MB):  18%  1.2MB"
       ]
      },
      {
       "output_type": "stream",
       "stream": "stdout",
       "text": [
        "\r",
        "  Downloading jieba-0.37.zip (6.4MB):  18%  1.2MB\r",
        "  Downloading jieba-0.37.zip (6.4MB):  18%  1.2MB\r",
        "  Downloading jieba-0.37.zip (6.4MB):  18%  1.2MB\r",
        "  Downloading jieba-0.37.zip (6.4MB):  18%  1.2MB"
       ]
      },
      {
       "output_type": "stream",
       "stream": "stdout",
       "text": [
        "\r",
        "  Downloading jieba-0.37.zip (6.4MB):  18%  1.2MB\r",
        "  Downloading jieba-0.37.zip (6.4MB):  18%  1.2MB\r",
        "  Downloading jieba-0.37.zip (6.4MB):  18%  1.2MB\r",
        "  Downloading jieba-0.37.zip (6.4MB):  18%  1.2MB"
       ]
      },
      {
       "output_type": "stream",
       "stream": "stdout",
       "text": [
        "\r",
        "  Downloading jieba-0.37.zip (6.4MB):  18%  1.2MB\r",
        "  Downloading jieba-0.37.zip (6.4MB):  18%  1.2MB\r",
        "  Downloading jieba-0.37.zip (6.4MB):  18%  1.2MB\r",
        "  Downloading jieba-0.37.zip (6.4MB):  18%  1.2MB"
       ]
      },
      {
       "output_type": "stream",
       "stream": "stdout",
       "text": [
        "\r",
        "  Downloading jieba-0.37.zip (6.4MB):  18%  1.2MB"
       ]
      },
      {
       "output_type": "stream",
       "stream": "stdout",
       "text": [
        "\r",
        "  Downloading jieba-0.37.zip (6.4MB):  19%  1.2MB\r",
        "  Downloading jieba-0.37.zip (6.4MB):  19%  1.2MB\r",
        "  Downloading jieba-0.37.zip (6.4MB):  19%  1.2MB"
       ]
      },
      {
       "output_type": "stream",
       "stream": "stdout",
       "text": [
        "\r",
        "  Downloading jieba-0.37.zip (6.4MB):  19%  1.2MB\r",
        "  Downloading jieba-0.37.zip (6.4MB):  19%  1.2MB\r",
        "  Downloading jieba-0.37.zip (6.4MB):  19%  1.2MB\r",
        "  Downloading jieba-0.37.zip (6.4MB):  19%  1.2MB"
       ]
      },
      {
       "output_type": "stream",
       "stream": "stdout",
       "text": [
        "\r",
        "  Downloading jieba-0.37.zip (6.4MB):  19%  1.2MB\r",
        "  Downloading jieba-0.37.zip (6.4MB):  19%  1.2MB\r",
        "  Downloading jieba-0.37.zip (6.4MB):  19%  1.3MB\r",
        "  Downloading jieba-0.37.zip (6.4MB):  19%  1.3MB"
       ]
      },
      {
       "output_type": "stream",
       "stream": "stdout",
       "text": [
        "\r",
        "  Downloading jieba-0.37.zip (6.4MB):  19%  1.3MB\r",
        "  Downloading jieba-0.37.zip (6.4MB):  19%  1.3MB\r",
        "  Downloading jieba-0.37.zip (6.4MB):  19%  1.3MB\r",
        "  Downloading jieba-0.37.zip (6.4MB):  19%  1.3MB"
       ]
      },
      {
       "output_type": "stream",
       "stream": "stdout",
       "text": [
        "\r",
        "  Downloading jieba-0.37.zip (6.4MB):  19%  1.3MB\r",
        "  Downloading jieba-0.37.zip (6.4MB):  20%  1.3MB\r",
        "  Downloading jieba-0.37.zip (6.4MB):  20%  1.3MB\r",
        "  Downloading jieba-0.37.zip (6.4MB):  20%  1.3MB"
       ]
      },
      {
       "output_type": "stream",
       "stream": "stdout",
       "text": [
        "\r",
        "  Downloading jieba-0.37.zip (6.4MB):  20%  1.3MB\r",
        "  Downloading jieba-0.37.zip (6.4MB):  20%  1.3MB\r",
        "  Downloading jieba-0.37.zip (6.4MB):  20%  1.3MB\r",
        "  Downloading jieba-0.37.zip (6.4MB):  20%  1.3MB"
       ]
      },
      {
       "output_type": "stream",
       "stream": "stdout",
       "text": [
        "\r",
        "  Downloading jieba-0.37.zip (6.4MB):  20%  1.3MB\r",
        "  Downloading jieba-0.37.zip (6.4MB):  20%  1.3MB\r",
        "  Downloading jieba-0.37.zip (6.4MB):  20%  1.3MB\r",
        "  Downloading jieba-0.37.zip (6.4MB):  20%  1.3MB"
       ]
      },
      {
       "output_type": "stream",
       "stream": "stdout",
       "text": [
        "\r",
        "  Downloading jieba-0.37.zip (6.4MB):  20%  1.3MB\r",
        "  Downloading jieba-0.37.zip (6.4MB):  20%  1.3MB\r",
        "  Downloading jieba-0.37.zip (6.4MB):  20%  1.3MB\r",
        "  Downloading jieba-0.37.zip (6.4MB):  20%  1.3MB"
       ]
      },
      {
       "output_type": "stream",
       "stream": "stdout",
       "text": [
        "\r",
        "  Downloading jieba-0.37.zip (6.4MB):  21%  1.3MB\r",
        "  Downloading jieba-0.37.zip (6.4MB):  21%  1.3MB\r",
        "  Downloading jieba-0.37.zip (6.4MB):  21%  1.4MB\r",
        "  Downloading jieba-0.37.zip (6.4MB):  21%  1.4MB"
       ]
      },
      {
       "output_type": "stream",
       "stream": "stdout",
       "text": [
        "\r",
        "  Downloading jieba-0.37.zip (6.4MB):  21%  1.4MB\r",
        "  Downloading jieba-0.37.zip (6.4MB):  21%  1.4MB\r",
        "  Downloading jieba-0.37.zip (6.4MB):  21%  1.4MB\r",
        "  Downloading jieba-0.37.zip (6.4MB):  21%  1.4MB"
       ]
      },
      {
       "output_type": "stream",
       "stream": "stdout",
       "text": [
        "\r",
        "  Downloading jieba-0.37.zip (6.4MB):  21%  1.4MB\r",
        "  Downloading jieba-0.37.zip (6.4MB):  21%  1.4MB\r",
        "  Downloading jieba-0.37.zip (6.4MB):  21%  1.4MB\r",
        "  Downloading jieba-0.37.zip (6.4MB):  21%  1.4MB"
       ]
      },
      {
       "output_type": "stream",
       "stream": "stdout",
       "text": [
        "\r",
        "  Downloading jieba-0.37.zip (6.4MB):  21%  1.4MB\r",
        "  Downloading jieba-0.37.zip (6.4MB):  21%  1.4MB\r",
        "  Downloading jieba-0.37.zip (6.4MB):  21%  1.4MB\r",
        "  Downloading jieba-0.37.zip (6.4MB):  21%  1.4MB"
       ]
      },
      {
       "output_type": "stream",
       "stream": "stdout",
       "text": [
        "\r",
        "  Downloading jieba-0.37.zip (6.4MB):  22%  1.4MB\r",
        "  Downloading jieba-0.37.zip (6.4MB):  22%  1.4MB\r",
        "  Downloading jieba-0.37.zip (6.4MB):  22%  1.4MB\r",
        "  Downloading jieba-0.37.zip (6.4MB):  22%  1.4MB"
       ]
      },
      {
       "output_type": "stream",
       "stream": "stdout",
       "text": [
        "\r",
        "  Downloading jieba-0.37.zip (6.4MB):  22%  1.4MB\r",
        "  Downloading jieba-0.37.zip (6.4MB):  22%  1.4MB\r",
        "  Downloading jieba-0.37.zip (6.4MB):  22%  1.4MB\r",
        "  Downloading jieba-0.37.zip (6.4MB):  22%  1.4MB"
       ]
      },
      {
       "output_type": "stream",
       "stream": "stdout",
       "text": [
        "\r",
        "  Downloading jieba-0.37.zip (6.4MB):  22%  1.4MB\r",
        "  Downloading jieba-0.37.zip (6.4MB):  22%  1.4MB\r",
        "  Downloading jieba-0.37.zip (6.4MB):  22%  1.4MB\r",
        "  Downloading jieba-0.37.zip (6.4MB):  22%  1.5MB"
       ]
      },
      {
       "output_type": "stream",
       "stream": "stdout",
       "text": [
        "\r",
        "  Downloading jieba-0.37.zip (6.4MB):  22%  1.5MB\r",
        "  Downloading jieba-0.37.zip (6.4MB):  22%  1.5MB\r",
        "  Downloading jieba-0.37.zip (6.4MB):  22%  1.5MB\r",
        "  Downloading jieba-0.37.zip (6.4MB):  22%  1.5MB"
       ]
      },
      {
       "output_type": "stream",
       "stream": "stdout",
       "text": [
        "\r",
        "  Downloading jieba-0.37.zip (6.4MB):  23%  1.5MB\r",
        "  Downloading jieba-0.37.zip (6.4MB):  23%  1.5MB\r",
        "  Downloading jieba-0.37.zip (6.4MB):  23%  1.5MB\r",
        "  Downloading jieba-0.37.zip (6.4MB):  23%  1.5MB"
       ]
      },
      {
       "output_type": "stream",
       "stream": "stdout",
       "text": [
        "\r",
        "  Downloading jieba-0.37.zip (6.4MB):  23%  1.5MB\r",
        "  Downloading jieba-0.37.zip (6.4MB):  23%  1.5MB\r",
        "  Downloading jieba-0.37.zip (6.4MB):  23%  1.5MB\r",
        "  Downloading jieba-0.37.zip (6.4MB):  23%  1.5MB"
       ]
      },
      {
       "output_type": "stream",
       "stream": "stdout",
       "text": [
        "\r",
        "  Downloading jieba-0.37.zip (6.4MB):  23%  1.5MB\r",
        "  Downloading jieba-0.37.zip (6.4MB):  23%  1.5MB\r",
        "  Downloading jieba-0.37.zip (6.4MB):  23%  1.5MB\r",
        "  Downloading jieba-0.37.zip (6.4MB):  23%  1.5MB"
       ]
      },
      {
       "output_type": "stream",
       "stream": "stdout",
       "text": [
        "\r",
        "  Downloading jieba-0.37.zip (6.4MB):  23%  1.5MB\r",
        "  Downloading jieba-0.37.zip (6.4MB):  23%  1.5MB\r",
        "  Downloading jieba-0.37.zip (6.4MB):  23%  1.5MB\r",
        "  Downloading jieba-0.37.zip (6.4MB):  24%  1.5MB"
       ]
      },
      {
       "output_type": "stream",
       "stream": "stdout",
       "text": [
        "\r",
        "  Downloading jieba-0.37.zip (6.4MB):  24%  1.5MB"
       ]
      },
      {
       "output_type": "stream",
       "stream": "stdout",
       "text": [
        "\r",
        "  Downloading jieba-0.37.zip (6.4MB):  24%  1.5MB\r",
        "  Downloading jieba-0.37.zip (6.4MB):  24%  1.5MB\r",
        "  Downloading jieba-0.37.zip (6.4MB):  24%  1.6MB"
       ]
      },
      {
       "output_type": "stream",
       "stream": "stdout",
       "text": [
        "\r",
        "  Downloading jieba-0.37.zip (6.4MB):  24%  1.6MB\r",
        "  Downloading jieba-0.37.zip (6.4MB):  24%  1.6MB\r",
        "  Downloading jieba-0.37.zip (6.4MB):  24%  1.6MB\r",
        "  Downloading jieba-0.37.zip (6.4MB):  24%  1.6MB"
       ]
      },
      {
       "output_type": "stream",
       "stream": "stdout",
       "text": [
        "\r",
        "  Downloading jieba-0.37.zip (6.4MB):  24%  1.6MB\r",
        "  Downloading jieba-0.37.zip (6.4MB):  24%  1.6MB\r",
        "  Downloading jieba-0.37.zip (6.4MB):  24%  1.6MB\r",
        "  Downloading jieba-0.37.zip (6.4MB):  24%  1.6MB"
       ]
      },
      {
       "output_type": "stream",
       "stream": "stdout",
       "text": [
        "\r",
        "  Downloading jieba-0.37.zip (6.4MB):  24%  1.6MB\r",
        "  Downloading jieba-0.37.zip (6.4MB):  24%  1.6MB\r",
        "  Downloading jieba-0.37.zip (6.4MB):  24%  1.6MB\r",
        "  Downloading jieba-0.37.zip (6.4MB):  25%  1.6MB"
       ]
      },
      {
       "output_type": "stream",
       "stream": "stdout",
       "text": [
        "\r",
        "  Downloading jieba-0.37.zip (6.4MB):  25%  1.6MB\r",
        "  Downloading jieba-0.37.zip (6.4MB):  25%  1.6MB\r",
        "  Downloading jieba-0.37.zip (6.4MB):  25%  1.6MB\r",
        "  Downloading jieba-0.37.zip (6.4MB):  25%  1.6MB"
       ]
      },
      {
       "output_type": "stream",
       "stream": "stdout",
       "text": [
        "\r",
        "  Downloading jieba-0.37.zip (6.4MB):  25%  1.6MB\r",
        "  Downloading jieba-0.37.zip (6.4MB):  25%  1.6MB\r",
        "  Downloading jieba-0.37.zip (6.4MB):  25%  1.6MB\r",
        "  Downloading jieba-0.37.zip (6.4MB):  25%  1.6MB"
       ]
      },
      {
       "output_type": "stream",
       "stream": "stdout",
       "text": [
        "\r",
        "  Downloading jieba-0.37.zip (6.4MB):  25%  1.6MB\r",
        "  Downloading jieba-0.37.zip (6.4MB):  25%  1.6MB\r",
        "  Downloading jieba-0.37.zip (6.4MB):  25%  1.6MB\r",
        "  Downloading jieba-0.37.zip (6.4MB):  25%  1.7MB"
       ]
      },
      {
       "output_type": "stream",
       "stream": "stdout",
       "text": [
        "\r",
        "  Downloading jieba-0.37.zip (6.4MB):  25%  1.7MB\r",
        "  Downloading jieba-0.37.zip (6.4MB):  25%  1.7MB\r",
        "  Downloading jieba-0.37.zip (6.4MB):  25%  1.7MB\r",
        "  Downloading jieba-0.37.zip (6.4MB):  26%  1.7MB"
       ]
      },
      {
       "output_type": "stream",
       "stream": "stdout",
       "text": [
        "\r",
        "  Downloading jieba-0.37.zip (6.4MB):  26%  1.7MB\r",
        "  Downloading jieba-0.37.zip (6.4MB):  26%  1.7MB\r",
        "  Downloading jieba-0.37.zip (6.4MB):  26%  1.7MB\r",
        "  Downloading jieba-0.37.zip (6.4MB):  26%  1.7MB"
       ]
      },
      {
       "output_type": "stream",
       "stream": "stdout",
       "text": [
        "\r",
        "  Downloading jieba-0.37.zip (6.4MB):  26%  1.7MB\r",
        "  Downloading jieba-0.37.zip (6.4MB):  26%  1.7MB\r",
        "  Downloading jieba-0.37.zip (6.4MB):  26%  1.7MB\r",
        "  Downloading jieba-0.37.zip (6.4MB):  26%  1.7MB"
       ]
      },
      {
       "output_type": "stream",
       "stream": "stdout",
       "text": [
        "\r",
        "  Downloading jieba-0.37.zip (6.4MB):  26%  1.7MB\r",
        "  Downloading jieba-0.37.zip (6.4MB):  26%  1.7MB\r",
        "  Downloading jieba-0.37.zip (6.4MB):  26%  1.7MB\r",
        "  Downloading jieba-0.37.zip (6.4MB):  26%  1.7MB"
       ]
      },
      {
       "output_type": "stream",
       "stream": "stdout",
       "text": [
        "\r",
        "  Downloading jieba-0.37.zip (6.4MB):  26%  1.7MB\r",
        "  Downloading jieba-0.37.zip (6.4MB):  26%  1.7MB\r",
        "  Downloading jieba-0.37.zip (6.4MB):  27%  1.7MB\r",
        "  Downloading jieba-0.37.zip (6.4MB):  27%  1.7MB"
       ]
      },
      {
       "output_type": "stream",
       "stream": "stdout",
       "text": [
        "\r",
        "  Downloading jieba-0.37.zip (6.4MB):  27%  1.7MB"
       ]
      },
      {
       "output_type": "stream",
       "stream": "stdout",
       "text": [
        "\r",
        "  Downloading jieba-0.37.zip (6.4MB):  27%  1.7MB\r",
        "  Downloading jieba-0.37.zip (6.4MB):  27%  1.7MB\r",
        "  Downloading jieba-0.37.zip (6.4MB):  27%  1.7MB"
       ]
      },
      {
       "output_type": "stream",
       "stream": "stdout",
       "text": [
        "\r",
        "  Downloading jieba-0.37.zip (6.4MB):  27%  1.8MB\r",
        "  Downloading jieba-0.37.zip (6.4MB):  27%  1.8MB\r",
        "  Downloading jieba-0.37.zip (6.4MB):  27%  1.8MB\r",
        "  Downloading jieba-0.37.zip (6.4MB):  27%  1.8MB"
       ]
      },
      {
       "output_type": "stream",
       "stream": "stdout",
       "text": [
        "\r",
        "  Downloading jieba-0.37.zip (6.4MB):  27%  1.8MB\r",
        "  Downloading jieba-0.37.zip (6.4MB):  27%  1.8MB\r",
        "  Downloading jieba-0.37.zip (6.4MB):  27%  1.8MB\r",
        "  Downloading jieba-0.37.zip (6.4MB):  27%  1.8MB"
       ]
      },
      {
       "output_type": "stream",
       "stream": "stdout",
       "text": [
        "\r",
        "  Downloading jieba-0.37.zip (6.4MB):  27%  1.8MB"
       ]
      },
      {
       "output_type": "stream",
       "stream": "stdout",
       "text": [
        "\r",
        "  Downloading jieba-0.37.zip (6.4MB):  27%  1.8MB\r",
        "  Downloading jieba-0.37.zip (6.4MB):  28%  1.8MB\r",
        "  Downloading jieba-0.37.zip (6.4MB):  28%  1.8MB"
       ]
      },
      {
       "output_type": "stream",
       "stream": "stdout",
       "text": [
        "\r",
        "  Downloading jieba-0.37.zip (6.4MB):  28%  1.8MB\r",
        "  Downloading jieba-0.37.zip (6.4MB):  28%  1.8MB\r",
        "  Downloading jieba-0.37.zip (6.4MB):  28%  1.8MB\r",
        "  Downloading jieba-0.37.zip (6.4MB):  28%  1.8MB"
       ]
      },
      {
       "output_type": "stream",
       "stream": "stdout",
       "text": [
        "\r",
        "  Downloading jieba-0.37.zip (6.4MB):  28%  1.8MB\r",
        "  Downloading jieba-0.37.zip (6.4MB):  28%  1.8MB\r",
        "  Downloading jieba-0.37.zip (6.4MB):  28%  1.8MB\r",
        "  Downloading jieba-0.37.zip (6.4MB):  28%  1.8MB"
       ]
      },
      {
       "output_type": "stream",
       "stream": "stdout",
       "text": [
        "\r",
        "  Downloading jieba-0.37.zip (6.4MB):  28%  1.8MB\r",
        "  Downloading jieba-0.37.zip (6.4MB):  28%  1.8MB\r",
        "  Downloading jieba-0.37.zip (6.4MB):  28%  1.8MB\r",
        "  Downloading jieba-0.37.zip (6.4MB):  28%  1.8MB"
       ]
      },
      {
       "output_type": "stream",
       "stream": "stdout",
       "text": [
        "\r",
        "  Downloading jieba-0.37.zip (6.4MB):  28%  1.9MB\r",
        "  Downloading jieba-0.37.zip (6.4MB):  29%  1.9MB\r",
        "  Downloading jieba-0.37.zip (6.4MB):  29%  1.9MB\r",
        "  Downloading jieba-0.37.zip (6.4MB):  29%  1.9MB"
       ]
      },
      {
       "output_type": "stream",
       "stream": "stdout",
       "text": [
        "\r",
        "  Downloading jieba-0.37.zip (6.4MB):  29%  1.9MB\r",
        "  Downloading jieba-0.37.zip (6.4MB):  29%  1.9MB\r",
        "  Downloading jieba-0.37.zip (6.4MB):  29%  1.9MB\r",
        "  Downloading jieba-0.37.zip (6.4MB):  29%  1.9MB"
       ]
      },
      {
       "output_type": "stream",
       "stream": "stdout",
       "text": [
        "\r",
        "  Downloading jieba-0.37.zip (6.4MB):  29%  1.9MB\r",
        "  Downloading jieba-0.37.zip (6.4MB):  29%  1.9MB\r",
        "  Downloading jieba-0.37.zip (6.4MB):  29%  1.9MB\r",
        "  Downloading jieba-0.37.zip (6.4MB):  29%  1.9MB"
       ]
      },
      {
       "output_type": "stream",
       "stream": "stdout",
       "text": [
        "\r",
        "  Downloading jieba-0.37.zip (6.4MB):  29%  1.9MB\r",
        "  Downloading jieba-0.37.zip (6.4MB):  29%  1.9MB\r",
        "  Downloading jieba-0.37.zip (6.4MB):  29%  1.9MB\r",
        "  Downloading jieba-0.37.zip (6.4MB):  29%  1.9MB"
       ]
      },
      {
       "output_type": "stream",
       "stream": "stdout",
       "text": [
        "\r",
        "  Downloading jieba-0.37.zip (6.4MB):  29%  1.9MB\r",
        "  Downloading jieba-0.37.zip (6.4MB):  30%  1.9MB\r",
        "  Downloading jieba-0.37.zip (6.4MB):  30%  1.9MB\r",
        "  Downloading jieba-0.37.zip (6.4MB):  30%  1.9MB"
       ]
      },
      {
       "output_type": "stream",
       "stream": "stdout",
       "text": [
        "\r",
        "  Downloading jieba-0.37.zip (6.4MB):  30%  1.9MB\r",
        "  Downloading jieba-0.37.zip (6.4MB):  30%  1.9MB\r",
        "  Downloading jieba-0.37.zip (6.4MB):  30%  1.9MB\r",
        "  Downloading jieba-0.37.zip (6.4MB):  30%  1.9MB"
       ]
      },
      {
       "output_type": "stream",
       "stream": "stdout",
       "text": [
        "\r",
        "  Downloading jieba-0.37.zip (6.4MB):  30%  1.9MB"
       ]
      },
      {
       "output_type": "stream",
       "stream": "stdout",
       "text": [
        "\r",
        "  Downloading jieba-0.37.zip (6.4MB):  30%  2.0MB\r",
        "  Downloading jieba-0.37.zip (6.4MB):  30%  2.0MB\r",
        "  Downloading jieba-0.37.zip (6.4MB):  30%  2.0MB"
       ]
      },
      {
       "output_type": "stream",
       "stream": "stdout",
       "text": [
        "\r",
        "  Downloading jieba-0.37.zip (6.4MB):  30%  2.0MB\r",
        "  Downloading jieba-0.37.zip (6.4MB):  30%  2.0MB\r",
        "  Downloading jieba-0.37.zip (6.4MB):  30%  2.0MB\r",
        "  Downloading jieba-0.37.zip (6.4MB):  30%  2.0MB"
       ]
      },
      {
       "output_type": "stream",
       "stream": "stdout",
       "text": [
        "\r",
        "  Downloading jieba-0.37.zip (6.4MB):  30%  2.0MB\r",
        "  Downloading jieba-0.37.zip (6.4MB):  31%  2.0MB\r",
        "  Downloading jieba-0.37.zip (6.4MB):  31%  2.0MB\r",
        "  Downloading jieba-0.37.zip (6.4MB):  31%  2.0MB\r",
        "  Downloading jieba-0.37.zip (6.4MB):  31%  2.0MB\r",
        "  Downloading jieba-0.37.zip (6.4MB):  31%  2.0MB\r",
        "  Downloading jieba-0.37.zip (6.4MB):  31%  2.0MB\r",
        "  Downloading jieba-0.37.zip (6.4MB):  31%  2.0MB"
       ]
      },
      {
       "output_type": "stream",
       "stream": "stdout",
       "text": [
        "\r",
        "  Downloading jieba-0.37.zip (6.4MB):  31%  2.0MB\r",
        "  Downloading jieba-0.37.zip (6.4MB):  31%  2.0MB\r",
        "  Downloading jieba-0.37.zip (6.4MB):  31%  2.0MB\r",
        "  Downloading jieba-0.37.zip (6.4MB):  31%  2.0MB"
       ]
      },
      {
       "output_type": "stream",
       "stream": "stdout",
       "text": [
        "\r",
        "  Downloading jieba-0.37.zip (6.4MB):  31%  2.0MB\r",
        "  Downloading jieba-0.37.zip (6.4MB):  31%  2.0MB\r",
        "  Downloading jieba-0.37.zip (6.4MB):  31%  2.0MB\r",
        "  Downloading jieba-0.37.zip (6.4MB):  31%  2.0MB"
       ]
      },
      {
       "output_type": "stream",
       "stream": "stdout",
       "text": [
        "\r",
        "  Downloading jieba-0.37.zip (6.4MB):  32%  2.0MB\r",
        "  Downloading jieba-0.37.zip (6.4MB):  32%  2.1MB\r",
        "  Downloading jieba-0.37.zip (6.4MB):  32%  2.1MB\r",
        "  Downloading jieba-0.37.zip (6.4MB):  32%  2.1MB"
       ]
      },
      {
       "output_type": "stream",
       "stream": "stdout",
       "text": [
        "\r",
        "  Downloading jieba-0.37.zip (6.4MB):  32%  2.1MB\r",
        "  Downloading jieba-0.37.zip (6.4MB):  32%  2.1MB\r",
        "  Downloading jieba-0.37.zip (6.4MB):  32%  2.1MB\r",
        "  Downloading jieba-0.37.zip (6.4MB):  32%  2.1MB"
       ]
      },
      {
       "output_type": "stream",
       "stream": "stdout",
       "text": [
        "\r",
        "  Downloading jieba-0.37.zip (6.4MB):  32%  2.1MB\r",
        "  Downloading jieba-0.37.zip (6.4MB):  32%  2.1MB\r",
        "  Downloading jieba-0.37.zip (6.4MB):  32%  2.1MB\r",
        "  Downloading jieba-0.37.zip (6.4MB):  32%  2.1MB"
       ]
      },
      {
       "output_type": "stream",
       "stream": "stdout",
       "text": [
        "\r",
        "  Downloading jieba-0.37.zip (6.4MB):  32%  2.1MB\r",
        "  Downloading jieba-0.37.zip (6.4MB):  32%  2.1MB\r",
        "  Downloading jieba-0.37.zip (6.4MB):  32%  2.1MB\r",
        "  Downloading jieba-0.37.zip (6.4MB):  32%  2.1MB"
       ]
      },
      {
       "output_type": "stream",
       "stream": "stdout",
       "text": [
        "\r",
        "  Downloading jieba-0.37.zip (6.4MB):  33%  2.1MB\r",
        "  Downloading jieba-0.37.zip (6.4MB):  33%  2.1MB\r",
        "  Downloading jieba-0.37.zip (6.4MB):  33%  2.1MB\r",
        "  Downloading jieba-0.37.zip (6.4MB):  33%  2.1MB"
       ]
      },
      {
       "output_type": "stream",
       "stream": "stdout",
       "text": [
        "\r",
        "  Downloading jieba-0.37.zip (6.4MB):  33%  2.1MB\r",
        "  Downloading jieba-0.37.zip (6.4MB):  33%  2.1MB\r",
        "  Downloading jieba-0.37.zip (6.4MB):  33%  2.1MB\r",
        "  Downloading jieba-0.37.zip (6.4MB):  33%  2.1MB"
       ]
      },
      {
       "output_type": "stream",
       "stream": "stdout",
       "text": [
        "\r",
        "  Downloading jieba-0.37.zip (6.4MB):  33%  2.1MB\r",
        "  Downloading jieba-0.37.zip (6.4MB):  33%  2.2MB\r",
        "  Downloading jieba-0.37.zip (6.4MB):  33%  2.2MB\r",
        "  Downloading jieba-0.37.zip (6.4MB):  33%  2.2MB"
       ]
      },
      {
       "output_type": "stream",
       "stream": "stdout",
       "text": [
        "\r",
        "  Downloading jieba-0.37.zip (6.4MB):  33%  2.2MB\r",
        "  Downloading jieba-0.37.zip (6.4MB):  33%  2.2MB\r",
        "  Downloading jieba-0.37.zip (6.4MB):  33%  2.2MB\r",
        "  Downloading jieba-0.37.zip (6.4MB):  34%  2.2MB"
       ]
      },
      {
       "output_type": "stream",
       "stream": "stdout",
       "text": [
        "\r",
        "  Downloading jieba-0.37.zip (6.4MB):  34%  2.2MB\r",
        "  Downloading jieba-0.37.zip (6.4MB):  34%  2.2MB\r",
        "  Downloading jieba-0.37.zip (6.4MB):  34%  2.2MB\r",
        "  Downloading jieba-0.37.zip (6.4MB):  34%  2.2MB"
       ]
      },
      {
       "output_type": "stream",
       "stream": "stdout",
       "text": [
        "\r",
        "  Downloading jieba-0.37.zip (6.4MB):  34%  2.2MB\r",
        "  Downloading jieba-0.37.zip (6.4MB):  34%  2.2MB\r",
        "  Downloading jieba-0.37.zip (6.4MB):  34%  2.2MB\r",
        "  Downloading jieba-0.37.zip (6.4MB):  34%  2.2MB"
       ]
      },
      {
       "output_type": "stream",
       "stream": "stdout",
       "text": [
        "\r",
        "  Downloading jieba-0.37.zip (6.4MB):  34%  2.2MB\r",
        "  Downloading jieba-0.37.zip (6.4MB):  34%  2.2MB\r",
        "  Downloading jieba-0.37.zip (6.4MB):  34%  2.2MB\r",
        "  Downloading jieba-0.37.zip (6.4MB):  34%  2.2MB"
       ]
      },
      {
       "output_type": "stream",
       "stream": "stdout",
       "text": [
        "\r",
        "  Downloading jieba-0.37.zip (6.4MB):  34%  2.2MB\r",
        "  Downloading jieba-0.37.zip (6.4MB):  34%  2.2MB\r",
        "  Downloading jieba-0.37.zip (6.4MB):  34%  2.2MB\r",
        "  Downloading jieba-0.37.zip (6.4MB):  35%  2.2MB"
       ]
      },
      {
       "output_type": "stream",
       "stream": "stdout",
       "text": [
        "\r",
        "  Downloading jieba-0.37.zip (6.4MB):  35%  2.2MB\r",
        "  Downloading jieba-0.37.zip (6.4MB):  35%  2.2MB\r",
        "  Downloading jieba-0.37.zip (6.4MB):  35%  2.3MB\r",
        "  Downloading jieba-0.37.zip (6.4MB):  35%  2.3MB"
       ]
      },
      {
       "output_type": "stream",
       "stream": "stdout",
       "text": [
        "\r",
        "  Downloading jieba-0.37.zip (6.4MB):  35%  2.3MB\r",
        "  Downloading jieba-0.37.zip (6.4MB):  35%  2.3MB\r",
        "  Downloading jieba-0.37.zip (6.4MB):  35%  2.3MB\r",
        "  Downloading jieba-0.37.zip (6.4MB):  35%  2.3MB"
       ]
      },
      {
       "output_type": "stream",
       "stream": "stdout",
       "text": [
        "\r",
        "  Downloading jieba-0.37.zip (6.4MB):  35%  2.3MB\r",
        "  Downloading jieba-0.37.zip (6.4MB):  35%  2.3MB\r",
        "  Downloading jieba-0.37.zip (6.4MB):  35%  2.3MB\r",
        "  Downloading jieba-0.37.zip (6.4MB):  35%  2.3MB"
       ]
      },
      {
       "output_type": "stream",
       "stream": "stdout",
       "text": [
        "\r",
        "  Downloading jieba-0.37.zip (6.4MB):  35%  2.3MB\r",
        "  Downloading jieba-0.37.zip (6.4MB):  35%  2.3MB\r",
        "  Downloading jieba-0.37.zip (6.4MB):  35%  2.3MB\r",
        "  Downloading jieba-0.37.zip (6.4MB):  36%  2.3MB"
       ]
      },
      {
       "output_type": "stream",
       "stream": "stdout",
       "text": [
        "\r",
        "  Downloading jieba-0.37.zip (6.4MB):  36%  2.3MB"
       ]
      },
      {
       "output_type": "stream",
       "stream": "stdout",
       "text": [
        "\r",
        "  Downloading jieba-0.37.zip (6.4MB):  36%  2.3MB\r",
        "  Downloading jieba-0.37.zip (6.4MB):  36%  2.3MB\r",
        "  Downloading jieba-0.37.zip (6.4MB):  36%  2.3MB"
       ]
      },
      {
       "output_type": "stream",
       "stream": "stdout",
       "text": [
        "\r",
        "  Downloading jieba-0.37.zip (6.4MB):  36%  2.3MB"
       ]
      },
      {
       "output_type": "stream",
       "stream": "stdout",
       "text": [
        "\r",
        "  Downloading jieba-0.37.zip (6.4MB):  36%  2.3MB\r",
        "  Downloading jieba-0.37.zip (6.4MB):  36%  2.3MB\r",
        "  Downloading jieba-0.37.zip (6.4MB):  36%  2.3MB"
       ]
      },
      {
       "output_type": "stream",
       "stream": "stdout",
       "text": [
        "\r",
        "  Downloading jieba-0.37.zip (6.4MB):  36%  2.3MB\r",
        "  Downloading jieba-0.37.zip (6.4MB):  36%  2.3MB\r",
        "  Downloading jieba-0.37.zip (6.4MB):  36%  2.4MB\r",
        "  Downloading jieba-0.37.zip (6.4MB):  36%  2.4MB"
       ]
      },
      {
       "output_type": "stream",
       "stream": "stdout",
       "text": [
        "\r",
        "  Downloading jieba-0.37.zip (6.4MB):  36%  2.4MB\r",
        "  Downloading jieba-0.37.zip (6.4MB):  36%  2.4MB\r",
        "  Downloading jieba-0.37.zip (6.4MB):  37%  2.4MB\r",
        "  Downloading jieba-0.37.zip (6.4MB):  37%  2.4MB"
       ]
      },
      {
       "output_type": "stream",
       "stream": "stdout",
       "text": [
        "\r",
        "  Downloading jieba-0.37.zip (6.4MB):  37%  2.4MB\r",
        "  Downloading jieba-0.37.zip (6.4MB):  37%  2.4MB\r",
        "  Downloading jieba-0.37.zip (6.4MB):  37%  2.4MB\r",
        "  Downloading jieba-0.37.zip (6.4MB):  37%  2.4MB"
       ]
      },
      {
       "output_type": "stream",
       "stream": "stdout",
       "text": [
        "\r",
        "  Downloading jieba-0.37.zip (6.4MB):  37%  2.4MB\r",
        "  Downloading jieba-0.37.zip (6.4MB):  37%  2.4MB\r",
        "  Downloading jieba-0.37.zip (6.4MB):  37%  2.4MB\r",
        "  Downloading jieba-0.37.zip (6.4MB):  37%  2.4MB"
       ]
      },
      {
       "output_type": "stream",
       "stream": "stdout",
       "text": [
        "\r",
        "  Downloading jieba-0.37.zip (6.4MB):  37%  2.4MB\r",
        "  Downloading jieba-0.37.zip (6.4MB):  37%  2.4MB\r",
        "  Downloading jieba-0.37.zip (6.4MB):  37%  2.4MB\r",
        "  Downloading jieba-0.37.zip (6.4MB):  37%  2.4MB"
       ]
      },
      {
       "output_type": "stream",
       "stream": "stdout",
       "text": [
        "\r",
        "  Downloading jieba-0.37.zip (6.4MB):  37%  2.4MB\r",
        "  Downloading jieba-0.37.zip (6.4MB):  37%  2.4MB\r",
        "  Downloading jieba-0.37.zip (6.4MB):  38%  2.4MB\r",
        "  Downloading jieba-0.37.zip (6.4MB):  38%  2.4MB"
       ]
      },
      {
       "output_type": "stream",
       "stream": "stdout",
       "text": [
        "\r",
        "  Downloading jieba-0.37.zip (6.4MB):  38%  2.4MB\r",
        "  Downloading jieba-0.37.zip (6.4MB):  38%  2.4MB\r",
        "  Downloading jieba-0.37.zip (6.4MB):  38%  2.4MB\r",
        "  Downloading jieba-0.37.zip (6.4MB):  38%  2.5MB"
       ]
      },
      {
       "output_type": "stream",
       "stream": "stdout",
       "text": [
        "\r",
        "  Downloading jieba-0.37.zip (6.4MB):  38%  2.5MB\r",
        "  Downloading jieba-0.37.zip (6.4MB):  38%  2.5MB\r",
        "  Downloading jieba-0.37.zip (6.4MB):  38%  2.5MB\r",
        "  Downloading jieba-0.37.zip (6.4MB):  38%  2.5MB"
       ]
      },
      {
       "output_type": "stream",
       "stream": "stdout",
       "text": [
        "\r",
        "  Downloading jieba-0.37.zip (6.4MB):  38%  2.5MB\r",
        "  Downloading jieba-0.37.zip (6.4MB):  38%  2.5MB\r",
        "  Downloading jieba-0.37.zip (6.4MB):  38%  2.5MB\r",
        "  Downloading jieba-0.37.zip (6.4MB):  38%  2.5MB"
       ]
      },
      {
       "output_type": "stream",
       "stream": "stdout",
       "text": [
        "\r",
        "  Downloading jieba-0.37.zip (6.4MB):  38%  2.5MB\r",
        "  Downloading jieba-0.37.zip (6.4MB):  38%  2.5MB\r",
        "  Downloading jieba-0.37.zip (6.4MB):  39%  2.5MB\r",
        "  Downloading jieba-0.37.zip (6.4MB):  39%  2.5MB"
       ]
      },
      {
       "output_type": "stream",
       "stream": "stdout",
       "text": [
        "\r",
        "  Downloading jieba-0.37.zip (6.4MB):  39%  2.5MB\r",
        "  Downloading jieba-0.37.zip (6.4MB):  39%  2.5MB\r",
        "  Downloading jieba-0.37.zip (6.4MB):  39%  2.5MB\r",
        "  Downloading jieba-0.37.zip (6.4MB):  39%  2.5MB"
       ]
      },
      {
       "output_type": "stream",
       "stream": "stdout",
       "text": [
        "\r",
        "  Downloading jieba-0.37.zip (6.4MB):  39%  2.5MB"
       ]
      },
      {
       "output_type": "stream",
       "stream": "stdout",
       "text": [
        "\r",
        "  Downloading jieba-0.37.zip (6.4MB):  39%  2.5MB\r",
        "  Downloading jieba-0.37.zip (6.4MB):  39%  2.5MB\r",
        "  Downloading jieba-0.37.zip (6.4MB):  39%  2.5MB"
       ]
      },
      {
       "output_type": "stream",
       "stream": "stdout",
       "text": [
        "\r",
        "  Downloading jieba-0.37.zip (6.4MB):  39%  2.5MB\r",
        "  Downloading jieba-0.37.zip (6.4MB):  39%  2.5MB\r",
        "  Downloading jieba-0.37.zip (6.4MB):  39%  2.5MB\r",
        "  Downloading jieba-0.37.zip (6.4MB):  39%  2.6MB"
       ]
      },
      {
       "output_type": "stream",
       "stream": "stdout",
       "text": [
        "\r",
        "  Downloading jieba-0.37.zip (6.4MB):  39%  2.6MB\r",
        "  Downloading jieba-0.37.zip (6.4MB):  40%  2.6MB\r",
        "  Downloading jieba-0.37.zip (6.4MB):  40%  2.6MB\r",
        "  Downloading jieba-0.37.zip (6.4MB):  40%  2.6MB"
       ]
      },
      {
       "output_type": "stream",
       "stream": "stdout",
       "text": [
        "\r",
        "  Downloading jieba-0.37.zip (6.4MB):  40%  2.6MB\r",
        "  Downloading jieba-0.37.zip (6.4MB):  40%  2.6MB\r",
        "  Downloading jieba-0.37.zip (6.4MB):  40%  2.6MB\r",
        "  Downloading jieba-0.37.zip (6.4MB):  40%  2.6MB"
       ]
      },
      {
       "output_type": "stream",
       "stream": "stdout",
       "text": [
        "\r",
        "  Downloading jieba-0.37.zip (6.4MB):  40%  2.6MB\r",
        "  Downloading jieba-0.37.zip (6.4MB):  40%  2.6MB\r",
        "  Downloading jieba-0.37.zip (6.4MB):  40%  2.6MB\r",
        "  Downloading jieba-0.37.zip (6.4MB):  40%  2.6MB"
       ]
      },
      {
       "output_type": "stream",
       "stream": "stdout",
       "text": [
        "\r",
        "  Downloading jieba-0.37.zip (6.4MB):  40%  2.6MB\r",
        "  Downloading jieba-0.37.zip (6.4MB):  40%  2.6MB\r",
        "  Downloading jieba-0.37.zip (6.4MB):  40%  2.6MB\r",
        "  Downloading jieba-0.37.zip (6.4MB):  40%  2.6MB"
       ]
      },
      {
       "output_type": "stream",
       "stream": "stdout",
       "text": [
        "\r",
        "  Downloading jieba-0.37.zip (6.4MB):  40%  2.6MB\r",
        "  Downloading jieba-0.37.zip (6.4MB):  41%  2.6MB\r",
        "  Downloading jieba-0.37.zip (6.4MB):  41%  2.6MB\r",
        "  Downloading jieba-0.37.zip (6.4MB):  41%  2.6MB"
       ]
      },
      {
       "output_type": "stream",
       "stream": "stdout",
       "text": [
        "\r",
        "  Downloading jieba-0.37.zip (6.4MB):  41%  2.6MB\r",
        "  Downloading jieba-0.37.zip (6.4MB):  41%  2.6MB\r",
        "  Downloading jieba-0.37.zip (6.4MB):  41%  2.6MB\r",
        "  Downloading jieba-0.37.zip (6.4MB):  41%  2.7MB"
       ]
      },
      {
       "output_type": "stream",
       "stream": "stdout",
       "text": [
        "\r",
        "  Downloading jieba-0.37.zip (6.4MB):  41%  2.7MB\r",
        "  Downloading jieba-0.37.zip (6.4MB):  41%  2.7MB\r",
        "  Downloading jieba-0.37.zip (6.4MB):  41%  2.7MB\r",
        "  Downloading jieba-0.37.zip (6.4MB):  41%  2.7MB"
       ]
      },
      {
       "output_type": "stream",
       "stream": "stdout",
       "text": [
        "\r",
        "  Downloading jieba-0.37.zip (6.4MB):  41%  2.7MB\r",
        "  Downloading jieba-0.37.zip (6.4MB):  41%  2.7MB\r",
        "  Downloading jieba-0.37.zip (6.4MB):  41%  2.7MB\r",
        "  Downloading jieba-0.37.zip (6.4MB):  41%  2.7MB"
       ]
      },
      {
       "output_type": "stream",
       "stream": "stdout",
       "text": [
        "\r",
        "  Downloading jieba-0.37.zip (6.4MB):  42%  2.7MB\r",
        "  Downloading jieba-0.37.zip (6.4MB):  42%  2.7MB\r",
        "  Downloading jieba-0.37.zip (6.4MB):  42%  2.7MB\r",
        "  Downloading jieba-0.37.zip (6.4MB):  42%  2.7MB"
       ]
      },
      {
       "output_type": "stream",
       "stream": "stdout",
       "text": [
        "\r",
        "  Downloading jieba-0.37.zip (6.4MB):  42%  2.7MB\r",
        "  Downloading jieba-0.37.zip (6.4MB):  42%  2.7MB\r",
        "  Downloading jieba-0.37.zip (6.4MB):  42%  2.7MB\r",
        "  Downloading jieba-0.37.zip (6.4MB):  42%  2.7MB"
       ]
      },
      {
       "output_type": "stream",
       "stream": "stdout",
       "text": [
        "\r",
        "  Downloading jieba-0.37.zip (6.4MB):  42%  2.7MB\r",
        "  Downloading jieba-0.37.zip (6.4MB):  42%  2.7MB\r",
        "  Downloading jieba-0.37.zip (6.4MB):  42%  2.7MB\r",
        "  Downloading jieba-0.37.zip (6.4MB):  42%  2.7MB"
       ]
      },
      {
       "output_type": "stream",
       "stream": "stdout",
       "text": [
        "\r",
        "  Downloading jieba-0.37.zip (6.4MB):  42%  2.7MB\r",
        "  Downloading jieba-0.37.zip (6.4MB):  42%  2.7MB\r",
        "  Downloading jieba-0.37.zip (6.4MB):  42%  2.7MB\r",
        "  Downloading jieba-0.37.zip (6.4MB):  42%  2.7MB"
       ]
      },
      {
       "output_type": "stream",
       "stream": "stdout",
       "text": [
        "\r",
        "  Downloading jieba-0.37.zip (6.4MB):  43%  2.8MB\r",
        "  Downloading jieba-0.37.zip (6.4MB):  43%  2.8MB\r",
        "  Downloading jieba-0.37.zip (6.4MB):  43%  2.8MB\r",
        "  Downloading jieba-0.37.zip (6.4MB):  43%  2.8MB"
       ]
      },
      {
       "output_type": "stream",
       "stream": "stdout",
       "text": [
        "\r",
        "  Downloading jieba-0.37.zip (6.4MB):  43%  2.8MB\r",
        "  Downloading jieba-0.37.zip (6.4MB):  43%  2.8MB\r",
        "  Downloading jieba-0.37.zip (6.4MB):  43%  2.8MB\r",
        "  Downloading jieba-0.37.zip (6.4MB):  43%  2.8MB"
       ]
      },
      {
       "output_type": "stream",
       "stream": "stdout",
       "text": [
        "\r",
        "  Downloading jieba-0.37.zip (6.4MB):  43%  2.8MB\r",
        "  Downloading jieba-0.37.zip (6.4MB):  43%  2.8MB\r",
        "  Downloading jieba-0.37.zip (6.4MB):  43%  2.8MB\r",
        "  Downloading jieba-0.37.zip (6.4MB):  43%  2.8MB"
       ]
      },
      {
       "output_type": "stream",
       "stream": "stdout",
       "text": [
        "\r",
        "  Downloading jieba-0.37.zip (6.4MB):  43%  2.8MB\r",
        "  Downloading jieba-0.37.zip (6.4MB):  43%  2.8MB\r",
        "  Downloading jieba-0.37.zip (6.4MB):  43%  2.8MB\r",
        "  Downloading jieba-0.37.zip (6.4MB):  43%  2.8MB"
       ]
      },
      {
       "output_type": "stream",
       "stream": "stdout",
       "text": [
        "\r",
        "  Downloading jieba-0.37.zip (6.4MB):  44%  2.8MB\r",
        "  Downloading jieba-0.37.zip (6.4MB):  44%  2.8MB\r",
        "  Downloading jieba-0.37.zip (6.4MB):  44%  2.8MB\r",
        "  Downloading jieba-0.37.zip (6.4MB):  44%  2.8MB"
       ]
      },
      {
       "output_type": "stream",
       "stream": "stdout",
       "text": [
        "\r",
        "  Downloading jieba-0.37.zip (6.4MB):  44%  2.8MB\r",
        "  Downloading jieba-0.37.zip (6.4MB):  44%  2.8MB\r",
        "  Downloading jieba-0.37.zip (6.4MB):  44%  2.8MB\r",
        "  Downloading jieba-0.37.zip (6.4MB):  44%  2.8MB"
       ]
      },
      {
       "output_type": "stream",
       "stream": "stdout",
       "text": [
        "\r",
        "  Downloading jieba-0.37.zip (6.4MB):  44%  2.9MB\r",
        "  Downloading jieba-0.37.zip (6.4MB):  44%  2.9MB\r",
        "  Downloading jieba-0.37.zip (6.4MB):  44%  2.9MB\r",
        "  Downloading jieba-0.37.zip (6.4MB):  44%  2.9MB"
       ]
      },
      {
       "output_type": "stream",
       "stream": "stdout",
       "text": [
        "\r",
        "  Downloading jieba-0.37.zip (6.4MB):  44%  2.9MB\r",
        "  Downloading jieba-0.37.zip (6.4MB):  44%  2.9MB\r",
        "  Downloading jieba-0.37.zip (6.4MB):  44%  2.9MB\r",
        "  Downloading jieba-0.37.zip (6.4MB):  45%  2.9MB"
       ]
      },
      {
       "output_type": "stream",
       "stream": "stdout",
       "text": [
        "\r",
        "  Downloading jieba-0.37.zip (6.4MB):  45%  2.9MB\r",
        "  Downloading jieba-0.37.zip (6.4MB):  45%  2.9MB\r",
        "  Downloading jieba-0.37.zip (6.4MB):  45%  2.9MB\r",
        "  Downloading jieba-0.37.zip (6.4MB):  45%  2.9MB"
       ]
      },
      {
       "output_type": "stream",
       "stream": "stdout",
       "text": [
        "\r",
        "  Downloading jieba-0.37.zip (6.4MB):  45%  2.9MB\r",
        "  Downloading jieba-0.37.zip (6.4MB):  45%  2.9MB\r",
        "  Downloading jieba-0.37.zip (6.4MB):  45%  2.9MB\r",
        "  Downloading jieba-0.37.zip (6.4MB):  45%  2.9MB"
       ]
      },
      {
       "output_type": "stream",
       "stream": "stdout",
       "text": [
        "\r",
        "  Downloading jieba-0.37.zip (6.4MB):  45%  2.9MB\r",
        "  Downloading jieba-0.37.zip (6.4MB):  45%  2.9MB\r",
        "  Downloading jieba-0.37.zip (6.4MB):  45%  2.9MB\r",
        "  Downloading jieba-0.37.zip (6.4MB):  45%  2.9MB"
       ]
      },
      {
       "output_type": "stream",
       "stream": "stdout",
       "text": [
        "\r",
        "  Downloading jieba-0.37.zip (6.4MB):  45%  2.9MB\r",
        "  Downloading jieba-0.37.zip (6.4MB):  45%  2.9MB\r",
        "  Downloading jieba-0.37.zip (6.4MB):  45%  2.9MB\r",
        "  Downloading jieba-0.37.zip (6.4MB):  46%  2.9MB"
       ]
      },
      {
       "output_type": "stream",
       "stream": "stdout",
       "text": [
        "\r",
        "  Downloading jieba-0.37.zip (6.4MB):  46%  2.9MB\r",
        "  Downloading jieba-0.37.zip (6.4MB):  46%  3.0MB\r",
        "  Downloading jieba-0.37.zip (6.4MB):  46%  3.0MB\r",
        "  Downloading jieba-0.37.zip (6.4MB):  46%  3.0MB"
       ]
      },
      {
       "output_type": "stream",
       "stream": "stdout",
       "text": [
        "\r",
        "  Downloading jieba-0.37.zip (6.4MB):  46%  3.0MB\r",
        "  Downloading jieba-0.37.zip (6.4MB):  46%  3.0MB\r",
        "  Downloading jieba-0.37.zip (6.4MB):  46%  3.0MB\r",
        "  Downloading jieba-0.37.zip (6.4MB):  46%  3.0MB"
       ]
      },
      {
       "output_type": "stream",
       "stream": "stdout",
       "text": [
        "\r",
        "  Downloading jieba-0.37.zip (6.4MB):  46%  3.0MB\r",
        "  Downloading jieba-0.37.zip (6.4MB):  46%  3.0MB\r",
        "  Downloading jieba-0.37.zip (6.4MB):  46%  3.0MB\r",
        "  Downloading jieba-0.37.zip (6.4MB):  46%  3.0MB"
       ]
      },
      {
       "output_type": "stream",
       "stream": "stdout",
       "text": [
        "\r",
        "  Downloading jieba-0.37.zip (6.4MB):  46%  3.0MB\r",
        "  Downloading jieba-0.37.zip (6.4MB):  46%  3.0MB\r",
        "  Downloading jieba-0.37.zip (6.4MB):  47%  3.0MB\r",
        "  Downloading jieba-0.37.zip (6.4MB):  47%  3.0MB"
       ]
      },
      {
       "output_type": "stream",
       "stream": "stdout",
       "text": [
        "\r",
        "  Downloading jieba-0.37.zip (6.4MB):  47%  3.0MB\r",
        "  Downloading jieba-0.37.zip (6.4MB):  47%  3.0MB\r",
        "  Downloading jieba-0.37.zip (6.4MB):  47%  3.0MB\r",
        "  Downloading jieba-0.37.zip (6.4MB):  47%  3.0MB"
       ]
      },
      {
       "output_type": "stream",
       "stream": "stdout",
       "text": [
        "\r",
        "  Downloading jieba-0.37.zip (6.4MB):  47%  3.0MB\r",
        "  Downloading jieba-0.37.zip (6.4MB):  47%  3.0MB\r",
        "  Downloading jieba-0.37.zip (6.4MB):  47%  3.0MB\r",
        "  Downloading jieba-0.37.zip (6.4MB):  47%  3.0MB"
       ]
      },
      {
       "output_type": "stream",
       "stream": "stdout",
       "text": [
        "\r",
        "  Downloading jieba-0.37.zip (6.4MB):  47%  3.0MB\r",
        "  Downloading jieba-0.37.zip (6.4MB):  47%  3.1MB\r",
        "  Downloading jieba-0.37.zip (6.4MB):  47%  3.1MB\r",
        "  Downloading jieba-0.37.zip (6.4MB):  47%  3.1MB"
       ]
      },
      {
       "output_type": "stream",
       "stream": "stdout",
       "text": [
        "\r",
        "  Downloading jieba-0.37.zip (6.4MB):  47%  3.1MB\r",
        "  Downloading jieba-0.37.zip (6.4MB):  47%  3.1MB\r",
        "  Downloading jieba-0.37.zip (6.4MB):  48%  3.1MB\r",
        "  Downloading jieba-0.37.zip (6.4MB):  48%  3.1MB"
       ]
      },
      {
       "output_type": "stream",
       "stream": "stdout",
       "text": [
        "\r",
        "  Downloading jieba-0.37.zip (6.4MB):  48%  3.1MB\r",
        "  Downloading jieba-0.37.zip (6.4MB):  48%  3.1MB\r",
        "  Downloading jieba-0.37.zip (6.4MB):  48%  3.1MB\r",
        "  Downloading jieba-0.37.zip (6.4MB):  48%  3.1MB"
       ]
      },
      {
       "output_type": "stream",
       "stream": "stdout",
       "text": [
        "\r",
        "  Downloading jieba-0.37.zip (6.4MB):  48%  3.1MB\r",
        "  Downloading jieba-0.37.zip (6.4MB):  48%  3.1MB\r",
        "  Downloading jieba-0.37.zip (6.4MB):  48%  3.1MB\r",
        "  Downloading jieba-0.37.zip (6.4MB):  48%  3.1MB"
       ]
      },
      {
       "output_type": "stream",
       "stream": "stdout",
       "text": [
        "\r",
        "  Downloading jieba-0.37.zip (6.4MB):  48%  3.1MB\r",
        "  Downloading jieba-0.37.zip (6.4MB):  48%  3.1MB\r",
        "  Downloading jieba-0.37.zip (6.4MB):  48%  3.1MB\r",
        "  Downloading jieba-0.37.zip (6.4MB):  48%  3.1MB"
       ]
      },
      {
       "output_type": "stream",
       "stream": "stdout",
       "text": [
        "\r",
        "  Downloading jieba-0.37.zip (6.4MB):  48%  3.1MB\r",
        "  Downloading jieba-0.37.zip (6.4MB):  48%  3.1MB\r",
        "  Downloading jieba-0.37.zip (6.4MB):  49%  3.1MB\r",
        "  Downloading jieba-0.37.zip (6.4MB):  49%  3.1MB"
       ]
      },
      {
       "output_type": "stream",
       "stream": "stdout",
       "text": [
        "\r",
        "  Downloading jieba-0.37.zip (6.4MB):  49%  3.1MB\r",
        "  Downloading jieba-0.37.zip (6.4MB):  49%  3.1MB\r",
        "  Downloading jieba-0.37.zip (6.4MB):  49%  3.2MB\r",
        "  Downloading jieba-0.37.zip (6.4MB):  49%  3.2MB"
       ]
      },
      {
       "output_type": "stream",
       "stream": "stdout",
       "text": [
        "\r",
        "  Downloading jieba-0.37.zip (6.4MB):  49%  3.2MB\r",
        "  Downloading jieba-0.37.zip (6.4MB):  49%  3.2MB\r",
        "  Downloading jieba-0.37.zip (6.4MB):  49%  3.2MB\r",
        "  Downloading jieba-0.37.zip (6.4MB):  49%  3.2MB"
       ]
      },
      {
       "output_type": "stream",
       "stream": "stdout",
       "text": [
        "\r",
        "  Downloading jieba-0.37.zip (6.4MB):  49%  3.2MB\r",
        "  Downloading jieba-0.37.zip (6.4MB):  49%  3.2MB\r",
        "  Downloading jieba-0.37.zip (6.4MB):  49%  3.2MB\r",
        "  Downloading jieba-0.37.zip (6.4MB):  49%  3.2MB"
       ]
      },
      {
       "output_type": "stream",
       "stream": "stdout",
       "text": [
        "\r",
        "  Downloading jieba-0.37.zip (6.4MB):  49%  3.2MB\r",
        "  Downloading jieba-0.37.zip (6.4MB):  50%  3.2MB\r",
        "  Downloading jieba-0.37.zip (6.4MB):  50%  3.2MB\r",
        "  Downloading jieba-0.37.zip (6.4MB):  50%  3.2MB"
       ]
      },
      {
       "output_type": "stream",
       "stream": "stdout",
       "text": [
        "\r",
        "  Downloading jieba-0.37.zip (6.4MB):  50%  3.2MB\r",
        "  Downloading jieba-0.37.zip (6.4MB):  50%  3.2MB\r",
        "  Downloading jieba-0.37.zip (6.4MB):  50%  3.2MB\r",
        "  Downloading jieba-0.37.zip (6.4MB):  50%  3.2MB"
       ]
      },
      {
       "output_type": "stream",
       "stream": "stdout",
       "text": [
        "\r",
        "  Downloading jieba-0.37.zip (6.4MB):  50%  3.2MB\r",
        "  Downloading jieba-0.37.zip (6.4MB):  50%  3.2MB\r",
        "  Downloading jieba-0.37.zip (6.4MB):  50%  3.2MB\r",
        "  Downloading jieba-0.37.zip (6.4MB):  50%  3.2MB"
       ]
      },
      {
       "output_type": "stream",
       "stream": "stdout",
       "text": [
        "\r",
        "  Downloading jieba-0.37.zip (6.4MB):  50%  3.2MB\r",
        "  Downloading jieba-0.37.zip (6.4MB):  50%  3.2MB\r",
        "  Downloading jieba-0.37.zip (6.4MB):  50%  3.3MB\r",
        "  Downloading jieba-0.37.zip (6.4MB):  50%  3.3MB"
       ]
      },
      {
       "output_type": "stream",
       "stream": "stdout",
       "text": [
        "\r",
        "  Downloading jieba-0.37.zip (6.4MB):  50%  3.3MB\r",
        "  Downloading jieba-0.37.zip (6.4MB):  51%  3.3MB\r",
        "  Downloading jieba-0.37.zip (6.4MB):  51%  3.3MB\r",
        "  Downloading jieba-0.37.zip (6.4MB):  51%  3.3MB"
       ]
      },
      {
       "output_type": "stream",
       "stream": "stdout",
       "text": [
        "\r",
        "  Downloading jieba-0.37.zip (6.4MB):  51%  3.3MB\r",
        "  Downloading jieba-0.37.zip (6.4MB):  51%  3.3MB\r",
        "  Downloading jieba-0.37.zip (6.4MB):  51%  3.3MB\r",
        "  Downloading jieba-0.37.zip (6.4MB):  51%  3.3MB"
       ]
      },
      {
       "output_type": "stream",
       "stream": "stdout",
       "text": [
        "\r",
        "  Downloading jieba-0.37.zip (6.4MB):  51%  3.3MB\r",
        "  Downloading jieba-0.37.zip (6.4MB):  51%  3.3MB\r",
        "  Downloading jieba-0.37.zip (6.4MB):  51%  3.3MB\r",
        "  Downloading jieba-0.37.zip (6.4MB):  51%  3.3MB"
       ]
      },
      {
       "output_type": "stream",
       "stream": "stdout",
       "text": [
        "\r",
        "  Downloading jieba-0.37.zip (6.4MB):  51%  3.3MB\r",
        "  Downloading jieba-0.37.zip (6.4MB):  51%  3.3MB\r",
        "  Downloading jieba-0.37.zip (6.4MB):  51%  3.3MB\r",
        "  Downloading jieba-0.37.zip (6.4MB):  51%  3.3MB"
       ]
      },
      {
       "output_type": "stream",
       "stream": "stdout",
       "text": [
        "\r",
        "  Downloading jieba-0.37.zip (6.4MB):  51%  3.3MB\r",
        "  Downloading jieba-0.37.zip (6.4MB):  52%  3.3MB"
       ]
      },
      {
       "output_type": "stream",
       "stream": "stdout",
       "text": [
        "\r",
        "  Downloading jieba-0.37.zip (6.4MB):  52%  3.3MB\r",
        "  Downloading jieba-0.37.zip (6.4MB):  52%  3.3MB"
       ]
      },
      {
       "output_type": "stream",
       "stream": "stdout",
       "text": [
        "\r",
        "  Downloading jieba-0.37.zip (6.4MB):  52%  3.3MB\r",
        "  Downloading jieba-0.37.zip (6.4MB):  52%  3.3MB\r",
        "  Downloading jieba-0.37.zip (6.4MB):  52%  3.4MB\r",
        "  Downloading jieba-0.37.zip (6.4MB):  52%  3.4MB"
       ]
      },
      {
       "output_type": "stream",
       "stream": "stdout",
       "text": [
        "\r",
        "  Downloading jieba-0.37.zip (6.4MB):  52%  3.4MB"
       ]
      },
      {
       "output_type": "stream",
       "stream": "stdout",
       "text": [
        "\r",
        "  Downloading jieba-0.37.zip (6.4MB):  52%  3.4MB\r",
        "  Downloading jieba-0.37.zip (6.4MB):  52%  3.4MB\r",
        "  Downloading jieba-0.37.zip (6.4MB):  52%  3.4MB"
       ]
      },
      {
       "output_type": "stream",
       "stream": "stdout",
       "text": [
        "\r",
        "  Downloading jieba-0.37.zip (6.4MB):  52%  3.4MB\r",
        "  Downloading jieba-0.37.zip (6.4MB):  52%  3.4MB\r",
        "  Downloading jieba-0.37.zip (6.4MB):  52%  3.4MB\r",
        "  Downloading jieba-0.37.zip (6.4MB):  52%  3.4MB"
       ]
      },
      {
       "output_type": "stream",
       "stream": "stdout",
       "text": [
        "\r",
        "  Downloading jieba-0.37.zip (6.4MB):  53%  3.4MB\r",
        "  Downloading jieba-0.37.zip (6.4MB):  53%  3.4MB\r",
        "  Downloading jieba-0.37.zip (6.4MB):  53%  3.4MB\r",
        "  Downloading jieba-0.37.zip (6.4MB):  53%  3.4MB"
       ]
      },
      {
       "output_type": "stream",
       "stream": "stdout",
       "text": [
        "\r",
        "  Downloading jieba-0.37.zip (6.4MB):  53%  3.4MB\r",
        "  Downloading jieba-0.37.zip (6.4MB):  53%  3.4MB\r",
        "  Downloading jieba-0.37.zip (6.4MB):  53%  3.4MB\r",
        "  Downloading jieba-0.37.zip (6.4MB):  53%  3.4MB"
       ]
      },
      {
       "output_type": "stream",
       "stream": "stdout",
       "text": [
        "\r",
        "  Downloading jieba-0.37.zip (6.4MB):  53%  3.4MB\r",
        "  Downloading jieba-0.37.zip (6.4MB):  53%  3.4MB\r",
        "  Downloading jieba-0.37.zip (6.4MB):  53%  3.4MB\r",
        "  Downloading jieba-0.37.zip (6.4MB):  53%  3.4MB"
       ]
      },
      {
       "output_type": "stream",
       "stream": "stdout",
       "text": [
        "\r",
        "  Downloading jieba-0.37.zip (6.4MB):  53%  3.4MB\r",
        "  Downloading jieba-0.37.zip (6.4MB):  53%  3.4MB\r",
        "  Downloading jieba-0.37.zip (6.4MB):  53%  3.4MB\r",
        "  Downloading jieba-0.37.zip (6.4MB):  53%  3.5MB"
       ]
      },
      {
       "output_type": "stream",
       "stream": "stdout",
       "text": [
        "\r",
        "  Downloading jieba-0.37.zip (6.4MB):  54%  3.5MB\r",
        "  Downloading jieba-0.37.zip (6.4MB):  54%  3.5MB\r",
        "  Downloading jieba-0.37.zip (6.4MB):  54%  3.5MB\r",
        "  Downloading jieba-0.37.zip (6.4MB):  54%  3.5MB"
       ]
      },
      {
       "output_type": "stream",
       "stream": "stdout",
       "text": [
        "\r",
        "  Downloading jieba-0.37.zip (6.4MB):  54%  3.5MB\r",
        "  Downloading jieba-0.37.zip (6.4MB):  54%  3.5MB\r",
        "  Downloading jieba-0.37.zip (6.4MB):  54%  3.5MB\r",
        "  Downloading jieba-0.37.zip (6.4MB):  54%  3.5MB"
       ]
      },
      {
       "output_type": "stream",
       "stream": "stdout",
       "text": [
        "\r",
        "  Downloading jieba-0.37.zip (6.4MB):  54%  3.5MB\r",
        "  Downloading jieba-0.37.zip (6.4MB):  54%  3.5MB\r",
        "  Downloading jieba-0.37.zip (6.4MB):  54%  3.5MB\r",
        "  Downloading jieba-0.37.zip (6.4MB):  54%  3.5MB"
       ]
      },
      {
       "output_type": "stream",
       "stream": "stdout",
       "text": [
        "\r",
        "  Downloading jieba-0.37.zip (6.4MB):  54%  3.5MB\r",
        "  Downloading jieba-0.37.zip (6.4MB):  54%  3.5MB\r",
        "  Downloading jieba-0.37.zip (6.4MB):  54%  3.5MB\r",
        "  Downloading jieba-0.37.zip (6.4MB):  55%  3.5MB"
       ]
      },
      {
       "output_type": "stream",
       "stream": "stdout",
       "text": [
        "\r",
        "  Downloading jieba-0.37.zip (6.4MB):  55%  3.5MB\r",
        "  Downloading jieba-0.37.zip (6.4MB):  55%  3.5MB\r",
        "  Downloading jieba-0.37.zip (6.4MB):  55%  3.5MB\r",
        "  Downloading jieba-0.37.zip (6.4MB):  55%  3.5MB"
       ]
      },
      {
       "output_type": "stream",
       "stream": "stdout",
       "text": [
        "\r",
        "  Downloading jieba-0.37.zip (6.4MB):  55%  3.5MB\r",
        "  Downloading jieba-0.37.zip (6.4MB):  55%  3.5MB\r",
        "  Downloading jieba-0.37.zip (6.4MB):  55%  3.5MB\r",
        "  Downloading jieba-0.37.zip (6.4MB):  55%  3.6MB"
       ]
      },
      {
       "output_type": "stream",
       "stream": "stdout",
       "text": [
        "\r",
        "  Downloading jieba-0.37.zip (6.4MB):  55%  3.6MB\r",
        "  Downloading jieba-0.37.zip (6.4MB):  55%  3.6MB\r",
        "  Downloading jieba-0.37.zip (6.4MB):  55%  3.6MB\r",
        "  Downloading jieba-0.37.zip (6.4MB):  55%  3.6MB"
       ]
      },
      {
       "output_type": "stream",
       "stream": "stdout",
       "text": [
        "\r",
        "  Downloading jieba-0.37.zip (6.4MB):  55%  3.6MB\r",
        "  Downloading jieba-0.37.zip (6.4MB):  55%  3.6MB\r",
        "  Downloading jieba-0.37.zip (6.4MB):  55%  3.6MB\r",
        "  Downloading jieba-0.37.zip (6.4MB):  56%  3.6MB"
       ]
      },
      {
       "output_type": "stream",
       "stream": "stdout",
       "text": [
        "\r",
        "  Downloading jieba-0.37.zip (6.4MB):  56%  3.6MB\r",
        "  Downloading jieba-0.37.zip (6.4MB):  56%  3.6MB\r",
        "  Downloading jieba-0.37.zip (6.4MB):  56%  3.6MB\r",
        "  Downloading jieba-0.37.zip (6.4MB):  56%  3.6MB"
       ]
      },
      {
       "output_type": "stream",
       "stream": "stdout",
       "text": [
        "\r",
        "  Downloading jieba-0.37.zip (6.4MB):  56%  3.6MB\r",
        "  Downloading jieba-0.37.zip (6.4MB):  56%  3.6MB\r",
        "  Downloading jieba-0.37.zip (6.4MB):  56%  3.6MB\r",
        "  Downloading jieba-0.37.zip (6.4MB):  56%  3.6MB"
       ]
      },
      {
       "output_type": "stream",
       "stream": "stdout",
       "text": [
        "\r",
        "  Downloading jieba-0.37.zip (6.4MB):  56%  3.6MB\r",
        "  Downloading jieba-0.37.zip (6.4MB):  56%  3.6MB\r",
        "  Downloading jieba-0.37.zip (6.4MB):  56%  3.6MB\r",
        "  Downloading jieba-0.37.zip (6.4MB):  56%  3.6MB"
       ]
      },
      {
       "output_type": "stream",
       "stream": "stdout",
       "text": [
        "\r",
        "  Downloading jieba-0.37.zip (6.4MB):  56%  3.6MB\r",
        "  Downloading jieba-0.37.zip (6.4MB):  56%  3.6MB\r",
        "  Downloading jieba-0.37.zip (6.4MB):  56%  3.6MB\r",
        "  Downloading jieba-0.37.zip (6.4MB):  57%  3.6MB"
       ]
      },
      {
       "output_type": "stream",
       "stream": "stdout",
       "text": [
        "\r",
        "  Downloading jieba-0.37.zip (6.4MB):  57%  3.7MB\r",
        "  Downloading jieba-0.37.zip (6.4MB):  57%  3.7MB\r",
        "  Downloading jieba-0.37.zip (6.4MB):  57%  3.7MB\r",
        "  Downloading jieba-0.37.zip (6.4MB):  57%  3.7MB"
       ]
      },
      {
       "output_type": "stream",
       "stream": "stdout",
       "text": [
        "\r",
        "  Downloading jieba-0.37.zip (6.4MB):  57%  3.7MB\r",
        "  Downloading jieba-0.37.zip (6.4MB):  57%  3.7MB\r",
        "  Downloading jieba-0.37.zip (6.4MB):  57%  3.7MB\r",
        "  Downloading jieba-0.37.zip (6.4MB):  57%  3.7MB"
       ]
      },
      {
       "output_type": "stream",
       "stream": "stdout",
       "text": [
        "\r",
        "  Downloading jieba-0.37.zip (6.4MB):  57%  3.7MB\r",
        "  Downloading jieba-0.37.zip (6.4MB):  57%  3.7MB\r",
        "  Downloading jieba-0.37.zip (6.4MB):  57%  3.7MB\r",
        "  Downloading jieba-0.37.zip (6.4MB):  57%  3.7MB"
       ]
      },
      {
       "output_type": "stream",
       "stream": "stdout",
       "text": [
        "\r",
        "  Downloading jieba-0.37.zip (6.4MB):  57%  3.7MB\r",
        "  Downloading jieba-0.37.zip (6.4MB):  57%  3.7MB\r",
        "  Downloading jieba-0.37.zip (6.4MB):  58%  3.7MB\r",
        "  Downloading jieba-0.37.zip (6.4MB):  58%  3.7MB"
       ]
      },
      {
       "output_type": "stream",
       "stream": "stdout",
       "text": [
        "\r",
        "  Downloading jieba-0.37.zip (6.4MB):  58%  3.7MB\r",
        "  Downloading jieba-0.37.zip (6.4MB):  58%  3.7MB\r",
        "  Downloading jieba-0.37.zip (6.4MB):  58%  3.7MB\r",
        "  Downloading jieba-0.37.zip (6.4MB):  58%  3.7MB"
       ]
      },
      {
       "output_type": "stream",
       "stream": "stdout",
       "text": [
        "\r",
        "  Downloading jieba-0.37.zip (6.4MB):  58%  3.7MB\r",
        "  Downloading jieba-0.37.zip (6.4MB):  58%  3.7MB\r",
        "  Downloading jieba-0.37.zip (6.4MB):  58%  3.7MB\r",
        "  Downloading jieba-0.37.zip (6.4MB):  58%  3.7MB"
       ]
      },
      {
       "output_type": "stream",
       "stream": "stdout",
       "text": [
        "\r",
        "  Downloading jieba-0.37.zip (6.4MB):  58%  3.8MB\r",
        "  Downloading jieba-0.37.zip (6.4MB):  58%  3.8MB\r",
        "  Downloading jieba-0.37.zip (6.4MB):  58%  3.8MB\r",
        "  Downloading jieba-0.37.zip (6.4MB):  58%  3.8MB"
       ]
      },
      {
       "output_type": "stream",
       "stream": "stdout",
       "text": [
        "\r",
        "  Downloading jieba-0.37.zip (6.4MB):  58%  3.8MB\r",
        "  Downloading jieba-0.37.zip (6.4MB):  58%  3.8MB\r",
        "  Downloading jieba-0.37.zip (6.4MB):  59%  3.8MB\r",
        "  Downloading jieba-0.37.zip (6.4MB):  59%  3.8MB"
       ]
      },
      {
       "output_type": "stream",
       "stream": "stdout",
       "text": [
        "\r",
        "  Downloading jieba-0.37.zip (6.4MB):  59%  3.8MB\r",
        "  Downloading jieba-0.37.zip (6.4MB):  59%  3.8MB\r",
        "  Downloading jieba-0.37.zip (6.4MB):  59%  3.8MB\r",
        "  Downloading jieba-0.37.zip (6.4MB):  59%  3.8MB"
       ]
      },
      {
       "output_type": "stream",
       "stream": "stdout",
       "text": [
        "\r",
        "  Downloading jieba-0.37.zip (6.4MB):  59%  3.8MB\r",
        "  Downloading jieba-0.37.zip (6.4MB):  59%  3.8MB\r",
        "  Downloading jieba-0.37.zip (6.4MB):  59%  3.8MB\r",
        "  Downloading jieba-0.37.zip (6.4MB):  59%  3.8MB"
       ]
      },
      {
       "output_type": "stream",
       "stream": "stdout",
       "text": [
        "\r",
        "  Downloading jieba-0.37.zip (6.4MB):  59%  3.8MB\r",
        "  Downloading jieba-0.37.zip (6.4MB):  59%  3.8MB\r",
        "  Downloading jieba-0.37.zip (6.4MB):  59%  3.8MB\r",
        "  Downloading jieba-0.37.zip (6.4MB):  59%  3.8MB"
       ]
      },
      {
       "output_type": "stream",
       "stream": "stdout",
       "text": [
        "\r",
        "  Downloading jieba-0.37.zip (6.4MB):  59%  3.8MB\r",
        "  Downloading jieba-0.37.zip (6.4MB):  60%  3.8MB\r",
        "  Downloading jieba-0.37.zip (6.4MB):  60%  3.8MB\r",
        "  Downloading jieba-0.37.zip (6.4MB):  60%  3.8MB"
       ]
      },
      {
       "output_type": "stream",
       "stream": "stdout",
       "text": [
        "\r",
        "  Downloading jieba-0.37.zip (6.4MB):  60%  3.9MB\r",
        "  Downloading jieba-0.37.zip (6.4MB):  60%  3.9MB\r",
        "  Downloading jieba-0.37.zip (6.4MB):  60%  3.9MB\r",
        "  Downloading jieba-0.37.zip (6.4MB):  60%  3.9MB"
       ]
      },
      {
       "output_type": "stream",
       "stream": "stdout",
       "text": [
        "\r",
        "  Downloading jieba-0.37.zip (6.4MB):  60%  3.9MB\r",
        "  Downloading jieba-0.37.zip (6.4MB):  60%  3.9MB\r",
        "  Downloading jieba-0.37.zip (6.4MB):  60%  3.9MB\r",
        "  Downloading jieba-0.37.zip (6.4MB):  60%  3.9MB"
       ]
      },
      {
       "output_type": "stream",
       "stream": "stdout",
       "text": [
        "\r",
        "  Downloading jieba-0.37.zip (6.4MB):  60%  3.9MB\r",
        "  Downloading jieba-0.37.zip (6.4MB):  60%  3.9MB\r",
        "  Downloading jieba-0.37.zip (6.4MB):  60%  3.9MB\r",
        "  Downloading jieba-0.37.zip (6.4MB):  60%  3.9MB"
       ]
      },
      {
       "output_type": "stream",
       "stream": "stdout",
       "text": [
        "\r",
        "  Downloading jieba-0.37.zip (6.4MB):  60%  3.9MB\r",
        "  Downloading jieba-0.37.zip (6.4MB):  61%  3.9MB\r",
        "  Downloading jieba-0.37.zip (6.4MB):  61%  3.9MB\r",
        "  Downloading jieba-0.37.zip (6.4MB):  61%  3.9MB"
       ]
      },
      {
       "output_type": "stream",
       "stream": "stdout",
       "text": [
        "\r",
        "  Downloading jieba-0.37.zip (6.4MB):  61%  3.9MB\r",
        "  Downloading jieba-0.37.zip (6.4MB):  61%  3.9MB\r",
        "  Downloading jieba-0.37.zip (6.4MB):  61%  3.9MB\r",
        "  Downloading jieba-0.37.zip (6.4MB):  61%  3.9MB"
       ]
      },
      {
       "output_type": "stream",
       "stream": "stdout",
       "text": [
        "\r",
        "  Downloading jieba-0.37.zip (6.4MB):  61%  3.9MB\r",
        "  Downloading jieba-0.37.zip (6.4MB):  61%  3.9MB\r",
        "  Downloading jieba-0.37.zip (6.4MB):  61%  3.9MB\r",
        "  Downloading jieba-0.37.zip (6.4MB):  61%  3.9MB"
       ]
      },
      {
       "output_type": "stream",
       "stream": "stdout",
       "text": [
        "\r",
        "  Downloading jieba-0.37.zip (6.4MB):  61%  3.9MB\r",
        "  Downloading jieba-0.37.zip (6.4MB):  61%  4.0MB\r",
        "  Downloading jieba-0.37.zip (6.4MB):  61%  4.0MB\r",
        "  Downloading jieba-0.37.zip (6.4MB):  61%  4.0MB"
       ]
      },
      {
       "output_type": "stream",
       "stream": "stdout",
       "text": [
        "\r",
        "  Downloading jieba-0.37.zip (6.4MB):  61%  4.0MB\r",
        "  Downloading jieba-0.37.zip (6.4MB):  62%  4.0MB\r",
        "  Downloading jieba-0.37.zip (6.4MB):  62%  4.0MB\r",
        "  Downloading jieba-0.37.zip (6.4MB):  62%  4.0MB"
       ]
      },
      {
       "output_type": "stream",
       "stream": "stdout",
       "text": [
        "\r",
        "  Downloading jieba-0.37.zip (6.4MB):  62%  4.0MB\r",
        "  Downloading jieba-0.37.zip (6.4MB):  62%  4.0MB\r",
        "  Downloading jieba-0.37.zip (6.4MB):  62%  4.0MB\r",
        "  Downloading jieba-0.37.zip (6.4MB):  62%  4.0MB"
       ]
      },
      {
       "output_type": "stream",
       "stream": "stdout",
       "text": [
        "\r",
        "  Downloading jieba-0.37.zip (6.4MB):  62%  4.0MB\r",
        "  Downloading jieba-0.37.zip (6.4MB):  62%  4.0MB\r",
        "  Downloading jieba-0.37.zip (6.4MB):  62%  4.0MB\r",
        "  Downloading jieba-0.37.zip (6.4MB):  62%  4.0MB"
       ]
      },
      {
       "output_type": "stream",
       "stream": "stdout",
       "text": [
        "\r",
        "  Downloading jieba-0.37.zip (6.4MB):  62%  4.0MB\r",
        "  Downloading jieba-0.37.zip (6.4MB):  62%  4.0MB\r",
        "  Downloading jieba-0.37.zip (6.4MB):  62%  4.0MB\r",
        "  Downloading jieba-0.37.zip (6.4MB):  62%  4.0MB"
       ]
      },
      {
       "output_type": "stream",
       "stream": "stdout",
       "text": [
        "\r",
        "  Downloading jieba-0.37.zip (6.4MB):  63%  4.0MB\r",
        "  Downloading jieba-0.37.zip (6.4MB):  63%  4.0MB\r",
        "  Downloading jieba-0.37.zip (6.4MB):  63%  4.0MB\r",
        "  Downloading jieba-0.37.zip (6.4MB):  63%  4.0MB"
       ]
      },
      {
       "output_type": "stream",
       "stream": "stdout",
       "text": [
        "\r",
        "  Downloading jieba-0.37.zip (6.4MB):  63%  4.0MB\r",
        "  Downloading jieba-0.37.zip (6.4MB):  63%  4.1MB\r",
        "  Downloading jieba-0.37.zip (6.4MB):  63%  4.1MB\r",
        "  Downloading jieba-0.37.zip (6.4MB):  63%  4.1MB"
       ]
      },
      {
       "output_type": "stream",
       "stream": "stdout",
       "text": [
        "\r",
        "  Downloading jieba-0.37.zip (6.4MB):  63%  4.1MB\r",
        "  Downloading jieba-0.37.zip (6.4MB):  63%  4.1MB\r",
        "  Downloading jieba-0.37.zip (6.4MB):  63%  4.1MB\r",
        "  Downloading jieba-0.37.zip (6.4MB):  63%  4.1MB"
       ]
      },
      {
       "output_type": "stream",
       "stream": "stdout",
       "text": [
        "\r",
        "  Downloading jieba-0.37.zip (6.4MB):  63%  4.1MB\r",
        "  Downloading jieba-0.37.zip (6.4MB):  63%  4.1MB\r",
        "  Downloading jieba-0.37.zip (6.4MB):  63%  4.1MB\r",
        "  Downloading jieba-0.37.zip (6.4MB):  63%  4.1MB"
       ]
      },
      {
       "output_type": "stream",
       "stream": "stdout",
       "text": [
        "\r",
        "  Downloading jieba-0.37.zip (6.4MB):  64%  4.1MB\r",
        "  Downloading jieba-0.37.zip (6.4MB):  64%  4.1MB\r",
        "  Downloading jieba-0.37.zip (6.4MB):  64%  4.1MB\r",
        "  Downloading jieba-0.37.zip (6.4MB):  64%  4.1MB"
       ]
      },
      {
       "output_type": "stream",
       "stream": "stdout",
       "text": [
        "\r",
        "  Downloading jieba-0.37.zip (6.4MB):  64%  4.1MB\r",
        "  Downloading jieba-0.37.zip (6.4MB):  64%  4.1MB\r",
        "  Downloading jieba-0.37.zip (6.4MB):  64%  4.1MB\r",
        "  Downloading jieba-0.37.zip (6.4MB):  64%  4.1MB"
       ]
      },
      {
       "output_type": "stream",
       "stream": "stdout",
       "text": [
        "\r",
        "  Downloading jieba-0.37.zip (6.4MB):  64%  4.1MB\r",
        "  Downloading jieba-0.37.zip (6.4MB):  64%  4.1MB\r",
        "  Downloading jieba-0.37.zip (6.4MB):  64%  4.1MB\r",
        "  Downloading jieba-0.37.zip (6.4MB):  64%  4.1MB"
       ]
      },
      {
       "output_type": "stream",
       "stream": "stdout",
       "text": [
        "\r",
        "  Downloading jieba-0.37.zip (6.4MB):  64%  4.1MB\r",
        "  Downloading jieba-0.37.zip (6.4MB):  64%  4.1MB\r",
        "  Downloading jieba-0.37.zip (6.4MB):  64%  4.2MB\r",
        "  Downloading jieba-0.37.zip (6.4MB):  64%  4.2MB"
       ]
      },
      {
       "output_type": "stream",
       "stream": "stdout",
       "text": [
        "\r",
        "  Downloading jieba-0.37.zip (6.4MB):  65%  4.2MB\r",
        "  Downloading jieba-0.37.zip (6.4MB):  65%  4.2MB\r",
        "  Downloading jieba-0.37.zip (6.4MB):  65%  4.2MB\r",
        "  Downloading jieba-0.37.zip (6.4MB):  65%  4.2MB"
       ]
      },
      {
       "output_type": "stream",
       "stream": "stdout",
       "text": [
        "\r",
        "  Downloading jieba-0.37.zip (6.4MB):  65%  4.2MB\r",
        "  Downloading jieba-0.37.zip (6.4MB):  65%  4.2MB\r",
        "  Downloading jieba-0.37.zip (6.4MB):  65%  4.2MB\r",
        "  Downloading jieba-0.37.zip (6.4MB):  65%  4.2MB"
       ]
      },
      {
       "output_type": "stream",
       "stream": "stdout",
       "text": [
        "\r",
        "  Downloading jieba-0.37.zip (6.4MB):  65%  4.2MB\r",
        "  Downloading jieba-0.37.zip (6.4MB):  65%  4.2MB\r",
        "  Downloading jieba-0.37.zip (6.4MB):  65%  4.2MB\r",
        "  Downloading jieba-0.37.zip (6.4MB):  65%  4.2MB"
       ]
      },
      {
       "output_type": "stream",
       "stream": "stdout",
       "text": [
        "\r",
        "  Downloading jieba-0.37.zip (6.4MB):  65%  4.2MB\r",
        "  Downloading jieba-0.37.zip (6.4MB):  65%  4.2MB\r",
        "  Downloading jieba-0.37.zip (6.4MB):  65%  4.2MB\r",
        "  Downloading jieba-0.37.zip (6.4MB):  66%  4.2MB"
       ]
      },
      {
       "output_type": "stream",
       "stream": "stdout",
       "text": [
        "\r",
        "  Downloading jieba-0.37.zip (6.4MB):  66%  4.2MB\r",
        "  Downloading jieba-0.37.zip (6.4MB):  66%  4.2MB\r",
        "  Downloading jieba-0.37.zip (6.4MB):  66%  4.2MB\r",
        "  Downloading jieba-0.37.zip (6.4MB):  66%  4.2MB"
       ]
      },
      {
       "output_type": "stream",
       "stream": "stdout",
       "text": [
        "\r",
        "  Downloading jieba-0.37.zip (6.4MB):  66%  4.2MB\r",
        "  Downloading jieba-0.37.zip (6.4MB):  66%  4.2MB\r",
        "  Downloading jieba-0.37.zip (6.4MB):  66%  4.3MB\r",
        "  Downloading jieba-0.37.zip (6.4MB):  66%  4.3MB"
       ]
      },
      {
       "output_type": "stream",
       "stream": "stdout",
       "text": [
        "\r",
        "  Downloading jieba-0.37.zip (6.4MB):  66%  4.3MB\r",
        "  Downloading jieba-0.37.zip (6.4MB):  66%  4.3MB\r",
        "  Downloading jieba-0.37.zip (6.4MB):  66%  4.3MB\r",
        "  Downloading jieba-0.37.zip (6.4MB):  66%  4.3MB"
       ]
      },
      {
       "output_type": "stream",
       "stream": "stdout",
       "text": [
        "\r",
        "  Downloading jieba-0.37.zip (6.4MB):  66%  4.3MB\r",
        "  Downloading jieba-0.37.zip (6.4MB):  66%  4.3MB\r",
        "  Downloading jieba-0.37.zip (6.4MB):  66%  4.3MB\r",
        "  Downloading jieba-0.37.zip (6.4MB):  67%  4.3MB"
       ]
      },
      {
       "output_type": "stream",
       "stream": "stdout",
       "text": [
        "\r",
        "  Downloading jieba-0.37.zip (6.4MB):  67%  4.3MB\r",
        "  Downloading jieba-0.37.zip (6.4MB):  67%  4.3MB\r",
        "  Downloading jieba-0.37.zip (6.4MB):  67%  4.3MB\r",
        "  Downloading jieba-0.37.zip (6.4MB):  67%  4.3MB"
       ]
      },
      {
       "output_type": "stream",
       "stream": "stdout",
       "text": [
        "\r",
        "  Downloading jieba-0.37.zip (6.4MB):  67%  4.3MB"
       ]
      },
      {
       "output_type": "stream",
       "stream": "stdout",
       "text": [
        "\r",
        "  Downloading jieba-0.37.zip (6.4MB):  67%  4.3MB\r",
        "  Downloading jieba-0.37.zip (6.4MB):  67%  4.3MB\r",
        "  Downloading jieba-0.37.zip (6.4MB):  67%  4.3MB"
       ]
      },
      {
       "output_type": "stream",
       "stream": "stdout",
       "text": [
        "\r",
        "  Downloading jieba-0.37.zip (6.4MB):  67%  4.3MB\r",
        "  Downloading jieba-0.37.zip (6.4MB):  67%  4.3MB"
       ]
      },
      {
       "output_type": "stream",
       "stream": "stdout",
       "text": [
        "\r",
        "  Downloading jieba-0.37.zip (6.4MB):  67%  4.3MB\r",
        "  Downloading jieba-0.37.zip (6.4MB):  67%  4.3MB"
       ]
      },
      {
       "output_type": "stream",
       "stream": "stdout",
       "text": [
        "\r",
        "  Downloading jieba-0.37.zip (6.4MB):  67%  4.3MB\r",
        "  Downloading jieba-0.37.zip (6.4MB):  67%  4.3MB\r",
        "  Downloading jieba-0.37.zip (6.4MB):  68%  4.3MB\r",
        "  Downloading jieba-0.37.zip (6.4MB):  68%  4.4MB"
       ]
      },
      {
       "output_type": "stream",
       "stream": "stdout",
       "text": [
        "\r",
        "  Downloading jieba-0.37.zip (6.4MB):  68%  4.4MB\r",
        "  Downloading jieba-0.37.zip (6.4MB):  68%  4.4MB\r",
        "  Downloading jieba-0.37.zip (6.4MB):  68%  4.4MB\r",
        "  Downloading jieba-0.37.zip (6.4MB):  68%  4.4MB"
       ]
      },
      {
       "output_type": "stream",
       "stream": "stdout",
       "text": [
        "\r",
        "  Downloading jieba-0.37.zip (6.4MB):  68%  4.4MB\r",
        "  Downloading jieba-0.37.zip (6.4MB):  68%  4.4MB\r",
        "  Downloading jieba-0.37.zip (6.4MB):  68%  4.4MB\r",
        "  Downloading jieba-0.37.zip (6.4MB):  68%  4.4MB"
       ]
      },
      {
       "output_type": "stream",
       "stream": "stdout",
       "text": [
        "\r",
        "  Downloading jieba-0.37.zip (6.4MB):  68%  4.4MB\r",
        "  Downloading jieba-0.37.zip (6.4MB):  68%  4.4MB\r",
        "  Downloading jieba-0.37.zip (6.4MB):  68%  4.4MB\r",
        "  Downloading jieba-0.37.zip (6.4MB):  68%  4.4MB"
       ]
      },
      {
       "output_type": "stream",
       "stream": "stdout",
       "text": [
        "\r",
        "  Downloading jieba-0.37.zip (6.4MB):  68%  4.4MB\r",
        "  Downloading jieba-0.37.zip (6.4MB):  68%  4.4MB\r",
        "  Downloading jieba-0.37.zip (6.4MB):  69%  4.4MB\r",
        "  Downloading jieba-0.37.zip (6.4MB):  69%  4.4MB"
       ]
      },
      {
       "output_type": "stream",
       "stream": "stdout",
       "text": [
        "\r",
        "  Downloading jieba-0.37.zip (6.4MB):  69%  4.4MB\r",
        "  Downloading jieba-0.37.zip (6.4MB):  69%  4.4MB\r",
        "  Downloading jieba-0.37.zip (6.4MB):  69%  4.4MB\r",
        "  Downloading jieba-0.37.zip (6.4MB):  69%  4.4MB"
       ]
      },
      {
       "output_type": "stream",
       "stream": "stdout",
       "text": [
        "\r",
        "  Downloading jieba-0.37.zip (6.4MB):  69%  4.4MB"
       ]
      },
      {
       "output_type": "stream",
       "stream": "stdout",
       "text": [
        "\r",
        "  Downloading jieba-0.37.zip (6.4MB):  69%  4.4MB\r",
        "  Downloading jieba-0.37.zip (6.4MB):  69%  4.4MB\r",
        "  Downloading jieba-0.37.zip (6.4MB):  69%  4.5MB"
       ]
      },
      {
       "output_type": "stream",
       "stream": "stdout",
       "text": [
        "\r",
        "  Downloading jieba-0.37.zip (6.4MB):  69%  4.5MB\r",
        "  Downloading jieba-0.37.zip (6.4MB):  69%  4.5MB\r",
        "  Downloading jieba-0.37.zip (6.4MB):  69%  4.5MB\r",
        "  Downloading jieba-0.37.zip (6.4MB):  69%  4.5MB"
       ]
      },
      {
       "output_type": "stream",
       "stream": "stdout",
       "text": [
        "\r",
        "  Downloading jieba-0.37.zip (6.4MB):  69%  4.5MB\r",
        "  Downloading jieba-0.37.zip (6.4MB):  69%  4.5MB\r",
        "  Downloading jieba-0.37.zip (6.4MB):  70%  4.5MB\r",
        "  Downloading jieba-0.37.zip (6.4MB):  70%  4.5MB"
       ]
      },
      {
       "output_type": "stream",
       "stream": "stdout",
       "text": [
        "\r",
        "  Downloading jieba-0.37.zip (6.4MB):  70%  4.5MB\r",
        "  Downloading jieba-0.37.zip (6.4MB):  70%  4.5MB\r",
        "  Downloading jieba-0.37.zip (6.4MB):  70%  4.5MB\r",
        "  Downloading jieba-0.37.zip (6.4MB):  70%  4.5MB"
       ]
      },
      {
       "output_type": "stream",
       "stream": "stdout",
       "text": [
        "\r",
        "  Downloading jieba-0.37.zip (6.4MB):  70%  4.5MB\r",
        "  Downloading jieba-0.37.zip (6.4MB):  70%  4.5MB\r",
        "  Downloading jieba-0.37.zip (6.4MB):  70%  4.5MB\r",
        "  Downloading jieba-0.37.zip (6.4MB):  70%  4.5MB"
       ]
      },
      {
       "output_type": "stream",
       "stream": "stdout",
       "text": [
        "\r",
        "  Downloading jieba-0.37.zip (6.4MB):  70%  4.5MB\r",
        "  Downloading jieba-0.37.zip (6.4MB):  70%  4.5MB\r",
        "  Downloading jieba-0.37.zip (6.4MB):  70%  4.5MB\r",
        "  Downloading jieba-0.37.zip (6.4MB):  70%  4.5MB"
       ]
      },
      {
       "output_type": "stream",
       "stream": "stdout",
       "text": [
        "\r",
        "  Downloading jieba-0.37.zip (6.4MB):  70%  4.5MB\r",
        "  Downloading jieba-0.37.zip (6.4MB):  71%  4.5MB\r",
        "  Downloading jieba-0.37.zip (6.4MB):  71%  4.5MB\r",
        "  Downloading jieba-0.37.zip (6.4MB):  71%  4.6MB"
       ]
      },
      {
       "output_type": "stream",
       "stream": "stdout",
       "text": [
        "\r",
        "  Downloading jieba-0.37.zip (6.4MB):  71%  4.6MB\r",
        "  Downloading jieba-0.37.zip (6.4MB):  71%  4.6MB\r",
        "  Downloading jieba-0.37.zip (6.4MB):  71%  4.6MB\r",
        "  Downloading jieba-0.37.zip (6.4MB):  71%  4.6MB"
       ]
      },
      {
       "output_type": "stream",
       "stream": "stdout",
       "text": [
        "\r",
        "  Downloading jieba-0.37.zip (6.4MB):  71%  4.6MB\r",
        "  Downloading jieba-0.37.zip (6.4MB):  71%  4.6MB\r",
        "  Downloading jieba-0.37.zip (6.4MB):  71%  4.6MB\r",
        "  Downloading jieba-0.37.zip (6.4MB):  71%  4.6MB"
       ]
      },
      {
       "output_type": "stream",
       "stream": "stdout",
       "text": [
        "\r",
        "  Downloading jieba-0.37.zip (6.4MB):  71%  4.6MB\r",
        "  Downloading jieba-0.37.zip (6.4MB):  71%  4.6MB\r",
        "  Downloading jieba-0.37.zip (6.4MB):  71%  4.6MB\r",
        "  Downloading jieba-0.37.zip (6.4MB):  71%  4.6MB"
       ]
      },
      {
       "output_type": "stream",
       "stream": "stdout",
       "text": [
        "\r",
        "  Downloading jieba-0.37.zip (6.4MB):  71%  4.6MB\r",
        "  Downloading jieba-0.37.zip (6.4MB):  72%  4.6MB\r",
        "  Downloading jieba-0.37.zip (6.4MB):  72%  4.6MB\r",
        "  Downloading jieba-0.37.zip (6.4MB):  72%  4.6MB"
       ]
      },
      {
       "output_type": "stream",
       "stream": "stdout",
       "text": [
        "\r",
        "  Downloading jieba-0.37.zip (6.4MB):  72%  4.6MB\r",
        "  Downloading jieba-0.37.zip (6.4MB):  72%  4.6MB\r",
        "  Downloading jieba-0.37.zip (6.4MB):  72%  4.6MB\r",
        "  Downloading jieba-0.37.zip (6.4MB):  72%  4.6MB"
       ]
      },
      {
       "output_type": "stream",
       "stream": "stdout",
       "text": [
        "\r",
        "  Downloading jieba-0.37.zip (6.4MB):  72%  4.6MB\r",
        "  Downloading jieba-0.37.zip (6.4MB):  72%  4.6MB\r",
        "  Downloading jieba-0.37.zip (6.4MB):  72%  4.6MB\r",
        "  Downloading jieba-0.37.zip (6.4MB):  72%  4.6MB"
       ]
      },
      {
       "output_type": "stream",
       "stream": "stdout",
       "text": [
        "\r",
        "  Downloading jieba-0.37.zip (6.4MB):  72%  4.7MB\r",
        "  Downloading jieba-0.37.zip (6.4MB):  72%  4.7MB\r",
        "  Downloading jieba-0.37.zip (6.4MB):  72%  4.7MB\r",
        "  Downloading jieba-0.37.zip (6.4MB):  72%  4.7MB"
       ]
      },
      {
       "output_type": "stream",
       "stream": "stdout",
       "text": [
        "\r",
        "  Downloading jieba-0.37.zip (6.4MB):  72%  4.7MB\r",
        "  Downloading jieba-0.37.zip (6.4MB):  73%  4.7MB\r",
        "  Downloading jieba-0.37.zip (6.4MB):  73%  4.7MB\r",
        "  Downloading jieba-0.37.zip (6.4MB):  73%  4.7MB"
       ]
      },
      {
       "output_type": "stream",
       "stream": "stdout",
       "text": [
        "\r",
        "  Downloading jieba-0.37.zip (6.4MB):  73%  4.7MB\r",
        "  Downloading jieba-0.37.zip (6.4MB):  73%  4.7MB\r",
        "  Downloading jieba-0.37.zip (6.4MB):  73%  4.7MB\r",
        "  Downloading jieba-0.37.zip (6.4MB):  73%  4.7MB"
       ]
      },
      {
       "output_type": "stream",
       "stream": "stdout",
       "text": [
        "\r",
        "  Downloading jieba-0.37.zip (6.4MB):  73%  4.7MB\r",
        "  Downloading jieba-0.37.zip (6.4MB):  73%  4.7MB\r",
        "  Downloading jieba-0.37.zip (6.4MB):  73%  4.7MB\r",
        "  Downloading jieba-0.37.zip (6.4MB):  73%  4.7MB"
       ]
      },
      {
       "output_type": "stream",
       "stream": "stdout",
       "text": [
        "\r",
        "  Downloading jieba-0.37.zip (6.4MB):  73%  4.7MB\r",
        "  Downloading jieba-0.37.zip (6.4MB):  73%  4.7MB\r",
        "  Downloading jieba-0.37.zip (6.4MB):  73%  4.7MB\r",
        "  Downloading jieba-0.37.zip (6.4MB):  73%  4.7MB"
       ]
      },
      {
       "output_type": "stream",
       "stream": "stdout",
       "text": [
        "\r",
        "  Downloading jieba-0.37.zip (6.4MB):  74%  4.7MB\r",
        "  Downloading jieba-0.37.zip (6.4MB):  74%  4.7MB\r",
        "  Downloading jieba-0.37.zip (6.4MB):  74%  4.7MB\r",
        "  Downloading jieba-0.37.zip (6.4MB):  74%  4.7MB"
       ]
      },
      {
       "output_type": "stream",
       "stream": "stdout",
       "text": [
        "\r",
        "  Downloading jieba-0.37.zip (6.4MB):  74%  4.8MB\r",
        "  Downloading jieba-0.37.zip (6.4MB):  74%  4.8MB\r",
        "  Downloading jieba-0.37.zip (6.4MB):  74%  4.8MB\r",
        "  Downloading jieba-0.37.zip (6.4MB):  74%  4.8MB"
       ]
      },
      {
       "output_type": "stream",
       "stream": "stdout",
       "text": [
        "\r",
        "  Downloading jieba-0.37.zip (6.4MB):  74%  4.8MB\r",
        "  Downloading jieba-0.37.zip (6.4MB):  74%  4.8MB\r",
        "  Downloading jieba-0.37.zip (6.4MB):  74%  4.8MB\r",
        "  Downloading jieba-0.37.zip (6.4MB):  74%  4.8MB"
       ]
      },
      {
       "output_type": "stream",
       "stream": "stdout",
       "text": [
        "\r",
        "  Downloading jieba-0.37.zip (6.4MB):  74%  4.8MB\r",
        "  Downloading jieba-0.37.zip (6.4MB):  74%  4.8MB\r",
        "  Downloading jieba-0.37.zip (6.4MB):  74%  4.8MB\r",
        "  Downloading jieba-0.37.zip (6.4MB):  74%  4.8MB"
       ]
      },
      {
       "output_type": "stream",
       "stream": "stdout",
       "text": [
        "\r",
        "  Downloading jieba-0.37.zip (6.4MB):  75%  4.8MB\r",
        "  Downloading jieba-0.37.zip (6.4MB):  75%  4.8MB\r",
        "  Downloading jieba-0.37.zip (6.4MB):  75%  4.8MB\r",
        "  Downloading jieba-0.37.zip (6.4MB):  75%  4.8MB"
       ]
      },
      {
       "output_type": "stream",
       "stream": "stdout",
       "text": [
        "\r",
        "  Downloading jieba-0.37.zip (6.4MB):  75%  4.8MB\r",
        "  Downloading jieba-0.37.zip (6.4MB):  75%  4.8MB\r",
        "  Downloading jieba-0.37.zip (6.4MB):  75%  4.8MB\r",
        "  Downloading jieba-0.37.zip (6.4MB):  75%  4.8MB"
       ]
      },
      {
       "output_type": "stream",
       "stream": "stdout",
       "text": [
        "\r",
        "  Downloading jieba-0.37.zip (6.4MB):  75%  4.8MB\r",
        "  Downloading jieba-0.37.zip (6.4MB):  75%  4.8MB\r",
        "  Downloading jieba-0.37.zip (6.4MB):  75%  4.8MB\r",
        "  Downloading jieba-0.37.zip (6.4MB):  75%  4.8MB"
       ]
      },
      {
       "output_type": "stream",
       "stream": "stdout",
       "text": [
        "\r",
        "  Downloading jieba-0.37.zip (6.4MB):  75%  4.8MB\r",
        "  Downloading jieba-0.37.zip (6.4MB):  75%  4.9MB\r",
        "  Downloading jieba-0.37.zip (6.4MB):  75%  4.9MB\r",
        "  Downloading jieba-0.37.zip (6.4MB):  76%  4.9MB"
       ]
      },
      {
       "output_type": "stream",
       "stream": "stdout",
       "text": [
        "\r",
        "  Downloading jieba-0.37.zip (6.4MB):  76%  4.9MB\r",
        "  Downloading jieba-0.37.zip (6.4MB):  76%  4.9MB\r",
        "  Downloading jieba-0.37.zip (6.4MB):  76%  4.9MB\r",
        "  Downloading jieba-0.37.zip (6.4MB):  76%  4.9MB"
       ]
      },
      {
       "output_type": "stream",
       "stream": "stdout",
       "text": [
        "\r",
        "  Downloading jieba-0.37.zip (6.4MB):  76%  4.9MB\r",
        "  Downloading jieba-0.37.zip (6.4MB):  76%  4.9MB\r",
        "  Downloading jieba-0.37.zip (6.4MB):  76%  4.9MB\r",
        "  Downloading jieba-0.37.zip (6.4MB):  76%  4.9MB"
       ]
      },
      {
       "output_type": "stream",
       "stream": "stdout",
       "text": [
        "\r",
        "  Downloading jieba-0.37.zip (6.4MB):  76%  4.9MB\r",
        "  Downloading jieba-0.37.zip (6.4MB):  76%  4.9MB\r",
        "  Downloading jieba-0.37.zip (6.4MB):  76%  4.9MB\r",
        "  Downloading jieba-0.37.zip (6.4MB):  76%  4.9MB"
       ]
      },
      {
       "output_type": "stream",
       "stream": "stdout",
       "text": [
        "\r",
        "  Downloading jieba-0.37.zip (6.4MB):  76%  4.9MB\r",
        "  Downloading jieba-0.37.zip (6.4MB):  76%  4.9MB\r",
        "  Downloading jieba-0.37.zip (6.4MB):  76%  4.9MB\r",
        "  Downloading jieba-0.37.zip (6.4MB):  77%  4.9MB"
       ]
      },
      {
       "output_type": "stream",
       "stream": "stdout",
       "text": [
        "\r",
        "  Downloading jieba-0.37.zip (6.4MB):  77%  4.9MB\r",
        "  Downloading jieba-0.37.zip (6.4MB):  77%  4.9MB\r",
        "  Downloading jieba-0.37.zip (6.4MB):  77%  4.9MB\r",
        "  Downloading jieba-0.37.zip (6.4MB):  77%  4.9MB"
       ]
      },
      {
       "output_type": "stream",
       "stream": "stdout",
       "text": [
        "\r",
        "  Downloading jieba-0.37.zip (6.4MB):  77%  4.9MB\r",
        "  Downloading jieba-0.37.zip (6.4MB):  77%  5.0MB\r",
        "  Downloading jieba-0.37.zip (6.4MB):  77%  5.0MB\r",
        "  Downloading jieba-0.37.zip (6.4MB):  77%  5.0MB"
       ]
      },
      {
       "output_type": "stream",
       "stream": "stdout",
       "text": [
        "\r",
        "  Downloading jieba-0.37.zip (6.4MB):  77%  5.0MB\r",
        "  Downloading jieba-0.37.zip (6.4MB):  77%  5.0MB\r",
        "  Downloading jieba-0.37.zip (6.4MB):  77%  5.0MB\r",
        "  Downloading jieba-0.37.zip (6.4MB):  77%  5.0MB"
       ]
      },
      {
       "output_type": "stream",
       "stream": "stdout",
       "text": [
        "\r",
        "  Downloading jieba-0.37.zip (6.4MB):  77%  5.0MB\r",
        "  Downloading jieba-0.37.zip (6.4MB):  77%  5.0MB\r",
        "  Downloading jieba-0.37.zip (6.4MB):  77%  5.0MB\r",
        "  Downloading jieba-0.37.zip (6.4MB):  78%  5.0MB"
       ]
      },
      {
       "output_type": "stream",
       "stream": "stdout",
       "text": [
        "\r",
        "  Downloading jieba-0.37.zip (6.4MB):  78%  5.0MB\r",
        "  Downloading jieba-0.37.zip (6.4MB):  78%  5.0MB\r",
        "  Downloading jieba-0.37.zip (6.4MB):  78%  5.0MB\r",
        "  Downloading jieba-0.37.zip (6.4MB):  78%  5.0MB"
       ]
      },
      {
       "output_type": "stream",
       "stream": "stdout",
       "text": [
        "\r",
        "  Downloading jieba-0.37.zip (6.4MB):  78%  5.0MB\r",
        "  Downloading jieba-0.37.zip (6.4MB):  78%  5.0MB\r",
        "  Downloading jieba-0.37.zip (6.4MB):  78%  5.0MB\r",
        "  Downloading jieba-0.37.zip (6.4MB):  78%  5.0MB"
       ]
      },
      {
       "output_type": "stream",
       "stream": "stdout",
       "text": [
        "\r",
        "  Downloading jieba-0.37.zip (6.4MB):  78%  5.0MB\r",
        "  Downloading jieba-0.37.zip (6.4MB):  78%  5.0MB\r",
        "  Downloading jieba-0.37.zip (6.4MB):  78%  5.0MB\r",
        "  Downloading jieba-0.37.zip (6.4MB):  78%  5.0MB"
       ]
      },
      {
       "output_type": "stream",
       "stream": "stdout",
       "text": [
        "\r",
        "  Downloading jieba-0.37.zip (6.4MB):  78%  5.0MB\r",
        "  Downloading jieba-0.37.zip (6.4MB):  78%  5.1MB\r",
        "  Downloading jieba-0.37.zip (6.4MB):  79%  5.1MB\r",
        "  Downloading jieba-0.37.zip (6.4MB):  79%  5.1MB"
       ]
      },
      {
       "output_type": "stream",
       "stream": "stdout",
       "text": [
        "\r",
        "  Downloading jieba-0.37.zip (6.4MB):  79%  5.1MB\r",
        "  Downloading jieba-0.37.zip (6.4MB):  79%  5.1MB\r",
        "  Downloading jieba-0.37.zip (6.4MB):  79%  5.1MB\r",
        "  Downloading jieba-0.37.zip (6.4MB):  79%  5.1MB"
       ]
      },
      {
       "output_type": "stream",
       "stream": "stdout",
       "text": [
        "\r",
        "  Downloading jieba-0.37.zip (6.4MB):  79%  5.1MB\r",
        "  Downloading jieba-0.37.zip (6.4MB):  79%  5.1MB\r",
        "  Downloading jieba-0.37.zip (6.4MB):  79%  5.1MB\r",
        "  Downloading jieba-0.37.zip (6.4MB):  79%  5.1MB"
       ]
      },
      {
       "output_type": "stream",
       "stream": "stdout",
       "text": [
        "\r",
        "  Downloading jieba-0.37.zip (6.4MB):  79%  5.1MB\r",
        "  Downloading jieba-0.37.zip (6.4MB):  79%  5.1MB\r",
        "  Downloading jieba-0.37.zip (6.4MB):  79%  5.1MB\r",
        "  Downloading jieba-0.37.zip (6.4MB):  79%  5.1MB"
       ]
      },
      {
       "output_type": "stream",
       "stream": "stdout",
       "text": [
        "\r",
        "  Downloading jieba-0.37.zip (6.4MB):  79%  5.1MB\r",
        "  Downloading jieba-0.37.zip (6.4MB):  79%  5.1MB\r",
        "  Downloading jieba-0.37.zip (6.4MB):  80%  5.1MB\r",
        "  Downloading jieba-0.37.zip (6.4MB):  80%  5.1MB"
       ]
      },
      {
       "output_type": "stream",
       "stream": "stdout",
       "text": [
        "\r",
        "  Downloading jieba-0.37.zip (6.4MB):  80%  5.1MB\r",
        "  Downloading jieba-0.37.zip (6.4MB):  80%  5.1MB\r",
        "  Downloading jieba-0.37.zip (6.4MB):  80%  5.1MB\r",
        "  Downloading jieba-0.37.zip (6.4MB):  80%  5.1MB"
       ]
      },
      {
       "output_type": "stream",
       "stream": "stdout",
       "text": [
        "\r",
        "  Downloading jieba-0.37.zip (6.4MB):  80%  5.1MB\r",
        "  Downloading jieba-0.37.zip (6.4MB):  80%  5.1MB\r",
        "  Downloading jieba-0.37.zip (6.4MB):  80%  5.2MB\r",
        "  Downloading jieba-0.37.zip (6.4MB):  80%  5.2MB"
       ]
      },
      {
       "output_type": "stream",
       "stream": "stdout",
       "text": [
        "\r",
        "  Downloading jieba-0.37.zip (6.4MB):  80%  5.2MB\r",
        "  Downloading jieba-0.37.zip (6.4MB):  80%  5.2MB\r",
        "  Downloading jieba-0.37.zip (6.4MB):  80%  5.2MB\r",
        "  Downloading jieba-0.37.zip (6.4MB):  80%  5.2MB"
       ]
      },
      {
       "output_type": "stream",
       "stream": "stdout",
       "text": [
        "\r",
        "  Downloading jieba-0.37.zip (6.4MB):  80%  5.2MB\r",
        "  Downloading jieba-0.37.zip (6.4MB):  81%  5.2MB\r",
        "  Downloading jieba-0.37.zip (6.4MB):  81%  5.2MB\r",
        "  Downloading jieba-0.37.zip (6.4MB):  81%  5.2MB"
       ]
      },
      {
       "output_type": "stream",
       "stream": "stdout",
       "text": [
        "\r",
        "  Downloading jieba-0.37.zip (6.4MB):  81%  5.2MB\r",
        "  Downloading jieba-0.37.zip (6.4MB):  81%  5.2MB\r",
        "  Downloading jieba-0.37.zip (6.4MB):  81%  5.2MB\r",
        "  Downloading jieba-0.37.zip (6.4MB):  81%  5.2MB"
       ]
      },
      {
       "output_type": "stream",
       "stream": "stdout",
       "text": [
        "\r",
        "  Downloading jieba-0.37.zip (6.4MB):  81%  5.2MB\r",
        "  Downloading jieba-0.37.zip (6.4MB):  81%  5.2MB\r",
        "  Downloading jieba-0.37.zip (6.4MB):  81%  5.2MB\r",
        "  Downloading jieba-0.37.zip (6.4MB):  81%  5.2MB"
       ]
      },
      {
       "output_type": "stream",
       "stream": "stdout",
       "text": [
        "\r",
        "  Downloading jieba-0.37.zip (6.4MB):  81%  5.2MB\r",
        "  Downloading jieba-0.37.zip (6.4MB):  81%  5.2MB\r",
        "  Downloading jieba-0.37.zip (6.4MB):  81%  5.2MB\r",
        "  Downloading jieba-0.37.zip (6.4MB):  81%  5.2MB"
       ]
      },
      {
       "output_type": "stream",
       "stream": "stdout",
       "text": [
        "\r",
        "  Downloading jieba-0.37.zip (6.4MB):  81%  5.2MB\r",
        "  Downloading jieba-0.37.zip (6.4MB):  82%  5.2MB\r",
        "  Downloading jieba-0.37.zip (6.4MB):  82%  5.3MB\r",
        "  Downloading jieba-0.37.zip (6.4MB):  82%  5.3MB"
       ]
      },
      {
       "output_type": "stream",
       "stream": "stdout",
       "text": [
        "\r",
        "  Downloading jieba-0.37.zip (6.4MB):  82%  5.3MB\r",
        "  Downloading jieba-0.37.zip (6.4MB):  82%  5.3MB\r",
        "  Downloading jieba-0.37.zip (6.4MB):  82%  5.3MB\r",
        "  Downloading jieba-0.37.zip (6.4MB):  82%  5.3MB"
       ]
      },
      {
       "output_type": "stream",
       "stream": "stdout",
       "text": [
        "\r",
        "  Downloading jieba-0.37.zip (6.4MB):  82%  5.3MB\r",
        "  Downloading jieba-0.37.zip (6.4MB):  82%  5.3MB\r",
        "  Downloading jieba-0.37.zip (6.4MB):  82%  5.3MB\r",
        "  Downloading jieba-0.37.zip (6.4MB):  82%  5.3MB"
       ]
      },
      {
       "output_type": "stream",
       "stream": "stdout",
       "text": [
        "\r",
        "  Downloading jieba-0.37.zip (6.4MB):  82%  5.3MB\r",
        "  Downloading jieba-0.37.zip (6.4MB):  82%  5.3MB\r",
        "  Downloading jieba-0.37.zip (6.4MB):  82%  5.3MB\r",
        "  Downloading jieba-0.37.zip (6.4MB):  82%  5.3MB"
       ]
      },
      {
       "output_type": "stream",
       "stream": "stdout",
       "text": [
        "\r",
        "  Downloading jieba-0.37.zip (6.4MB):  82%  5.3MB\r",
        "  Downloading jieba-0.37.zip (6.4MB):  83%  5.3MB\r",
        "  Downloading jieba-0.37.zip (6.4MB):  83%  5.3MB\r",
        "  Downloading jieba-0.37.zip (6.4MB):  83%  5.3MB"
       ]
      },
      {
       "output_type": "stream",
       "stream": "stdout",
       "text": [
        "\r",
        "  Downloading jieba-0.37.zip (6.4MB):  83%  5.3MB\r",
        "  Downloading jieba-0.37.zip (6.4MB):  83%  5.3MB\r",
        "  Downloading jieba-0.37.zip (6.4MB):  83%  5.3MB\r",
        "  Downloading jieba-0.37.zip (6.4MB):  83%  5.3MB"
       ]
      },
      {
       "output_type": "stream",
       "stream": "stdout",
       "text": [
        "\r",
        "  Downloading jieba-0.37.zip (6.4MB):  83%  5.3MB\r",
        "  Downloading jieba-0.37.zip (6.4MB):  83%  5.3MB\r",
        "  Downloading jieba-0.37.zip (6.4MB):  83%  5.3MB\r",
        "  Downloading jieba-0.37.zip (6.4MB):  83%  5.4MB"
       ]
      },
      {
       "output_type": "stream",
       "stream": "stdout",
       "text": [
        "\r",
        "  Downloading jieba-0.37.zip (6.4MB):  83%  5.4MB\r",
        "  Downloading jieba-0.37.zip (6.4MB):  83%  5.4MB\r",
        "  Downloading jieba-0.37.zip (6.4MB):  83%  5.4MB\r",
        "  Downloading jieba-0.37.zip (6.4MB):  83%  5.4MB"
       ]
      },
      {
       "output_type": "stream",
       "stream": "stdout",
       "text": [
        "\r",
        "  Downloading jieba-0.37.zip (6.4MB):  84%  5.4MB\r",
        "  Downloading jieba-0.37.zip (6.4MB):  84%  5.4MB\r",
        "  Downloading jieba-0.37.zip (6.4MB):  84%  5.4MB\r",
        "  Downloading jieba-0.37.zip (6.4MB):  84%  5.4MB"
       ]
      },
      {
       "output_type": "stream",
       "stream": "stdout",
       "text": [
        "\r",
        "  Downloading jieba-0.37.zip (6.4MB):  84%  5.4MB\r",
        "  Downloading jieba-0.37.zip (6.4MB):  84%  5.4MB\r",
        "  Downloading jieba-0.37.zip (6.4MB):  84%  5.4MB\r",
        "  Downloading jieba-0.37.zip (6.4MB):  84%  5.4MB"
       ]
      },
      {
       "output_type": "stream",
       "stream": "stdout",
       "text": [
        "\r",
        "  Downloading jieba-0.37.zip (6.4MB):  84%  5.4MB\r",
        "  Downloading jieba-0.37.zip (6.4MB):  84%  5.4MB\r",
        "  Downloading jieba-0.37.zip (6.4MB):  84%  5.4MB\r",
        "  Downloading jieba-0.37.zip (6.4MB):  84%  5.4MB"
       ]
      },
      {
       "output_type": "stream",
       "stream": "stdout",
       "text": [
        "\r",
        "  Downloading jieba-0.37.zip (6.4MB):  84%  5.4MB\r",
        "  Downloading jieba-0.37.zip (6.4MB):  84%  5.4MB\r",
        "  Downloading jieba-0.37.zip (6.4MB):  84%  5.4MB\r",
        "  Downloading jieba-0.37.zip (6.4MB):  84%  5.4MB"
       ]
      },
      {
       "output_type": "stream",
       "stream": "stdout",
       "text": [
        "\r",
        "  Downloading jieba-0.37.zip (6.4MB):  85%  5.4MB\r",
        "  Downloading jieba-0.37.zip (6.4MB):  85%  5.4MB\r",
        "  Downloading jieba-0.37.zip (6.4MB):  85%  5.4MB\r",
        "  Downloading jieba-0.37.zip (6.4MB):  85%  5.5MB"
       ]
      },
      {
       "output_type": "stream",
       "stream": "stdout",
       "text": [
        "\r",
        "  Downloading jieba-0.37.zip (6.4MB):  85%  5.5MB\r",
        "  Downloading jieba-0.37.zip (6.4MB):  85%  5.5MB\r",
        "  Downloading jieba-0.37.zip (6.4MB):  85%  5.5MB\r",
        "  Downloading jieba-0.37.zip (6.4MB):  85%  5.5MB"
       ]
      },
      {
       "output_type": "stream",
       "stream": "stdout",
       "text": [
        "\r",
        "  Downloading jieba-0.37.zip (6.4MB):  85%  5.5MB\r",
        "  Downloading jieba-0.37.zip (6.4MB):  85%  5.5MB\r",
        "  Downloading jieba-0.37.zip (6.4MB):  85%  5.5MB\r",
        "  Downloading jieba-0.37.zip (6.4MB):  85%  5.5MB"
       ]
      },
      {
       "output_type": "stream",
       "stream": "stdout",
       "text": [
        "\r",
        "  Downloading jieba-0.37.zip (6.4MB):  85%  5.5MB\r",
        "  Downloading jieba-0.37.zip (6.4MB):  85%  5.5MB\r",
        "  Downloading jieba-0.37.zip (6.4MB):  85%  5.5MB\r",
        "  Downloading jieba-0.37.zip (6.4MB):  85%  5.5MB"
       ]
      },
      {
       "output_type": "stream",
       "stream": "stdout",
       "text": [
        "\r",
        "  Downloading jieba-0.37.zip (6.4MB):  86%  5.5MB\r",
        "  Downloading jieba-0.37.zip (6.4MB):  86%  5.5MB\r",
        "  Downloading jieba-0.37.zip (6.4MB):  86%  5.5MB\r",
        "  Downloading jieba-0.37.zip (6.4MB):  86%  5.5MB"
       ]
      },
      {
       "output_type": "stream",
       "stream": "stdout",
       "text": [
        "\r",
        "  Downloading jieba-0.37.zip (6.4MB):  86%  5.5MB\r",
        "  Downloading jieba-0.37.zip (6.4MB):  86%  5.5MB\r",
        "  Downloading jieba-0.37.zip (6.4MB):  86%  5.5MB\r",
        "  Downloading jieba-0.37.zip (6.4MB):  86%  5.5MB"
       ]
      },
      {
       "output_type": "stream",
       "stream": "stdout",
       "text": [
        "\r",
        "  Downloading jieba-0.37.zip (6.4MB):  86%  5.5MB\r",
        "  Downloading jieba-0.37.zip (6.4MB):  86%  5.5MB\r",
        "  Downloading jieba-0.37.zip (6.4MB):  86%  5.5MB\r",
        "  Downloading jieba-0.37.zip (6.4MB):  86%  5.6MB"
       ]
      },
      {
       "output_type": "stream",
       "stream": "stdout",
       "text": [
        "\r",
        "  Downloading jieba-0.37.zip (6.4MB):  86%  5.6MB\r",
        "  Downloading jieba-0.37.zip (6.4MB):  86%  5.6MB\r",
        "  Downloading jieba-0.37.zip (6.4MB):  86%  5.6MB\r",
        "  Downloading jieba-0.37.zip (6.4MB):  87%  5.6MB"
       ]
      },
      {
       "output_type": "stream",
       "stream": "stdout",
       "text": [
        "\r",
        "  Downloading jieba-0.37.zip (6.4MB):  87%  5.6MB\r",
        "  Downloading jieba-0.37.zip (6.4MB):  87%  5.6MB\r",
        "  Downloading jieba-0.37.zip (6.4MB):  87%  5.6MB\r",
        "  Downloading jieba-0.37.zip (6.4MB):  87%  5.6MB"
       ]
      },
      {
       "output_type": "stream",
       "stream": "stdout",
       "text": [
        "\r",
        "  Downloading jieba-0.37.zip (6.4MB):  87%  5.6MB\r",
        "  Downloading jieba-0.37.zip (6.4MB):  87%  5.6MB\r",
        "  Downloading jieba-0.37.zip (6.4MB):  87%  5.6MB\r",
        "  Downloading jieba-0.37.zip (6.4MB):  87%  5.6MB"
       ]
      },
      {
       "output_type": "stream",
       "stream": "stdout",
       "text": [
        "\r",
        "  Downloading jieba-0.37.zip (6.4MB):  87%  5.6MB\r",
        "  Downloading jieba-0.37.zip (6.4MB):  87%  5.6MB\r",
        "  Downloading jieba-0.37.zip (6.4MB):  87%  5.6MB\r",
        "  Downloading jieba-0.37.zip (6.4MB):  87%  5.6MB"
       ]
      },
      {
       "output_type": "stream",
       "stream": "stdout",
       "text": [
        "\r",
        "  Downloading jieba-0.37.zip (6.4MB):  87%  5.6MB\r",
        "  Downloading jieba-0.37.zip (6.4MB):  87%  5.6MB\r",
        "  Downloading jieba-0.37.zip (6.4MB):  87%  5.6MB\r",
        "  Downloading jieba-0.37.zip (6.4MB):  88%  5.6MB"
       ]
      },
      {
       "output_type": "stream",
       "stream": "stdout",
       "text": [
        "\r",
        "  Downloading jieba-0.37.zip (6.4MB):  88%  5.6MB\r",
        "  Downloading jieba-0.37.zip (6.4MB):  88%  5.6MB\r",
        "  Downloading jieba-0.37.zip (6.4MB):  88%  5.6MB\r",
        "  Downloading jieba-0.37.zip (6.4MB):  88%  5.6MB"
       ]
      },
      {
       "output_type": "stream",
       "stream": "stdout",
       "text": [
        "\r",
        "  Downloading jieba-0.37.zip (6.4MB):  88%  5.7MB\r",
        "  Downloading jieba-0.37.zip (6.4MB):  88%  5.7MB\r",
        "  Downloading jieba-0.37.zip (6.4MB):  88%  5.7MB\r",
        "  Downloading jieba-0.37.zip (6.4MB):  88%  5.7MB"
       ]
      },
      {
       "output_type": "stream",
       "stream": "stdout",
       "text": [
        "\r",
        "  Downloading jieba-0.37.zip (6.4MB):  88%  5.7MB\r",
        "  Downloading jieba-0.37.zip (6.4MB):  88%  5.7MB\r",
        "  Downloading jieba-0.37.zip (6.4MB):  88%  5.7MB\r",
        "  Downloading jieba-0.37.zip (6.4MB):  88%  5.7MB"
       ]
      },
      {
       "output_type": "stream",
       "stream": "stdout",
       "text": [
        "\r",
        "  Downloading jieba-0.37.zip (6.4MB):  88%  5.7MB\r",
        "  Downloading jieba-0.37.zip (6.4MB):  88%  5.7MB\r",
        "  Downloading jieba-0.37.zip (6.4MB):  89%  5.7MB\r",
        "  Downloading jieba-0.37.zip (6.4MB):  89%  5.7MB"
       ]
      },
      {
       "output_type": "stream",
       "stream": "stdout",
       "text": [
        "\r",
        "  Downloading jieba-0.37.zip (6.4MB):  89%  5.7MB\r",
        "  Downloading jieba-0.37.zip (6.4MB):  89%  5.7MB\r",
        "  Downloading jieba-0.37.zip (6.4MB):  89%  5.7MB\r",
        "  Downloading jieba-0.37.zip (6.4MB):  89%  5.7MB"
       ]
      },
      {
       "output_type": "stream",
       "stream": "stdout",
       "text": [
        "\r",
        "  Downloading jieba-0.37.zip (6.4MB):  89%  5.7MB\r",
        "  Downloading jieba-0.37.zip (6.4MB):  89%  5.7MB\r",
        "  Downloading jieba-0.37.zip (6.4MB):  89%  5.7MB\r",
        "  Downloading jieba-0.37.zip (6.4MB):  89%  5.7MB"
       ]
      },
      {
       "output_type": "stream",
       "stream": "stdout",
       "text": [
        "\r",
        "  Downloading jieba-0.37.zip (6.4MB):  89%  5.7MB\r",
        "  Downloading jieba-0.37.zip (6.4MB):  89%  5.7MB\r",
        "  Downloading jieba-0.37.zip (6.4MB):  89%  5.7MB\r",
        "  Downloading jieba-0.37.zip (6.4MB):  89%  5.7MB"
       ]
      },
      {
       "output_type": "stream",
       "stream": "stdout",
       "text": [
        "\r",
        "  Downloading jieba-0.37.zip (6.4MB):  89%  5.8MB\r",
        "  Downloading jieba-0.37.zip (6.4MB):  89%  5.8MB\r",
        "  Downloading jieba-0.37.zip (6.4MB):  90%  5.8MB\r",
        "  Downloading jieba-0.37.zip (6.4MB):  90%  5.8MB"
       ]
      },
      {
       "output_type": "stream",
       "stream": "stdout",
       "text": [
        "\r",
        "  Downloading jieba-0.37.zip (6.4MB):  90%  5.8MB\r",
        "  Downloading jieba-0.37.zip (6.4MB):  90%  5.8MB\r",
        "  Downloading jieba-0.37.zip (6.4MB):  90%  5.8MB\r",
        "  Downloading jieba-0.37.zip (6.4MB):  90%  5.8MB"
       ]
      },
      {
       "output_type": "stream",
       "stream": "stdout",
       "text": [
        "\r",
        "  Downloading jieba-0.37.zip (6.4MB):  90%  5.8MB\r",
        "  Downloading jieba-0.37.zip (6.4MB):  90%  5.8MB\r",
        "  Downloading jieba-0.37.zip (6.4MB):  90%  5.8MB\r",
        "  Downloading jieba-0.37.zip (6.4MB):  90%  5.8MB"
       ]
      },
      {
       "output_type": "stream",
       "stream": "stdout",
       "text": [
        "\r",
        "  Downloading jieba-0.37.zip (6.4MB):  90%  5.8MB\r",
        "  Downloading jieba-0.37.zip (6.4MB):  90%  5.8MB\r",
        "  Downloading jieba-0.37.zip (6.4MB):  90%  5.8MB\r",
        "  Downloading jieba-0.37.zip (6.4MB):  90%  5.8MB"
       ]
      },
      {
       "output_type": "stream",
       "stream": "stdout",
       "text": [
        "\r",
        "  Downloading jieba-0.37.zip (6.4MB):  90%  5.8MB\r",
        "  Downloading jieba-0.37.zip (6.4MB):  90%  5.8MB\r",
        "  Downloading jieba-0.37.zip (6.4MB):  91%  5.8MB\r",
        "  Downloading jieba-0.37.zip (6.4MB):  91%  5.8MB"
       ]
      },
      {
       "output_type": "stream",
       "stream": "stdout",
       "text": [
        "\r",
        "  Downloading jieba-0.37.zip (6.4MB):  91%  5.8MB\r",
        "  Downloading jieba-0.37.zip (6.4MB):  91%  5.8MB\r",
        "  Downloading jieba-0.37.zip (6.4MB):  91%  5.8MB\r",
        "  Downloading jieba-0.37.zip (6.4MB):  91%  5.8MB"
       ]
      },
      {
       "output_type": "stream",
       "stream": "stdout",
       "text": [
        "\r",
        "  Downloading jieba-0.37.zip (6.4MB):  91%  5.8MB\r",
        "  Downloading jieba-0.37.zip (6.4MB):  91%  5.9MB\r",
        "  Downloading jieba-0.37.zip (6.4MB):  91%  5.9MB\r",
        "  Downloading jieba-0.37.zip (6.4MB):  91%  5.9MB"
       ]
      },
      {
       "output_type": "stream",
       "stream": "stdout",
       "text": [
        "\r",
        "  Downloading jieba-0.37.zip (6.4MB):  91%  5.9MB\r",
        "  Downloading jieba-0.37.zip (6.4MB):  91%  5.9MB\r",
        "  Downloading jieba-0.37.zip (6.4MB):  91%  5.9MB\r",
        "  Downloading jieba-0.37.zip (6.4MB):  91%  5.9MB"
       ]
      },
      {
       "output_type": "stream",
       "stream": "stdout",
       "text": [
        "\r",
        "  Downloading jieba-0.37.zip (6.4MB):  91%  5.9MB\r",
        "  Downloading jieba-0.37.zip (6.4MB):  92%  5.9MB\r",
        "  Downloading jieba-0.37.zip (6.4MB):  92%  5.9MB\r",
        "  Downloading jieba-0.37.zip (6.4MB):  92%  5.9MB"
       ]
      },
      {
       "output_type": "stream",
       "stream": "stdout",
       "text": [
        "\r",
        "  Downloading jieba-0.37.zip (6.4MB):  92%  5.9MB\r",
        "  Downloading jieba-0.37.zip (6.4MB):  92%  5.9MB\r",
        "  Downloading jieba-0.37.zip (6.4MB):  92%  5.9MB\r",
        "  Downloading jieba-0.37.zip (6.4MB):  92%  5.9MB"
       ]
      },
      {
       "output_type": "stream",
       "stream": "stdout",
       "text": [
        "\r",
        "  Downloading jieba-0.37.zip (6.4MB):  92%  5.9MB\r",
        "  Downloading jieba-0.37.zip (6.4MB):  92%  5.9MB\r",
        "  Downloading jieba-0.37.zip (6.4MB):  92%  5.9MB\r",
        "  Downloading jieba-0.37.zip (6.4MB):  92%  5.9MB"
       ]
      },
      {
       "output_type": "stream",
       "stream": "stdout",
       "text": [
        "\r",
        "  Downloading jieba-0.37.zip (6.4MB):  92%  5.9MB\r",
        "  Downloading jieba-0.37.zip (6.4MB):  92%  5.9MB\r",
        "  Downloading jieba-0.37.zip (6.4MB):  92%  5.9MB\r",
        "  Downloading jieba-0.37.zip (6.4MB):  92%  5.9MB"
       ]
      },
      {
       "output_type": "stream",
       "stream": "stdout",
       "text": [
        "\r",
        "  Downloading jieba-0.37.zip (6.4MB):  92%  5.9MB\r",
        "  Downloading jieba-0.37.zip (6.4MB):  93%  6.0MB\r",
        "  Downloading jieba-0.37.zip (6.4MB):  93%  6.0MB\r",
        "  Downloading jieba-0.37.zip (6.4MB):  93%  6.0MB"
       ]
      },
      {
       "output_type": "stream",
       "stream": "stdout",
       "text": [
        "\r",
        "  Downloading jieba-0.37.zip (6.4MB):  93%  6.0MB\r",
        "  Downloading jieba-0.37.zip (6.4MB):  93%  6.0MB\r",
        "  Downloading jieba-0.37.zip (6.4MB):  93%  6.0MB\r",
        "  Downloading jieba-0.37.zip (6.4MB):  93%  6.0MB"
       ]
      },
      {
       "output_type": "stream",
       "stream": "stdout",
       "text": [
        "\r",
        "  Downloading jieba-0.37.zip (6.4MB):  93%  6.0MB\r",
        "  Downloading jieba-0.37.zip (6.4MB):  93%  6.0MB\r",
        "  Downloading jieba-0.37.zip (6.4MB):  93%  6.0MB\r",
        "  Downloading jieba-0.37.zip (6.4MB):  93%  6.0MB"
       ]
      },
      {
       "output_type": "stream",
       "stream": "stdout",
       "text": [
        "\r",
        "  Downloading jieba-0.37.zip (6.4MB):  93%  6.0MB\r",
        "  Downloading jieba-0.37.zip (6.4MB):  93%  6.0MB\r",
        "  Downloading jieba-0.37.zip (6.4MB):  93%  6.0MB\r",
        "  Downloading jieba-0.37.zip (6.4MB):  93%  6.0MB"
       ]
      },
      {
       "output_type": "stream",
       "stream": "stdout",
       "text": [
        "\r",
        "  Downloading jieba-0.37.zip (6.4MB):  94%  6.0MB\r",
        "  Downloading jieba-0.37.zip (6.4MB):  94%  6.0MB\r",
        "  Downloading jieba-0.37.zip (6.4MB):  94%  6.0MB\r",
        "  Downloading jieba-0.37.zip (6.4MB):  94%  6.0MB"
       ]
      },
      {
       "output_type": "stream",
       "stream": "stdout",
       "text": [
        "\r",
        "  Downloading jieba-0.37.zip (6.4MB):  94%  6.0MB\r",
        "  Downloading jieba-0.37.zip (6.4MB):  94%  6.0MB\r",
        "  Downloading jieba-0.37.zip (6.4MB):  94%  6.0MB\r",
        "  Downloading jieba-0.37.zip (6.4MB):  94%  6.0MB"
       ]
      },
      {
       "output_type": "stream",
       "stream": "stdout",
       "text": [
        "\r",
        "  Downloading jieba-0.37.zip (6.4MB):  94%  6.0MB\r",
        "  Downloading jieba-0.37.zip (6.4MB):  94%  6.0MB\r",
        "  Downloading jieba-0.37.zip (6.4MB):  94%  6.1MB\r",
        "  Downloading jieba-0.37.zip (6.4MB):  94%  6.1MB"
       ]
      },
      {
       "output_type": "stream",
       "stream": "stdout",
       "text": [
        "\r",
        "  Downloading jieba-0.37.zip (6.4MB):  94%  6.1MB\r",
        "  Downloading jieba-0.37.zip (6.4MB):  94%  6.1MB\r",
        "  Downloading jieba-0.37.zip (6.4MB):  94%  6.1MB\r",
        "  Downloading jieba-0.37.zip (6.4MB):  94%  6.1MB"
       ]
      },
      {
       "output_type": "stream",
       "stream": "stdout",
       "text": [
        "\r",
        "  Downloading jieba-0.37.zip (6.4MB):  95%  6.1MB\r",
        "  Downloading jieba-0.37.zip (6.4MB):  95%  6.1MB\r",
        "  Downloading jieba-0.37.zip (6.4MB):  95%  6.1MB\r",
        "  Downloading jieba-0.37.zip (6.4MB):  95%  6.1MB"
       ]
      },
      {
       "output_type": "stream",
       "stream": "stdout",
       "text": [
        "\r",
        "  Downloading jieba-0.37.zip (6.4MB):  95%  6.1MB\r",
        "  Downloading jieba-0.37.zip (6.4MB):  95%  6.1MB\r",
        "  Downloading jieba-0.37.zip (6.4MB):  95%  6.1MB\r",
        "  Downloading jieba-0.37.zip (6.4MB):  95%  6.1MB"
       ]
      },
      {
       "output_type": "stream",
       "stream": "stdout",
       "text": [
        "\r",
        "  Downloading jieba-0.37.zip (6.4MB):  95%  6.1MB\r",
        "  Downloading jieba-0.37.zip (6.4MB):  95%  6.1MB\r",
        "  Downloading jieba-0.37.zip (6.4MB):  95%  6.1MB\r",
        "  Downloading jieba-0.37.zip (6.4MB):  95%  6.1MB"
       ]
      },
      {
       "output_type": "stream",
       "stream": "stdout",
       "text": [
        "\r",
        "  Downloading jieba-0.37.zip (6.4MB):  95%  6.1MB\r",
        "  Downloading jieba-0.37.zip (6.4MB):  95%  6.1MB\r",
        "  Downloading jieba-0.37.zip (6.4MB):  95%  6.1MB\r",
        "  Downloading jieba-0.37.zip (6.4MB):  95%  6.1MB"
       ]
      },
      {
       "output_type": "stream",
       "stream": "stdout",
       "text": [
        "\r",
        "  Downloading jieba-0.37.zip (6.4MB):  96%  6.1MB\r",
        "  Downloading jieba-0.37.zip (6.4MB):  96%  6.1MB\r",
        "  Downloading jieba-0.37.zip (6.4MB):  96%  6.2MB\r",
        "  Downloading jieba-0.37.zip (6.4MB):  96%  6.2MB"
       ]
      },
      {
       "output_type": "stream",
       "stream": "stdout",
       "text": [
        "\r",
        "  Downloading jieba-0.37.zip (6.4MB):  96%  6.2MB\r",
        "  Downloading jieba-0.37.zip (6.4MB):  96%  6.2MB\r",
        "  Downloading jieba-0.37.zip (6.4MB):  96%  6.2MB\r",
        "  Downloading jieba-0.37.zip (6.4MB):  96%  6.2MB"
       ]
      },
      {
       "output_type": "stream",
       "stream": "stdout",
       "text": [
        "\r",
        "  Downloading jieba-0.37.zip (6.4MB):  96%  6.2MB\r",
        "  Downloading jieba-0.37.zip (6.4MB):  96%  6.2MB\r",
        "  Downloading jieba-0.37.zip (6.4MB):  96%  6.2MB\r",
        "  Downloading jieba-0.37.zip (6.4MB):  96%  6.2MB"
       ]
      },
      {
       "output_type": "stream",
       "stream": "stdout",
       "text": [
        "\r",
        "  Downloading jieba-0.37.zip (6.4MB):  96%  6.2MB\r",
        "  Downloading jieba-0.37.zip (6.4MB):  96%  6.2MB\r",
        "  Downloading jieba-0.37.zip (6.4MB):  96%  6.2MB\r",
        "  Downloading jieba-0.37.zip (6.4MB):  97%  6.2MB"
       ]
      },
      {
       "output_type": "stream",
       "stream": "stdout",
       "text": [
        "\r",
        "  Downloading jieba-0.37.zip (6.4MB):  97%  6.2MB\r",
        "  Downloading jieba-0.37.zip (6.4MB):  97%  6.2MB\r",
        "  Downloading jieba-0.37.zip (6.4MB):  97%  6.2MB\r",
        "  Downloading jieba-0.37.zip (6.4MB):  97%  6.2MB"
       ]
      },
      {
       "output_type": "stream",
       "stream": "stdout",
       "text": [
        "\r",
        "  Downloading jieba-0.37.zip (6.4MB):  97%  6.2MB\r",
        "  Downloading jieba-0.37.zip (6.4MB):  97%  6.2MB\r",
        "  Downloading jieba-0.37.zip (6.4MB):  97%  6.2MB\r",
        "  Downloading jieba-0.37.zip (6.4MB):  97%  6.2MB"
       ]
      },
      {
       "output_type": "stream",
       "stream": "stdout",
       "text": [
        "\r",
        "  Downloading jieba-0.37.zip (6.4MB):  97%  6.2MB\r",
        "  Downloading jieba-0.37.zip (6.4MB):  97%  6.2MB\r",
        "  Downloading jieba-0.37.zip (6.4MB):  97%  6.3MB\r",
        "  Downloading jieba-0.37.zip (6.4MB):  97%  6.3MB"
       ]
      },
      {
       "output_type": "stream",
       "stream": "stdout",
       "text": [
        "\r",
        "  Downloading jieba-0.37.zip (6.4MB):  97%  6.3MB\r",
        "  Downloading jieba-0.37.zip (6.4MB):  97%  6.3MB\r",
        "  Downloading jieba-0.37.zip (6.4MB):  97%  6.3MB\r",
        "  Downloading jieba-0.37.zip (6.4MB):  98%  6.3MB"
       ]
      },
      {
       "output_type": "stream",
       "stream": "stdout",
       "text": [
        "\r",
        "  Downloading jieba-0.37.zip (6.4MB):  98%  6.3MB\r",
        "  Downloading jieba-0.37.zip (6.4MB):  98%  6.3MB\r",
        "  Downloading jieba-0.37.zip (6.4MB):  98%  6.3MB\r",
        "  Downloading jieba-0.37.zip (6.4MB):  98%  6.3MB"
       ]
      },
      {
       "output_type": "stream",
       "stream": "stdout",
       "text": [
        "\r",
        "  Downloading jieba-0.37.zip (6.4MB):  98%  6.3MB\r",
        "  Downloading jieba-0.37.zip (6.4MB):  98%  6.3MB\r",
        "  Downloading jieba-0.37.zip (6.4MB):  98%  6.3MB\r",
        "  Downloading jieba-0.37.zip (6.4MB):  98%  6.3MB"
       ]
      },
      {
       "output_type": "stream",
       "stream": "stdout",
       "text": [
        "\r",
        "  Downloading jieba-0.37.zip (6.4MB):  98%  6.3MB\r",
        "  Downloading jieba-0.37.zip (6.4MB):  98%  6.3MB\r",
        "  Downloading jieba-0.37.zip (6.4MB):  98%  6.3MB\r",
        "  Downloading jieba-0.37.zip (6.4MB):  98%  6.3MB"
       ]
      },
      {
       "output_type": "stream",
       "stream": "stdout",
       "text": [
        "\r",
        "  Downloading jieba-0.37.zip (6.4MB):  98%  6.3MB\r",
        "  Downloading jieba-0.37.zip (6.4MB):  98%  6.3MB\r",
        "  Downloading jieba-0.37.zip (6.4MB):  98%  6.3MB\r",
        "  Downloading jieba-0.37.zip (6.4MB):  99%  6.3MB"
       ]
      },
      {
       "output_type": "stream",
       "stream": "stdout",
       "text": [
        "\r",
        "  Downloading jieba-0.37.zip (6.4MB):  99%  6.3MB\r",
        "  Downloading jieba-0.37.zip (6.4MB):  99%  6.3MB\r",
        "  Downloading jieba-0.37.zip (6.4MB):  99%  6.3MB\r",
        "  Downloading jieba-0.37.zip (6.4MB):  99%  6.4MB"
       ]
      },
      {
       "output_type": "stream",
       "stream": "stdout",
       "text": [
        "\r",
        "  Downloading jieba-0.37.zip (6.4MB):  99%  6.4MB\r",
        "  Downloading jieba-0.37.zip (6.4MB):  99%  6.4MB\r",
        "  Downloading jieba-0.37.zip (6.4MB):  99%  6.4MB\r",
        "  Downloading jieba-0.37.zip (6.4MB):  99%  6.4MB"
       ]
      },
      {
       "output_type": "stream",
       "stream": "stdout",
       "text": [
        "\r",
        "  Downloading jieba-0.37.zip (6.4MB):  99%  6.4MB\r",
        "  Downloading jieba-0.37.zip (6.4MB):  99%  6.4MB\r",
        "  Downloading jieba-0.37.zip (6.4MB):  99%  6.4MB\r",
        "  Downloading jieba-0.37.zip (6.4MB):  99%  6.4MB"
       ]
      },
      {
       "output_type": "stream",
       "stream": "stdout",
       "text": [
        "\r",
        "  Downloading jieba-0.37.zip (6.4MB):  99%  6.4MB\r",
        "  Downloading jieba-0.37.zip (6.4MB):  99%  6.4MB\r",
        "  Downloading jieba-0.37.zip (6.4MB): 100%  6.4MB\r",
        "  Downloading jieba-0.37.zip (6.4MB):            \r",
        "  Downloading jieba-0.37.zip (6.4MB): 6.4MB downloaded\r\n"
       ]
      },
      {
       "output_type": "stream",
       "stream": "stdout",
       "text": [
        "  Running setup.py (path:/Users/Pro/canopy/build/jieba/setup.py) egg_info for package jieba\r\n"
       ]
      },
      {
       "output_type": "stream",
       "stream": "stdout",
       "text": [
        "    \r\n",
        "Installing collected packages: jieba\r\n",
        "  Running setup.py install for jieba\r\n"
       ]
      },
      {
       "output_type": "stream",
       "stream": "stdout",
       "text": [
        "    \r\n"
       ]
      },
      {
       "output_type": "stream",
       "stream": "stdout",
       "text": [
        "Successfully installed jieba\r\n",
        "Cleaning up...\r\n"
       ]
      }
     ],
     "prompt_number": 2
    },
    {
     "cell_type": "code",
     "collapsed": false,
     "input": [
      "import jieba"
     ],
     "language": "python",
     "metadata": {},
     "outputs": [],
     "prompt_number": 3
    },
    {
     "cell_type": "code",
     "collapsed": false,
     "input": [
      "from weiboPredict import framework as fw"
     ],
     "language": "python",
     "metadata": {},
     "outputs": [],
     "prompt_number": 5
    },
    {
     "cell_type": "code",
     "collapsed": false,
     "input": [
      "fw.loadData()"
     ],
     "language": "python",
     "metadata": {},
     "outputs": [],
     "prompt_number": 6
    },
    {
     "cell_type": "code",
     "collapsed": false,
     "input": [
      "print '/'.join(jieba.lcut(fw.weibo_train_data.ix[0].context))"
     ],
     "language": "python",
     "metadata": {},
     "outputs": [
      {
       "output_type": "stream",
       "stream": "stdout",
       "text": [
        "[/\u5410/]/@/\u4eac\u4e1c/ /\u7684/\u7528\u6237/\u4f53\u9a8c/\u592a\u5dee/\u4e86/..../\u7b2c\u4e00\u6b21/\u5728/\u4eac\u4e1c/\u8d2d\u7269/\uff0c/\u4e70/\u4e86/\u51e0\u767e/\u7684/\u4e66/..../\u771f\u662f/\u7ecf\u5386/\u4e86/\u7f51\u8d2d/\u7684/\u5404\u79cd/\u95ee\u9898/.../1/./\u8d27\u5230/\u4e86/\uff0c/\u6ca1/\u7ed9/\u53d1\u7968/\u3002/2/./\u8d27\u5230/\u4e86/\uff0c/2/\u672c\u4e66/\uff0c/\u7f51\u4e0a/\u663e\u793a/\u90fd/\u53d1\u8d27/\u4e86/\uff0c/\u5305\u88f9/\u91cc/\u53ea\u6709/1/\u672c/\uff0c/\u800c\u4e14/\u6ca1/\u53d1\u7968/.../\u95ee/\u5e97\u5bb6/\uff0c/\u5e97\u5bb6/\u627f\u8ba4/\u53e6\u5916/\u4e00\u672c/\u6ca1\u8d27/.../\u5e97\u5bb6/\u8ba9/\u6211/\u786e\u8ba4/\u6536\u8d27/\u624d/\u9000\u94b1/.../[/\u601d\u8003/]/\u3002/3/./\u6ca1\u6709/\u8d27\u7269/\u6e05\u5355/.../\u6216\u8005/\u6e05\u5355/\u662f/\u4e00\u4e2a/\u5e9f\u5f03/A4/\u6253/\u7684\n"
       ]
      }
     ],
     "prompt_number": 31
    },
    {
     "cell_type": "code",
     "collapsed": false,
     "input": [
      "type(fw.weibo_train_data.context[0])"
     ],
     "language": "python",
     "metadata": {},
     "outputs": [
      {
       "metadata": {},
       "output_type": "pyout",
       "prompt_number": 12,
       "text": [
        "str"
       ]
      }
     ],
     "prompt_number": 12
    },
    {
     "cell_type": "code",
     "collapsed": false,
     "input": [
      "print fw.weibo_train_data.ix[0].context"
     ],
     "language": "python",
     "metadata": {},
     "outputs": [
      {
       "output_type": "stream",
       "stream": "stdout",
       "text": [
        "[\u5410]@\u4eac\u4e1c \u7684\u7528\u6237\u4f53\u9a8c\u592a\u5dee\u4e86....\u7b2c\u4e00\u6b21\u5728\u4eac\u4e1c\u8d2d\u7269\uff0c\u4e70\u4e86\u51e0\u767e\u7684\u4e66....\u771f\u662f\u7ecf\u5386\u4e86\u7f51\u8d2d\u7684\u5404\u79cd\u95ee\u9898...1.\u8d27\u5230\u4e86\uff0c\u6ca1\u7ed9\u53d1\u7968\u30022.\u8d27\u5230\u4e86\uff0c2\u672c\u4e66\uff0c\u7f51\u4e0a\u663e\u793a\u90fd\u53d1\u8d27\u4e86\uff0c\u5305\u88f9\u91cc\u53ea\u67091\u672c\uff0c\u800c\u4e14\u6ca1\u53d1\u7968...\u95ee\u5e97\u5bb6\uff0c\u5e97\u5bb6\u627f\u8ba4\u53e6\u5916\u4e00\u672c\u6ca1\u8d27...\u5e97\u5bb6\u8ba9\u6211\u786e\u8ba4\u6536\u8d27\u624d\u9000\u94b1...[\u601d\u8003]\u30023.\u6ca1\u6709\u8d27\u7269\u6e05\u5355...\u6216\u8005\u6e05\u5355\u662f\u4e00\u4e2a\u5e9f\u5f03A4\u6253\u7684\n"
       ]
      }
     ],
     "prompt_number": 32
    },
    {
     "cell_type": "code",
     "collapsed": false,
     "input": [
      "print fw.weibo_train_data.ix[1].context"
     ],
     "language": "python",
     "metadata": {},
     "outputs": [
      {
       "output_type": "stream",
       "stream": "stdout",
       "text": [
        "#\u6211\u7231\u5c0f\u7c73\u624b\u673a#\u56e0\u4e3a\u5c0f\u7c73\u624b\u673a4\u7684\u5c4f\u5e55\u592a\u7ed9\u529b\u4e86\uff0c5\u82f1\u5bf8\u7684\u9ad8\u8272\u5f69\u9971\u548c\u5ea6\u590f\u666e / JDI\u5c4f\u5e55\uff0c1920x1080\u5168\u9ad8\u6e05\u5206\u8fa8\u7387\uff0c\u73a9\u6e38\u620f\uff0c\u770b\u9ad8\u6e05\u89c6\u9891\u723d\u7206\u4e86\u300211\u670818\u65e5\u4e2d\u534812\u70b9\u5f00\u653e\u8d2d\u4e70\uff0c\u4ec5\u552e1999\u5143\uff0c\u5e0c\u671b\u80fd\u4e70\u52301\u53f0\u3002@\u5c0f\u7c73\u624b\u673a @\u5356\u4ed9\u5251\u7684\u9152\u5251\u4ed9  @\u6d77\u5148\u751fV  \uff0c\u5206\u4eab\u514d\u8d39\u9884\u7ea6\u5730\u5740http://t.cn/RPkmgBL\n"
       ]
      }
     ],
     "prompt_number": 33
    },
    {
     "cell_type": "code",
     "collapsed": false,
     "input": [
      "print '/'.join(jieba.lcut(fw.weibo_train_data.ix[1].context))"
     ],
     "language": "python",
     "metadata": {},
     "outputs": [
      {
       "output_type": "stream",
       "stream": "stdout",
       "text": [
        "#/\u6211/\u7231/\u5c0f\u7c73/\u624b\u673a/#/\u56e0\u4e3a/\u5c0f\u7c73/\u624b\u673a/4/\u7684/\u5c4f\u5e55/\u592a\u7ed9\u529b/\u4e86/\uff0c/5/\u82f1\u5bf8/\u7684/\u9ad8/\u8272\u5f69/\u9971\u548c\u5ea6/\u590f\u666e/ /// /JDI/\u5c4f\u5e55/\uff0c/1920x1080/\u5168\u9ad8\u6e05/\u5206\u8fa8\u7387/\uff0c/\u73a9\u6e38\u620f/\uff0c/\u770b/\u9ad8\u6e05/\u89c6\u9891/\u723d\u7206/\u4e86/\u3002/11/\u6708/18/\u65e5/\u4e2d\u5348/12/\u70b9/\u5f00\u653e/\u8d2d\u4e70/\uff0c/\u4ec5\u552e/1999/\u5143/\uff0c/\u5e0c\u671b/\u80fd/\u4e70/\u5230/1/\u53f0/\u3002/@/\u5c0f\u7c73/\u624b\u673a/ /@/\u5356/\u4ed9\u5251/\u7684/\u9152\u5251\u4ed9/ / /@/\u6d77/\u5148\u751f/V/ / /\uff0c/\u5206\u4eab/\u514d\u8d39/\u9884\u7ea6/\u5730\u5740/http/://///t/./cn///RPkmgBL\n"
       ]
      }
     ],
     "prompt_number": 34
    },
    {
     "cell_type": "code",
     "collapsed": false,
     "input": [
      "print fw.weibo_train_data.ix[3].context"
     ],
     "language": "python",
     "metadata": {},
     "outputs": [
      {
       "output_type": "stream",
       "stream": "stdout",
       "text": [
        "[doge]\u627e\u5de5\u4f5c\u256e(\u256f\u25bd\u2570)\u256d\u2026\u2026\n"
       ]
      }
     ],
     "prompt_number": 37
    },
    {
     "cell_type": "code",
     "collapsed": false,
     "input": [
      "print '/'.join(jieba.lcut(fw.weibo_train_data.ix[3].context))"
     ],
     "language": "python",
     "metadata": {},
     "outputs": [
      {
       "output_type": "stream",
       "stream": "stdout",
       "text": [
        "[/doge/]/\u627e/\u5de5\u4f5c/\u256e/(/\u256f/\u25bd/\u2570/)/\u256d/\u2026/\u2026\n"
       ]
      }
     ],
     "prompt_number": 38
    },
    {
     "cell_type": "code",
     "collapsed": false,
     "input": [
      "print fw.weibo_train_data.ix[5].context"
     ],
     "language": "python",
     "metadata": {},
     "outputs": [
      {
       "output_type": "stream",
       "stream": "stdout",
       "text": [
        "#\u9b54\u6d6a\u6f6e\u7206U5\u667a\u80fd\u8033\u673a#\u201c\u5173\u6ce8@\u9b54\u6d6a\u84dd\u7259\u8033\u673a+\u8f6c\u53d1\u672c\u5fae\u535a\u5e76@3\u4f4d\u597d\u53cb+#\u9b54\u6d6a\u6f6e\u7206U5\u667a\u80fd\u8033\u673a#+\u514d\u8d39\u4f53\u9a8c\u7684\u52a8\u4eba\u7406\u7531\u201d\u5373\u6709\u673a\u4f1a\u83b7\u5f97\u514d\u8d39\u4f53\u9a8c\u8d44\u683c\uff0c\u6211\u5df2\u7ecf\u53c2\u52a0\u4e86\uff0c\u4f60\u4eec\u5feb\u6765\u5440\uff01\uff01 http://t.cn/R7BhYdI\n"
       ]
      }
     ],
     "prompt_number": 40
    },
    {
     "cell_type": "code",
     "collapsed": false,
     "input": [
      "print '/'.join(jieba.lcut(fw.weibo_train_data.ix[5].context))"
     ],
     "language": "python",
     "metadata": {},
     "outputs": [
      {
       "output_type": "stream",
       "stream": "stdout",
       "text": [
        "#/\u9b54/\u6d6a\u6f6e/\u7206/U5/\u667a\u80fd/\u8033\u673a/#/\u201c/\u5173\u6ce8/@/\u9b54\u6d6a/\u84dd\u7259/\u8033\u673a/+/\u8f6c\u53d1/\u672c\u5fae\u535a/\u5e76/@/3/\u4f4d/\u597d\u53cb/+#/\u9b54/\u6d6a\u6f6e/\u7206/U5/\u667a\u80fd/\u8033\u673a/#+/\u514d\u8d39/\u4f53\u9a8c/\u7684/\u52a8\u4eba/\u7406\u7531/\u201d/\u5373/\u6709/\u673a\u4f1a/\u83b7\u5f97/\u514d\u8d39/\u4f53\u9a8c/\u8d44\u683c/\uff0c/\u6211/\u5df2\u7ecf/\u53c2\u52a0/\u4e86/\uff0c/\u4f60\u4eec/\u5feb\u6765/\u5440/\uff01/\uff01/ /http/://///t/./cn///R7BhYdI\n"
       ]
      }
     ],
     "prompt_number": 42
    },
    {
     "cell_type": "markdown",
     "metadata": {},
     "source": [
      "1. \u8868\u60c5\u7b26\u53f7\uff08\u5305\u62ecemojo\u548c\u6807\u70b9\u7b26\u53f7\u7ec4\u6210\u7684\u8868\u60c5\uff09-> \u6682\u65f6\u4f5c\u4e3a\u6b63\u5e38\u503c\u5206\u8bcd\n",
      "2. @\u67d0\u4f4d\u7528\u6237 -> \u76ee\u524d\u6307\u53bb\u9664@\uff0c\u7528\u6237\u540d\u6b63\u5e38\u5206\u8bcd\n",
      "3. \u6807\u7b7e## -> \u76ee\u524d\u5148\u53ea\u53bb\u9664#\uff0c\u6807\u7b7e\u6b63\u5e38\u5206\u8bcd\n",
      "4. \u94fe\u63a5 -> \u6b63\u5219\u8868\u8fbe\u5f0f\u53bb\u9664\n",
      "5. \u505c\u7528\u8bcd -> \u505c\u7528\u8bcd\u8868\u53bb\u9664\n",
      "6. \u6570\u5b57 -> \u6b63\u5219\u8868\u8fbe\u5f0f\u53bb\u9664\n",
      "7. \u6807\u70b9\u7b26\u53f7 -> \u6682\u65f6\u5305\u62ec\u5728\u505c\u7528\u8bcd\u4e2d\u53bb\u9664\n",
      "8. \u7a7a\u683c -> \u53bb\u9664\n",
      "9. \u82f1\u6587 -> \u6682\u65f6\u4e0d\u53bb\u9664\n",
      "10. \u65f6\u95f4\u65e5\u671f -> \u6682\u65f6\u4e0d\u5904\u7406"
     ]
    },
    {
     "cell_type": "code",
     "collapsed": false,
     "input": [
      "print '/'.join(jieba.lcut(\"my nameeeeeeeee is lichen\"))"
     ],
     "language": "python",
     "metadata": {},
     "outputs": [
      {
       "output_type": "stream",
       "stream": "stdout",
       "text": [
        "my/ /nameeeeeeeee/ /is/ /lichen\n"
       ]
      }
     ],
     "prompt_number": 45
    },
    {
     "cell_type": "code",
     "collapsed": false,
     "input": [
      "for c in fw.weibo_train_data.context[:5]:\n",
      "    print c"
     ],
     "language": "python",
     "metadata": {},
     "outputs": [
      {
       "output_type": "stream",
       "stream": "stdout",
       "text": [
        "[\u5410]@\u4eac\u4e1c \u7684\u7528\u6237\u4f53\u9a8c\u592a\u5dee\u4e86....\u7b2c\u4e00\u6b21\u5728\u4eac\u4e1c\u8d2d\u7269\uff0c\u4e70\u4e86\u51e0\u767e\u7684\u4e66....\u771f\u662f\u7ecf\u5386\u4e86\u7f51\u8d2d\u7684\u5404\u79cd\u95ee\u9898...1.\u8d27\u5230\u4e86\uff0c\u6ca1\u7ed9\u53d1\u7968\u30022.\u8d27\u5230\u4e86\uff0c2\u672c\u4e66\uff0c\u7f51\u4e0a\u663e\u793a\u90fd\u53d1\u8d27\u4e86\uff0c\u5305\u88f9\u91cc\u53ea\u67091\u672c\uff0c\u800c\u4e14\u6ca1\u53d1\u7968...\u95ee\u5e97\u5bb6\uff0c\u5e97\u5bb6\u627f\u8ba4\u53e6\u5916\u4e00\u672c\u6ca1\u8d27...\u5e97\u5bb6\u8ba9\u6211\u786e\u8ba4\u6536\u8d27\u624d\u9000\u94b1...[\u601d\u8003]\u30023.\u6ca1\u6709\u8d27\u7269\u6e05\u5355...\u6216\u8005\u6e05\u5355\u662f\u4e00\u4e2a\u5e9f\u5f03A4\u6253\u7684\n",
        "#\u6211\u7231\u5c0f\u7c73\u624b\u673a#\u56e0\u4e3a\u5c0f\u7c73\u624b\u673a4\u7684\u5c4f\u5e55\u592a\u7ed9\u529b\u4e86\uff0c5\u82f1\u5bf8\u7684\u9ad8\u8272\u5f69\u9971\u548c\u5ea6\u590f\u666e / JDI\u5c4f\u5e55\uff0c1920x1080\u5168\u9ad8\u6e05\u5206\u8fa8\u7387\uff0c\u73a9\u6e38\u620f\uff0c\u770b\u9ad8\u6e05\u89c6\u9891\u723d\u7206\u4e86\u300211\u670818\u65e5\u4e2d\u534812\u70b9\u5f00\u653e\u8d2d\u4e70\uff0c\u4ec5\u552e1999\u5143\uff0c\u5e0c\u671b\u80fd\u4e70\u52301\u53f0\u3002@\u5c0f\u7c73\u624b\u673a @\u5356\u4ed9\u5251\u7684\u9152\u5251\u4ed9  @\u6d77\u5148\u751fV  \uff0c\u5206\u4eab\u514d\u8d39\u9884\u7ea6\u5730\u5740http://t.cn/RPkmgBL\n",
        "[doge][\u55b5\u55b5]\u5929\u732b\u771f\u662f\u725b....\u5356\u5b9e\u9a8c\u8017\u6750\u7684\u90fd\u8dd1\u5929\u732b\u53bb\u5f00\u5e97\u4e86...\n",
        "[doge]\u627e\u5de5\u4f5c\u256e(\u256f\u25bd\u2570)\u256d\u2026\u2026\n",
        "[doge]\u6210\u529f\u62a2\u4e86\u53f0\u7c734\u7535\u4fe1~\n"
       ]
      }
     ],
     "prompt_number": 48
    },
    {
     "cell_type": "code",
     "collapsed": false,
     "input": [
      "f=open('stopwords.txt','r')"
     ],
     "language": "python",
     "metadata": {},
     "outputs": [],
     "prompt_number": 165
    },
    {
     "cell_type": "code",
     "collapsed": false,
     "input": [
      "stopwords = [l.strip() for l in f.readlines()]"
     ],
     "language": "python",
     "metadata": {},
     "outputs": [],
     "prompt_number": 166
    },
    {
     "cell_type": "code",
     "collapsed": false,
     "input": [
      "print stopwords[100]"
     ],
     "language": "python",
     "metadata": {},
     "outputs": [
      {
       "output_type": "stream",
       "stream": "stdout",
       "text": [
        "\u800c\u5916\r\n",
        "\n"
       ]
      }
     ],
     "prompt_number": 108
    },
    {
     "cell_type": "code",
     "collapsed": false,
     "input": [
      "text = jieba.lcut(fw.weibo_train_data.context[0])"
     ],
     "language": "python",
     "metadata": {},
     "outputs": [],
     "prompt_number": 152
    },
    {
     "cell_type": "code",
     "collapsed": false,
     "input": [
      "clean = [t for t in text if t not in stopwords]"
     ],
     "language": "python",
     "metadata": {},
     "outputs": [],
     "prompt_number": 170
    },
    {
     "cell_type": "code",
     "collapsed": false,
     "input": [
      "stopwords[2].encode('utf8')"
     ],
     "language": "python",
     "metadata": {},
     "outputs": [
      {
       "ename": "UnicodeDecodeError",
       "evalue": "'ascii' codec can't decode byte 0xe3 in position 0: ordinal not in range(128)",
       "output_type": "pyerr",
       "traceback": [
        "\u001b[0;31m---------------------------------------------------------------------------\u001b[0m\n\u001b[0;31mUnicodeDecodeError\u001b[0m                        Traceback (most recent call last)",
        "\u001b[0;32m<ipython-input-105-995d90a93e63>\u001b[0m in \u001b[0;36m<module>\u001b[0;34m()\u001b[0m\n\u001b[0;32m----> 1\u001b[0;31m \u001b[0mstopwords\u001b[0m\u001b[0;34m[\u001b[0m\u001b[0;36m2\u001b[0m\u001b[0;34m]\u001b[0m\u001b[0;34m.\u001b[0m\u001b[0mencode\u001b[0m\u001b[0;34m(\u001b[0m\u001b[0;34m'utf8'\u001b[0m\u001b[0;34m)\u001b[0m\u001b[0;34m\u001b[0m\u001b[0m\n\u001b[0m",
        "\u001b[0;31mUnicodeDecodeError\u001b[0m: 'ascii' codec can't decode byte 0xe3 in position 0: ordinal not in range(128)"
       ]
      }
     ],
     "prompt_number": 105
    },
    {
     "cell_type": "code",
     "collapsed": false,
     "input": [
      "for i in range(len(stopwords)):\n",
      "    stopwords[i] = stopwords[i].decode('utf8')"
     ],
     "language": "python",
     "metadata": {},
     "outputs": [],
     "prompt_number": 167
    },
    {
     "cell_type": "code",
     "collapsed": false,
     "input": [
      "stopwords[100]"
     ],
     "language": "python",
     "metadata": {},
     "outputs": [
      {
       "metadata": {},
       "output_type": "pyout",
       "prompt_number": 131,
       "text": [
        "u'\\u800c\\u5916\\r\\n'"
       ]
      }
     ],
     "prompt_number": 131
    },
    {
     "cell_type": "code",
     "collapsed": false,
     "input": [
      "print '/'.join(clean)"
     ],
     "language": "python",
     "metadata": {},
     "outputs": [
      {
       "output_type": "stream",
       "stream": "stdout",
       "text": [
        "\u5410/\u4eac\u4e1c/ /\u7528\u6237/\u4f53\u9a8c/\u592a\u5dee/..../\u7b2c\u4e00\u6b21/\u4eac\u4e1c/\u8d2d\u7269/\u4e70/\u51e0\u767e/\u4e66/..../\u771f\u662f/\u7ecf\u5386/\u7f51\u8d2d/\u95ee\u9898/\u8d27\u5230/\u53d1\u7968/\u8d27\u5230/\u672c\u4e66/\u7f51\u4e0a/\u663e\u793a/\u53d1\u8d27/\u5305\u88f9/\u91cc/\u53d1\u7968/\u95ee/\u5e97\u5bb6/\u5e97\u5bb6/\u627f\u8ba4/\u4e00\u672c/\u6ca1\u8d27/\u5e97\u5bb6/\u786e\u8ba4/\u6536\u8d27/\u9000\u94b1/\u601d\u8003/\u8d27\u7269/\u6e05\u5355/\u6e05\u5355/\u4e00\u4e2a/\u5e9f\u5f03/A4\n"
       ]
      }
     ],
     "prompt_number": 171
    },
    {
     "cell_type": "code",
     "collapsed": false,
     "input": [
      "print '/'.join(jieba.lcut(fw.weibo_train_data.ix[0].context))"
     ],
     "language": "python",
     "metadata": {},
     "outputs": [
      {
       "output_type": "stream",
       "stream": "stdout",
       "text": [
        "[/\u5410/]/@/\u4eac\u4e1c/ /\u7684/\u7528\u6237/\u4f53\u9a8c/\u592a\u5dee/\u4e86/..../\u7b2c\u4e00\u6b21/\u5728/\u4eac\u4e1c/\u8d2d\u7269/\uff0c/\u4e70/\u4e86/\u51e0\u767e/\u7684/\u4e66/..../\u771f\u662f/\u7ecf\u5386/\u4e86/\u7f51\u8d2d/\u7684/\u5404\u79cd/\u95ee\u9898/.../1/./\u8d27\u5230/\u4e86/\uff0c/\u6ca1/\u7ed9/\u53d1\u7968/\u3002/2/./\u8d27\u5230/\u4e86/\uff0c/2/\u672c\u4e66/\uff0c/\u7f51\u4e0a/\u663e\u793a/\u90fd/\u53d1\u8d27/\u4e86/\uff0c/\u5305\u88f9/\u91cc/\u53ea\u6709/1/\u672c/\uff0c/\u800c\u4e14/\u6ca1/\u53d1\u7968/.../\u95ee/\u5e97\u5bb6/\uff0c/\u5e97\u5bb6/\u627f\u8ba4/\u53e6\u5916/\u4e00\u672c/\u6ca1\u8d27/.../\u5e97\u5bb6/\u8ba9/\u6211/\u786e\u8ba4/\u6536\u8d27/\u624d/\u9000\u94b1/.../[/\u601d\u8003/]/\u3002/3/./\u6ca1\u6709/\u8d27\u7269/\u6e05\u5355/.../\u6216\u8005/\u6e05\u5355/\u662f/\u4e00\u4e2a/\u5e9f\u5f03/A4/\u6253/\u7684\n"
       ]
      }
     ],
     "prompt_number": 138
    },
    {
     "cell_type": "code",
     "collapsed": false,
     "input": [
      "text[10] in stopwords"
     ],
     "language": "python",
     "metadata": {},
     "outputs": [
      {
       "metadata": {},
       "output_type": "pyout",
       "prompt_number": 169,
       "text": [
        "True"
       ]
      }
     ],
     "prompt_number": 169
    },
    {
     "cell_type": "code",
     "collapsed": false,
     "input": [
      "','.decode('utf8')==stopwords[0]"
     ],
     "language": "python",
     "metadata": {},
     "outputs": [
      {
       "metadata": {},
       "output_type": "pyout",
       "prompt_number": 146,
       "text": [
        "False"
       ]
      }
     ],
     "prompt_number": 146
    },
    {
     "cell_type": "code",
     "collapsed": false,
     "input": [
      "stopwords[212]"
     ],
     "language": "python",
     "metadata": {},
     "outputs": [
      {
       "metadata": {},
       "output_type": "pyout",
       "prompt_number": 168,
       "text": [
        "u'\\u4e86'"
       ]
      }
     ],
     "prompt_number": 168
    },
    {
     "cell_type": "code",
     "collapsed": false,
     "input": [
      "text[4]"
     ],
     "language": "python",
     "metadata": {},
     "outputs": [
      {
       "metadata": {},
       "output_type": "pyout",
       "prompt_number": 236,
       "text": [
        "u'\\u62a2'"
       ]
      }
     ],
     "prompt_number": 236
    },
    {
     "cell_type": "code",
     "collapsed": false,
     "input": [
      "for c in fw.weibo_train_data.context[:5]:\n",
      "    print c"
     ],
     "language": "python",
     "metadata": {},
     "outputs": [
      {
       "output_type": "stream",
       "stream": "stdout",
       "text": [
        "[\u5410]@\u4eac\u4e1c \u7684\u7528\u6237\u4f53\u9a8c\u592a\u5dee\u4e86....\u7b2c\u4e00\u6b21\u5728\u4eac\u4e1c\u8d2d\u7269\uff0c\u4e70\u4e86\u51e0\u767e\u7684\u4e66....\u771f\u662f\u7ecf\u5386\u4e86\u7f51\u8d2d\u7684\u5404\u79cd\u95ee\u9898...1.\u8d27\u5230\u4e86\uff0c\u6ca1\u7ed9\u53d1\u7968\u30022.\u8d27\u5230\u4e86\uff0c2\u672c\u4e66\uff0c\u7f51\u4e0a\u663e\u793a\u90fd\u53d1\u8d27\u4e86\uff0c\u5305\u88f9\u91cc\u53ea\u67091\u672c\uff0c\u800c\u4e14\u6ca1\u53d1\u7968...\u95ee\u5e97\u5bb6\uff0c\u5e97\u5bb6\u627f\u8ba4\u53e6\u5916\u4e00\u672c\u6ca1\u8d27...\u5e97\u5bb6\u8ba9\u6211\u786e\u8ba4\u6536\u8d27\u624d\u9000\u94b1...[\u601d\u8003]\u30023.\u6ca1\u6709\u8d27\u7269\u6e05\u5355...\u6216\u8005\u6e05\u5355\u662f\u4e00\u4e2a\u5e9f\u5f03A4\u6253\u7684\n",
        "#\u6211\u7231\u5c0f\u7c73\u624b\u673a#\u56e0\u4e3a\u5c0f\u7c73\u624b\u673a4\u7684\u5c4f\u5e55\u592a\u7ed9\u529b\u4e86\uff0c5\u82f1\u5bf8\u7684\u9ad8\u8272\u5f69\u9971\u548c\u5ea6\u590f\u666e / JDI\u5c4f\u5e55\uff0c1920x1080\u5168\u9ad8\u6e05\u5206\u8fa8\u7387\uff0c\u73a9\u6e38\u620f\uff0c\u770b\u9ad8\u6e05\u89c6\u9891\u723d\u7206\u4e86\u300211\u670818\u65e5\u4e2d\u534812\u70b9\u5f00\u653e\u8d2d\u4e70\uff0c\u4ec5\u552e1999\u5143\uff0c\u5e0c\u671b\u80fd\u4e70\u52301\u53f0\u3002@\u5c0f\u7c73\u624b\u673a @\u5356\u4ed9\u5251\u7684\u9152\u5251\u4ed9  @\u6d77\u5148\u751fV  \uff0c\u5206\u4eab\u514d\u8d39\u9884\u7ea6\u5730\u5740http://t.cn/RPkmgBL\n",
        "[doge][\u55b5\u55b5]\u5929\u732b\u771f\u662f\u725b....\u5356\u5b9e\u9a8c\u8017\u6750\u7684\u90fd\u8dd1\u5929\u732b\u53bb\u5f00\u5e97\u4e86...\n",
        "[doge]\u627e\u5de5\u4f5c\u256e(\u256f\u25bd\u2570)\u256d\u2026\u2026\n",
        "[doge]\u6210\u529f\u62a2\u4e86\u53f0\u7c734\u7535\u4fe1~\n"
       ]
      }
     ],
     "prompt_number": 172
    },
    {
     "cell_type": "code",
     "collapsed": false,
     "input": [
      "import re\n",
      "for context in fw.weibo_train_data.context[:5]:\n",
      "    #\u53bb\u9664\u94fe\u63a5\n",
      "    context = re.sub(\"http://.*\\w$\",\"\",context)\n",
      "    #\u53bb\u9664\u8868\u60c5\u7b26\u53f7\n",
      "    #context = re.sub(\"\\[.{0,4}\\]\",\"\",context)\n",
      "    #\u53bb\u9664\u6807\u70b9\u7b26\u53f7\n",
      "    #context = re.sub(\"\\\\pP|\\\\pS\", \"\",context)\n",
      "    #\u53bb\u9664\u7a7a\u683c\n",
      "    context = re.sub(\"\\s\",\"\",context)\n",
      "    #\u53bb\u9664\u6240\u6709\u6570\u5b57\n",
      "    context = re.sub(\"\\d\",\"\",context)\n",
      "    #\u5206\u8bcd\n",
      "    text = jieba.lcut(context)\n",
      "    #\u53bb\u9664\u505c\u7528\u8bcd\n",
      "    clean = [t for t in text if t not in stopwords]\n",
      "    print '|'.join(clean)"
     ],
     "language": "python",
     "metadata": {},
     "outputs": [
      {
       "output_type": "stream",
       "stream": "stdout",
       "text": [
        "\u5410|\u4eac\u4e1c|\u7528\u6237|\u4f53\u9a8c|\u592a\u5dee|....|\u7b2c\u4e00\u6b21|\u4eac\u4e1c|\u8d2d\u7269|\u4e70|\u51e0\u767e|\u4e66|....|\u771f\u662f|\u7ecf\u5386|\u7f51\u8d2d|\u95ee\u9898|....|\u8d27\u5230|\u53d1\u7968|\u8d27\u5230|\u672c\u4e66|\u7f51\u4e0a|\u663e\u793a|\u53d1\u8d27|\u5305\u88f9|\u91cc|\u53d1\u7968|\u95ee|\u5e97\u5bb6|\u5e97\u5bb6|\u627f\u8ba4|\u4e00\u672c|\u6ca1\u8d27|\u5e97\u5bb6|\u786e\u8ba4|\u6536\u8d27|\u9000\u94b1|\u601d\u8003|\u8d27\u7269|\u6e05\u5355|\u6e05\u5355|\u4e00\u4e2a|\u5e9f\u5f03\n",
        "\u7231|\u5c0f\u7c73|\u624b\u673a|\u5c0f\u7c73|\u624b\u673a|\u5c4f\u5e55|\u592a\u7ed9\u529b|\u82f1\u5bf8|\u9ad8|\u8272\u5f69|\u9971\u548c\u5ea6|\u590f\u666e|JDI|\u5c4f\u5e55|x|\u5168\u9ad8\u6e05|\u5206\u8fa8\u7387|\u73a9\u6e38\u620f|\u9ad8\u6e05|\u89c6\u9891|\u723d\u7206|\u6708|\u65e5|\u4e2d\u5348|\u70b9|\u5f00\u653e|\u8d2d\u4e70|\u4ec5\u552e\u5143|\u5e0c\u671b|\u4e70|\u53f0|\u5c0f\u7c73|\u624b\u673a|\u5356|\u4ed9\u5251|\u9152\u5251\u4ed9|\u6d77|\u5148\u751f|V|\u5206\u4eab|\u514d\u8d39|\u9884\u7ea6|\u5730\u5740\n",
        "doge|\u55b5|\u55b5|\u5929\u732b|\u771f\u662f|\u725b|....|\u5356|\u5b9e\u9a8c|\u8017\u6750|\u8dd1|\u5929\u732b|\u5f00\u5e97\n",
        "doge|\u627e|\u5de5\u4f5c|\u256e|\u256f|\u25bd|\u2570|\u256d\n",
        "doge|\u6210\u529f|\u62a2|\u53f0\u7c73|\u7535\u4fe1\n"
       ]
      }
     ],
     "prompt_number": 256
    },
    {
     "cell_type": "code",
     "collapsed": false,
     "input": [
      "temp = re.sub(\"\\[.{0,4}\\]\",\"\",fw.weibo_train_data.context[2])"
     ],
     "language": "python",
     "metadata": {},
     "outputs": [],
     "prompt_number": 200
    },
    {
     "cell_type": "code",
     "collapsed": false,
     "input": [
      "print re.sub(u\"\\\\u627e\",\"A\",u'\\u627e')"
     ],
     "language": "python",
     "metadata": {},
     "outputs": [
      {
       "output_type": "stream",
       "stream": "stdout",
       "text": [
        "\u627e\n"
       ]
      }
     ],
     "prompt_number": 255
    },
    {
     "cell_type": "code",
     "collapsed": false,
     "input": [
      "tmp = fw.weibo_train_data.context[3]"
     ],
     "language": "python",
     "metadata": {},
     "outputs": [],
     "prompt_number": 237
    },
    {
     "cell_type": "code",
     "collapsed": false,
     "input": [
      "tmp = tmp.decode('utf8')"
     ],
     "language": "python",
     "metadata": {},
     "outputs": [],
     "prompt_number": 239
    },
    {
     "cell_type": "code",
     "collapsed": false,
     "input": [
      "tmp"
     ],
     "language": "python",
     "metadata": {},
     "outputs": [
      {
       "metadata": {},
       "output_type": "pyout",
       "prompt_number": 242,
       "text": [
        "u'[doge]\\u627e\\u5de5\\u4f5c\\u256e(\\u256f\\u25bd\\u2570)\\u256d\\u2026\\u2026'"
       ]
      }
     ],
     "prompt_number": 242
    },
    {
     "cell_type": "code",
     "collapsed": false,
     "input": [
      "print u'\\u627e'"
     ],
     "language": "python",
     "metadata": {},
     "outputs": [
      {
       "output_type": "stream",
       "stream": "stdout",
       "text": [
        "\u627e\n"
       ]
      }
     ],
     "prompt_number": 247
    },
    {
     "cell_type": "code",
     "collapsed": false,
     "input": [
      "a=fw.pd.Series()"
     ],
     "language": "python",
     "metadata": {},
     "outputs": [],
     "prompt_number": 261
    },
    {
     "cell_type": "code",
     "collapsed": false,
     "input": [
      "a.append([1,2,3])"
     ],
     "language": "python",
     "metadata": {},
     "outputs": [
      {
       "ename": "TypeError",
       "evalue": "cannot concatenate a non-NDFrame object",
       "output_type": "pyerr",
       "traceback": [
        "\u001b[0;31m---------------------------------------------------------------------------\u001b[0m\n\u001b[0;31mTypeError\u001b[0m                                 Traceback (most recent call last)",
        "\u001b[0;32m<ipython-input-262-bb81017f99b0>\u001b[0m in \u001b[0;36m<module>\u001b[0;34m()\u001b[0m\n\u001b[0;32m----> 1\u001b[0;31m \u001b[0ma\u001b[0m\u001b[0;34m.\u001b[0m\u001b[0mappend\u001b[0m\u001b[0;34m(\u001b[0m\u001b[0;34m[\u001b[0m\u001b[0;36m1\u001b[0m\u001b[0;34m,\u001b[0m\u001b[0;36m2\u001b[0m\u001b[0;34m,\u001b[0m\u001b[0;36m3\u001b[0m\u001b[0;34m]\u001b[0m\u001b[0;34m)\u001b[0m\u001b[0;34m\u001b[0m\u001b[0m\n\u001b[0m",
        "\u001b[0;32m/Users/Pro/canopy/lib/python2.7/site-packages/pandas/core/series.pyc\u001b[0m in \u001b[0;36mappend\u001b[0;34m(self, to_append, verify_integrity)\u001b[0m\n\u001b[1;32m   1407\u001b[0m             \u001b[0mto_concat\u001b[0m \u001b[0;34m=\u001b[0m \u001b[0;34m[\u001b[0m\u001b[0mself\u001b[0m\u001b[0;34m,\u001b[0m \u001b[0mto_append\u001b[0m\u001b[0;34m]\u001b[0m\u001b[0;34m\u001b[0m\u001b[0m\n\u001b[1;32m   1408\u001b[0m         return concat(to_concat, ignore_index=False,\n\u001b[0;32m-> 1409\u001b[0;31m                       verify_integrity=verify_integrity)\n\u001b[0m\u001b[1;32m   1410\u001b[0m \u001b[0;34m\u001b[0m\u001b[0m\n\u001b[1;32m   1411\u001b[0m     \u001b[0;32mdef\u001b[0m \u001b[0m_binop\u001b[0m\u001b[0;34m(\u001b[0m\u001b[0mself\u001b[0m\u001b[0;34m,\u001b[0m \u001b[0mother\u001b[0m\u001b[0;34m,\u001b[0m \u001b[0mfunc\u001b[0m\u001b[0;34m,\u001b[0m \u001b[0mlevel\u001b[0m\u001b[0;34m=\u001b[0m\u001b[0mNone\u001b[0m\u001b[0;34m,\u001b[0m \u001b[0mfill_value\u001b[0m\u001b[0;34m=\u001b[0m\u001b[0mNone\u001b[0m\u001b[0;34m)\u001b[0m\u001b[0;34m:\u001b[0m\u001b[0;34m\u001b[0m\u001b[0m\n",
        "\u001b[0;32m/Users/Pro/canopy/lib/python2.7/site-packages/pandas/tools/merge.pyc\u001b[0m in \u001b[0;36mconcat\u001b[0;34m(objs, axis, join, join_axes, ignore_index, keys, levels, names, verify_integrity)\u001b[0m\n\u001b[1;32m    715\u001b[0m                        \u001b[0mignore_index\u001b[0m\u001b[0;34m=\u001b[0m\u001b[0mignore_index\u001b[0m\u001b[0;34m,\u001b[0m \u001b[0mjoin\u001b[0m\u001b[0;34m=\u001b[0m\u001b[0mjoin\u001b[0m\u001b[0;34m,\u001b[0m\u001b[0;34m\u001b[0m\u001b[0m\n\u001b[1;32m    716\u001b[0m                        \u001b[0mkeys\u001b[0m\u001b[0;34m=\u001b[0m\u001b[0mkeys\u001b[0m\u001b[0;34m,\u001b[0m \u001b[0mlevels\u001b[0m\u001b[0;34m=\u001b[0m\u001b[0mlevels\u001b[0m\u001b[0;34m,\u001b[0m \u001b[0mnames\u001b[0m\u001b[0;34m=\u001b[0m\u001b[0mnames\u001b[0m\u001b[0;34m,\u001b[0m\u001b[0;34m\u001b[0m\u001b[0m\n\u001b[0;32m--> 717\u001b[0;31m                        verify_integrity=verify_integrity)\n\u001b[0m\u001b[1;32m    718\u001b[0m     \u001b[0;32mreturn\u001b[0m \u001b[0mop\u001b[0m\u001b[0;34m.\u001b[0m\u001b[0mget_result\u001b[0m\u001b[0;34m(\u001b[0m\u001b[0;34m)\u001b[0m\u001b[0;34m\u001b[0m\u001b[0m\n\u001b[1;32m    719\u001b[0m \u001b[0;34m\u001b[0m\u001b[0m\n",
        "\u001b[0;32m/Users/Pro/canopy/lib/python2.7/site-packages/pandas/tools/merge.pyc\u001b[0m in \u001b[0;36m__init__\u001b[0;34m(self, objs, axis, join, join_axes, keys, levels, names, ignore_index, verify_integrity)\u001b[0m\n\u001b[1;32m    766\u001b[0m         \u001b[0;32mfor\u001b[0m \u001b[0mobj\u001b[0m \u001b[0;32min\u001b[0m \u001b[0mobjs\u001b[0m\u001b[0;34m:\u001b[0m\u001b[0;34m\u001b[0m\u001b[0m\n\u001b[1;32m    767\u001b[0m             \u001b[0;32mif\u001b[0m \u001b[0;32mnot\u001b[0m \u001b[0misinstance\u001b[0m\u001b[0;34m(\u001b[0m\u001b[0mobj\u001b[0m\u001b[0;34m,\u001b[0m \u001b[0mNDFrame\u001b[0m\u001b[0;34m)\u001b[0m\u001b[0;34m:\u001b[0m\u001b[0;34m\u001b[0m\u001b[0m\n\u001b[0;32m--> 768\u001b[0;31m                 \u001b[0;32mraise\u001b[0m \u001b[0mTypeError\u001b[0m\u001b[0;34m(\u001b[0m\u001b[0;34m\"cannot concatenate a non-NDFrame object\"\u001b[0m\u001b[0;34m)\u001b[0m\u001b[0;34m\u001b[0m\u001b[0m\n\u001b[0m\u001b[1;32m    769\u001b[0m \u001b[0;34m\u001b[0m\u001b[0m\n\u001b[1;32m    770\u001b[0m             \u001b[0;31m# consolidate\u001b[0m\u001b[0;34m\u001b[0m\u001b[0;34m\u001b[0m\u001b[0m\n",
        "\u001b[0;31mTypeError\u001b[0m: cannot concatenate a non-NDFrame object"
       ]
      }
     ],
     "prompt_number": 262
    },
    {
     "cell_type": "code",
     "collapsed": false,
     "input": [
      "a=[]"
     ],
     "language": "python",
     "metadata": {},
     "outputs": [],
     "prompt_number": 263
    },
    {
     "cell_type": "code",
     "collapsed": false,
     "input": [
      "a.append([3,2])"
     ],
     "language": "python",
     "metadata": {},
     "outputs": [],
     "prompt_number": 266
    },
    {
     "cell_type": "code",
     "collapsed": false,
     "input": [
      "a"
     ],
     "language": "python",
     "metadata": {},
     "outputs": [
      {
       "metadata": {},
       "output_type": "pyout",
       "prompt_number": 267,
       "text": [
        "[[1, 2], [3, 2]]"
       ]
      }
     ],
     "prompt_number": 267
    },
    {
     "cell_type": "code",
     "collapsed": false,
     "input": [
      "a[0]=[1,2,3]"
     ],
     "language": "python",
     "metadata": {},
     "outputs": [
      {
       "ename": "IndexError",
       "evalue": "index 0 is out of bounds for axis 0 with size 0",
       "output_type": "pyerr",
       "traceback": [
        "\u001b[0;31m---------------------------------------------------------------------------\u001b[0m\n\u001b[0;31mIndexError\u001b[0m                                Traceback (most recent call last)",
        "\u001b[0;32m<ipython-input-258-c47480f4cd6d>\u001b[0m in \u001b[0;36m<module>\u001b[0;34m()\u001b[0m\n\u001b[0;32m----> 1\u001b[0;31m \u001b[0ma\u001b[0m\u001b[0;34m[\u001b[0m\u001b[0;36m0\u001b[0m\u001b[0;34m]\u001b[0m\u001b[0;34m=\u001b[0m\u001b[0;34m[\u001b[0m\u001b[0;36m1\u001b[0m\u001b[0;34m,\u001b[0m\u001b[0;36m2\u001b[0m\u001b[0;34m,\u001b[0m\u001b[0;36m3\u001b[0m\u001b[0;34m]\u001b[0m\u001b[0;34m\u001b[0m\u001b[0m\n\u001b[0m",
        "\u001b[0;32m/Users/Pro/canopy/lib/python2.7/site-packages/pandas/core/series.pyc\u001b[0m in \u001b[0;36m__setitem__\u001b[0;34m(self, key, value)\u001b[0m\n\u001b[1;32m    597\u001b[0m                     and not self.index.inferred_type == 'integer'):\n\u001b[1;32m    598\u001b[0m \u001b[0;34m\u001b[0m\u001b[0m\n\u001b[0;32m--> 599\u001b[0;31m                 \u001b[0mvalues\u001b[0m\u001b[0;34m[\u001b[0m\u001b[0mkey\u001b[0m\u001b[0;34m]\u001b[0m \u001b[0;34m=\u001b[0m \u001b[0mvalue\u001b[0m\u001b[0;34m\u001b[0m\u001b[0m\n\u001b[0m\u001b[1;32m    600\u001b[0m                 \u001b[0;32mreturn\u001b[0m\u001b[0;34m\u001b[0m\u001b[0m\n\u001b[1;32m    601\u001b[0m             \u001b[0;32melif\u001b[0m \u001b[0mkey\u001b[0m \u001b[0;32mis\u001b[0m \u001b[0mEllipsis\u001b[0m\u001b[0;34m:\u001b[0m\u001b[0;34m\u001b[0m\u001b[0m\n",
        "\u001b[0;31mIndexError\u001b[0m: index 0 is out of bounds for axis 0 with size 0"
       ]
      }
     ],
     "prompt_number": 258
    },
    {
     "cell_type": "code",
     "collapsed": false,
     "input": [
      "import weiboPredict"
     ],
     "language": "python",
     "metadata": {},
     "outputs": [],
     "prompt_number": 7
    },
    {
     "cell_type": "code",
     "collapsed": false,
     "input": [
      "reload(weiboPredict.framework)"
     ],
     "language": "python",
     "metadata": {},
     "outputs": [
      {
       "metadata": {},
       "output_type": "pyout",
       "prompt_number": 11,
       "text": [
        "<module 'weiboPredict.framework' from 'weiboPredict/framework.py'>"
       ]
      }
     ],
     "prompt_number": 11
    },
    {
     "cell_type": "code",
     "collapsed": false,
     "input": [
      "from weiboPredict import framework as fw"
     ],
     "language": "python",
     "metadata": {},
     "outputs": [],
     "prompt_number": 1
    },
    {
     "cell_type": "code",
     "collapsed": false,
     "input": [
      "reload(framework)"
     ],
     "language": "python",
     "metadata": {},
     "outputs": [
      {
       "ename": "NameError",
       "evalue": "name 'framework' is not defined",
       "output_type": "pyerr",
       "traceback": [
        "\u001b[0;31m---------------------------------------------------------------------------\u001b[0m\n\u001b[0;31mNameError\u001b[0m                                 Traceback (most recent call last)",
        "\u001b[0;32m<ipython-input-283-3f9ab99c167d>\u001b[0m in \u001b[0;36m<module>\u001b[0;34m()\u001b[0m\n\u001b[0;32m----> 1\u001b[0;31m \u001b[0mreload\u001b[0m\u001b[0;34m(\u001b[0m\u001b[0mframework\u001b[0m\u001b[0;34m)\u001b[0m\u001b[0;34m\u001b[0m\u001b[0m\n\u001b[0m",
        "\u001b[0;31mNameError\u001b[0m: name 'framework' is not defined"
       ]
      }
     ],
     "prompt_number": 283
    },
    {
     "cell_type": "code",
     "collapsed": false,
     "input": [
      "fw.loadData()"
     ],
     "language": "python",
     "metadata": {},
     "outputs": [],
     "prompt_number": 2
    },
    {
     "cell_type": "code",
     "collapsed": false,
     "input": [
      "tmp = fw.cleanText(fw.weibo_train_data.context[:5])"
     ],
     "language": "python",
     "metadata": {},
     "outputs": [
      {
       "output_type": "stream",
       "stream": "stderr",
       "text": [
        "Building prefix dict from /Users/Pro/canopy/lib/python2.7/site-packages/jieba/dict.txt ...\n"
       ]
      },
      {
       "output_type": "stream",
       "stream": "stderr",
       "text": [
        "DEBUG:jieba:Building prefix dict from /Users/Pro/canopy/lib/python2.7/site-packages/jieba/dict.txt ...\n"
       ]
      },
      {
       "output_type": "stream",
       "stream": "stderr",
       "text": [
        "Loading model from cache /var/folders/rv/scpt0ywn277bqhjg160ms0d40000gp/T/jieba.cache\n"
       ]
      },
      {
       "output_type": "stream",
       "stream": "stderr",
       "text": [
        "DEBUG:jieba:Loading model from cache /var/folders/rv/scpt0ywn277bqhjg160ms0d40000gp/T/jieba.cache\n"
       ]
      },
      {
       "output_type": "stream",
       "stream": "stderr",
       "text": [
        "Loading model cost 0.556 seconds.\n"
       ]
      },
      {
       "output_type": "stream",
       "stream": "stderr",
       "text": [
        "DEBUG:jieba:Loading model cost 0.556 seconds.\n"
       ]
      },
      {
       "output_type": "stream",
       "stream": "stderr",
       "text": [
        "Prefix dict has been built succesfully.\n"
       ]
      },
      {
       "output_type": "stream",
       "stream": "stderr",
       "text": [
        "DEBUG:jieba:Prefix dict has been built succesfully.\n"
       ]
      }
     ],
     "prompt_number": 3
    },
    {
     "cell_type": "code",
     "collapsed": false,
     "input": [
      "print '|'.join(tmp[1])"
     ],
     "language": "python",
     "metadata": {},
     "outputs": [
      {
       "output_type": "stream",
       "stream": "stdout",
       "text": [
        "\u7231|\u5c0f\u7c73|\u624b\u673a|\u5c0f\u7c73|\u624b\u673a|\u5c4f\u5e55|\u592a\u7ed9\u529b|\u82f1\u5bf8|\u9ad8|\u8272\u5f69|\u9971\u548c\u5ea6|\u590f\u666e|JDI|\u5c4f\u5e55|x|\u5168\u9ad8\u6e05|\u5206\u8fa8\u7387|\u73a9\u6e38\u620f|\u9ad8\u6e05|\u89c6\u9891|\u723d\u7206|\u6708|\u65e5|\u4e2d\u5348|\u70b9|\u5f00\u653e|\u8d2d\u4e70|\u4ec5\u552e\u5143|\u5e0c\u671b|\u4e70|\u53f0|\u5c0f\u7c73|\u624b\u673a|\u5356|\u4ed9\u5251|\u9152\u5251\u4ed9|\u6d77|\u5148\u751f|V|\u5206\u4eab|\u514d\u8d39|\u9884\u7ea6|\u5730\u5740\n"
       ]
      }
     ],
     "prompt_number": 4
    },
    {
     "cell_type": "code",
     "collapsed": false,
     "input": [
      "t = fw.weibo_train_data"
     ],
     "language": "python",
     "metadata": {},
     "outputs": [],
     "prompt_number": 296
    },
    {
     "cell_type": "code",
     "collapsed": false,
     "input": [
      "t['a'] = tmp"
     ],
     "language": "python",
     "metadata": {},
     "outputs": [],
     "prompt_number": 297
    },
    {
     "cell_type": "code",
     "collapsed": false,
     "input": [
      "t.head()"
     ],
     "language": "python",
     "metadata": {},
     "outputs": [
      {
       "html": [
        "<div style=\"max-height:1000px;max-width:1500px;overflow:auto;\">\n",
        "<table border=\"1\" class=\"dataframe\">\n",
        "  <thead>\n",
        "    <tr style=\"text-align: right;\">\n",
        "      <th></th>\n",
        "      <th>uid</th>\n",
        "      <th>mid</th>\n",
        "      <th>time</th>\n",
        "      <th>forward_count</th>\n",
        "      <th>comment_count</th>\n",
        "      <th>like_count</th>\n",
        "      <th>context</th>\n",
        "      <th>a</th>\n",
        "    </tr>\n",
        "  </thead>\n",
        "  <tbody>\n",
        "    <tr>\n",
        "      <th>0</th>\n",
        "      <td> 07fc721342df1a4c1992560b582992f8</td>\n",
        "      <td> 5fefc2488f99aba5782baa43096b76dc</td>\n",
        "      <td> 2014-11-04</td>\n",
        "      <td> 0</td>\n",
        "      <td> 7</td>\n",
        "      <td> 2</td>\n",
        "      <td> [\u5410]@\u4eac\u4e1c \u7684\u7528\u6237\u4f53\u9a8c\u592a\u5dee\u4e86....\u7b2c\u4e00\u6b21\u5728\u4eac\u4e1c\u8d2d\u7269\uff0c\u4e70\u4e86\u51e0\u767e\u7684\u4e66....\u771f\u662f\u7ecf\u5386\u4e86\u7f51\u8d2d\u7684...</td>\n",
        "      <td> [\u5410, \u4eac\u4e1c, \u7528\u6237, \u4f53\u9a8c, \u592a\u5dee, ...., \u7b2c\u4e00\u6b21, \u4eac\u4e1c, \u8d2d\u7269, \u4e70, \u51e0\u767e, ...</td>\n",
        "    </tr>\n",
        "    <tr>\n",
        "      <th>1</th>\n",
        "      <td> 07fc721342df1a4c1992560b582992f8</td>\n",
        "      <td> 397d9abe2ebf9ba986fe5ab5a6139e11</td>\n",
        "      <td> 2014-11-04</td>\n",
        "      <td> 0</td>\n",
        "      <td> 3</td>\n",
        "      <td> 0</td>\n",
        "      <td> #\u6211\u7231\u5c0f\u7c73\u624b\u673a#\u56e0\u4e3a\u5c0f\u7c73\u624b\u673a4\u7684\u5c4f\u5e55\u592a\u7ed9\u529b\u4e86\uff0c5\u82f1\u5bf8\u7684\u9ad8\u8272\u5f69\u9971\u548c\u5ea6\u590f\u666e / JDI\u5c4f\u5e55\uff0c19...</td>\n",
        "      <td> [\u7231, \u5c0f\u7c73, \u624b\u673a, \u5c0f\u7c73, \u624b\u673a, \u5c4f\u5e55, \u592a\u7ed9\u529b, \u82f1\u5bf8, \u9ad8, \u8272\u5f69, \u9971\u548c\u5ea6, \u590f...</td>\n",
        "    </tr>\n",
        "    <tr>\n",
        "      <th>2</th>\n",
        "      <td> 07fc721342df1a4c1992560b582992f8</td>\n",
        "      <td> a2ae3959e9aa21a47993506e2609a4ec</td>\n",
        "      <td> 2014-11-08</td>\n",
        "      <td> 0</td>\n",
        "      <td> 0</td>\n",
        "      <td> 0</td>\n",
        "      <td>              [doge][\u55b5\u55b5]\u5929\u732b\u771f\u662f\u725b....\u5356\u5b9e\u9a8c\u8017\u6750\u7684\u90fd\u8dd1\u5929\u732b\u53bb\u5f00\u5e97\u4e86...</td>\n",
        "      <td> [doge, \u55b5, \u55b5, \u5929\u732b, \u771f\u662f, \u725b, ...., \u5356, \u5b9e\u9a8c, \u8017\u6750, \u8dd1, \u5929\u732b...</td>\n",
        "    </tr>\n",
        "    <tr>\n",
        "      <th>3</th>\n",
        "      <td> 07fc721342df1a4c1992560b582992f8</td>\n",
        "      <td> fcc63a086522040a271ba6d1fb604734</td>\n",
        "      <td> 2014-11-09</td>\n",
        "      <td> 0</td>\n",
        "      <td> 6</td>\n",
        "      <td> 0</td>\n",
        "      <td>                                [doge]\u627e\u5de5\u4f5c\u256e(\u256f\u25bd\u2570)\u256d\u2026\u2026</td>\n",
        "      <td>                      [doge, \u627e, \u5de5\u4f5c, \u256e, \u256f, \u25bd, \u2570, \u256d]</td>\n",
        "    </tr>\n",
        "    <tr>\n",
        "      <th>4</th>\n",
        "      <td> 07fc721342df1a4c1992560b582992f8</td>\n",
        "      <td> 6ab0f93ab59cbdaf25f4a023642971a6</td>\n",
        "      <td> 2014-11-11</td>\n",
        "      <td> 0</td>\n",
        "      <td> 5</td>\n",
        "      <td> 1</td>\n",
        "      <td>                                  [doge]\u6210\u529f\u62a2\u4e86\u53f0\u7c734\u7535\u4fe1~</td>\n",
        "      <td>                             [doge, \u6210\u529f, \u62a2, \u53f0\u7c73, \u7535\u4fe1]</td>\n",
        "    </tr>\n",
        "  </tbody>\n",
        "</table>\n",
        "</div>"
       ],
       "metadata": {},
       "output_type": "pyout",
       "prompt_number": 298,
       "text": [
        "                                uid                               mid  \\\n",
        "0  07fc721342df1a4c1992560b582992f8  5fefc2488f99aba5782baa43096b76dc   \n",
        "1  07fc721342df1a4c1992560b582992f8  397d9abe2ebf9ba986fe5ab5a6139e11   \n",
        "2  07fc721342df1a4c1992560b582992f8  a2ae3959e9aa21a47993506e2609a4ec   \n",
        "3  07fc721342df1a4c1992560b582992f8  fcc63a086522040a271ba6d1fb604734   \n",
        "4  07fc721342df1a4c1992560b582992f8  6ab0f93ab59cbdaf25f4a023642971a6   \n",
        "\n",
        "         time  forward_count  comment_count  like_count  \\\n",
        "0  2014-11-04              0              7           2   \n",
        "1  2014-11-04              0              3           0   \n",
        "2  2014-11-08              0              0           0   \n",
        "3  2014-11-09              0              6           0   \n",
        "4  2014-11-11              0              5           1   \n",
        "\n",
        "                                             context  \\\n",
        "0  [\u5410]@\u4eac\u4e1c \u7684\u7528\u6237\u4f53\u9a8c\u592a\u5dee\u4e86....\u7b2c\u4e00\u6b21\u5728\u4eac\u4e1c\u8d2d\u7269\uff0c\u4e70\u4e86\u51e0\u767e\u7684\u4e66....\u771f\u662f\u7ecf\u5386\u4e86\u7f51\u8d2d\u7684...   \n",
        "1  #\u6211\u7231\u5c0f\u7c73\u624b\u673a#\u56e0\u4e3a\u5c0f\u7c73\u624b\u673a4\u7684\u5c4f\u5e55\u592a\u7ed9\u529b\u4e86\uff0c5\u82f1\u5bf8\u7684\u9ad8\u8272\u5f69\u9971\u548c\u5ea6\u590f\u666e / JDI\u5c4f\u5e55\uff0c19...   \n",
        "2               [doge][\u55b5\u55b5]\u5929\u732b\u771f\u662f\u725b....\u5356\u5b9e\u9a8c\u8017\u6750\u7684\u90fd\u8dd1\u5929\u732b\u53bb\u5f00\u5e97\u4e86...   \n",
        "3                                 [doge]\u627e\u5de5\u4f5c\u256e(\u256f\u25bd\u2570)\u256d\u2026\u2026   \n",
        "4                                   [doge]\u6210\u529f\u62a2\u4e86\u53f0\u7c734\u7535\u4fe1~   \n",
        "\n",
        "                                                   a  \n",
        "0  [\u5410, \u4eac\u4e1c, \u7528\u6237, \u4f53\u9a8c, \u592a\u5dee, ...., \u7b2c\u4e00\u6b21, \u4eac\u4e1c, \u8d2d\u7269, \u4e70, \u51e0\u767e, ...  \n",
        "1  [\u7231, \u5c0f\u7c73, \u624b\u673a, \u5c0f\u7c73, \u624b\u673a, \u5c4f\u5e55, \u592a\u7ed9\u529b, \u82f1\u5bf8, \u9ad8, \u8272\u5f69, \u9971\u548c\u5ea6, \u590f...  \n",
        "2  [doge, \u55b5, \u55b5, \u5929\u732b, \u771f\u662f, \u725b, ...., \u5356, \u5b9e\u9a8c, \u8017\u6750, \u8dd1, \u5929\u732b...  \n",
        "3                       [doge, \u627e, \u5de5\u4f5c, \u256e, \u256f, \u25bd, \u2570, \u256d]  \n",
        "4                              [doge, \u6210\u529f, \u62a2, \u53f0\u7c73, \u7535\u4fe1]  "
       ]
      }
     ],
     "prompt_number": 298
    },
    {
     "cell_type": "code",
     "collapsed": false,
     "input": [
      "tmp.to_csv('test.csv')"
     ],
     "language": "python",
     "metadata": {},
     "outputs": [],
     "prompt_number": 299
    },
    {
     "cell_type": "code",
     "collapsed": false,
     "input": [
      "clean_context = fw.cleanText(fw.weibo_train_data.context)"
     ],
     "language": "python",
     "metadata": {},
     "outputs": [
      {
       "output_type": "stream",
       "stream": "stdout",
       "text": [
        "10000/1626750\n",
        "20000/1626750"
       ]
      },
      {
       "output_type": "stream",
       "stream": "stdout",
       "text": [
        "\n",
        "30000/1626750"
       ]
      },
      {
       "output_type": "stream",
       "stream": "stdout",
       "text": [
        "\n",
        "40000/1626750"
       ]
      },
      {
       "output_type": "stream",
       "stream": "stdout",
       "text": [
        "\n",
        "50000/1626750"
       ]
      },
      {
       "output_type": "stream",
       "stream": "stdout",
       "text": [
        "\n",
        "60000/1626750"
       ]
      },
      {
       "output_type": "stream",
       "stream": "stdout",
       "text": [
        "\n",
        "70000/1626750"
       ]
      },
      {
       "output_type": "stream",
       "stream": "stdout",
       "text": [
        "\n",
        "80000/1626750"
       ]
      },
      {
       "output_type": "stream",
       "stream": "stdout",
       "text": [
        "\n",
        "90000/1626750"
       ]
      },
      {
       "output_type": "stream",
       "stream": "stdout",
       "text": [
        "\n",
        "100000/1626750"
       ]
      },
      {
       "output_type": "stream",
       "stream": "stdout",
       "text": [
        "\n",
        "110000/1626750"
       ]
      },
      {
       "output_type": "stream",
       "stream": "stdout",
       "text": [
        "\n",
        "120000/1626750"
       ]
      },
      {
       "output_type": "stream",
       "stream": "stdout",
       "text": [
        "\n",
        "130000/1626750"
       ]
      },
      {
       "output_type": "stream",
       "stream": "stdout",
       "text": [
        "\n",
        "140000/1626750"
       ]
      },
      {
       "output_type": "stream",
       "stream": "stdout",
       "text": [
        "\n",
        "150000/1626750"
       ]
      },
      {
       "output_type": "stream",
       "stream": "stdout",
       "text": [
        "\n",
        "160000/1626750"
       ]
      },
      {
       "output_type": "stream",
       "stream": "stdout",
       "text": [
        "\n",
        "170000/1626750"
       ]
      },
      {
       "output_type": "stream",
       "stream": "stdout",
       "text": [
        "\n",
        "180000/1626750"
       ]
      },
      {
       "output_type": "stream",
       "stream": "stdout",
       "text": [
        "\n",
        "190000/1626750"
       ]
      },
      {
       "output_type": "stream",
       "stream": "stdout",
       "text": [
        "\n",
        "200000/1626750"
       ]
      },
      {
       "output_type": "stream",
       "stream": "stdout",
       "text": [
        "\n",
        "210000/1626750"
       ]
      },
      {
       "output_type": "stream",
       "stream": "stdout",
       "text": [
        "\n",
        "220000/1626750"
       ]
      },
      {
       "output_type": "stream",
       "stream": "stdout",
       "text": [
        "\n",
        "230000/1626750"
       ]
      },
      {
       "output_type": "stream",
       "stream": "stdout",
       "text": [
        "\n",
        "240000/1626750"
       ]
      },
      {
       "output_type": "stream",
       "stream": "stdout",
       "text": [
        "\n",
        "250000/1626750"
       ]
      },
      {
       "output_type": "stream",
       "stream": "stdout",
       "text": [
        "\n",
        "260000/1626750"
       ]
      },
      {
       "output_type": "stream",
       "stream": "stdout",
       "text": [
        "\n",
        "270000/1626750"
       ]
      },
      {
       "output_type": "stream",
       "stream": "stdout",
       "text": [
        "\n",
        "280000/1626750"
       ]
      },
      {
       "output_type": "stream",
       "stream": "stdout",
       "text": [
        "\n",
        "290000/1626750"
       ]
      },
      {
       "output_type": "stream",
       "stream": "stdout",
       "text": [
        "\n",
        "300000/1626750"
       ]
      },
      {
       "output_type": "stream",
       "stream": "stdout",
       "text": [
        "\n",
        "310000/1626750"
       ]
      },
      {
       "output_type": "stream",
       "stream": "stdout",
       "text": [
        "\n",
        "320000/1626750"
       ]
      },
      {
       "output_type": "stream",
       "stream": "stdout",
       "text": [
        "\n",
        "330000/1626750"
       ]
      },
      {
       "output_type": "stream",
       "stream": "stdout",
       "text": [
        "\n",
        "340000/1626750"
       ]
      },
      {
       "output_type": "stream",
       "stream": "stdout",
       "text": [
        "\n",
        "350000/1626750"
       ]
      },
      {
       "output_type": "stream",
       "stream": "stdout",
       "text": [
        "\n",
        "360000/1626750"
       ]
      },
      {
       "output_type": "stream",
       "stream": "stdout",
       "text": [
        "\n",
        "370000/1626750"
       ]
      },
      {
       "output_type": "stream",
       "stream": "stdout",
       "text": [
        "\n",
        "380000/1626750"
       ]
      },
      {
       "output_type": "stream",
       "stream": "stdout",
       "text": [
        "\n",
        "390000/1626750"
       ]
      },
      {
       "output_type": "stream",
       "stream": "stdout",
       "text": [
        "\n",
        "400000/1626750"
       ]
      },
      {
       "output_type": "stream",
       "stream": "stdout",
       "text": [
        "\n",
        "410000/1626750"
       ]
      },
      {
       "output_type": "stream",
       "stream": "stdout",
       "text": [
        "\n",
        "420000/1626750"
       ]
      },
      {
       "output_type": "stream",
       "stream": "stdout",
       "text": [
        "\n",
        "430000/1626750"
       ]
      },
      {
       "output_type": "stream",
       "stream": "stdout",
       "text": [
        "\n",
        "440000/1626750"
       ]
      },
      {
       "output_type": "stream",
       "stream": "stdout",
       "text": [
        "\n",
        "450000/1626750"
       ]
      },
      {
       "output_type": "stream",
       "stream": "stdout",
       "text": [
        "\n",
        "460000/1626750"
       ]
      },
      {
       "output_type": "stream",
       "stream": "stdout",
       "text": [
        "\n",
        "470000/1626750"
       ]
      },
      {
       "output_type": "stream",
       "stream": "stdout",
       "text": [
        "\n",
        "480000/1626750"
       ]
      },
      {
       "output_type": "stream",
       "stream": "stdout",
       "text": [
        "\n",
        "490000/1626750"
       ]
      },
      {
       "output_type": "stream",
       "stream": "stdout",
       "text": [
        "\n",
        "500000/1626750"
       ]
      },
      {
       "output_type": "stream",
       "stream": "stdout",
       "text": [
        "\n",
        "510000/1626750"
       ]
      },
      {
       "output_type": "stream",
       "stream": "stdout",
       "text": [
        "\n",
        "520000/1626750"
       ]
      },
      {
       "output_type": "stream",
       "stream": "stdout",
       "text": [
        "\n",
        "530000/1626750"
       ]
      },
      {
       "output_type": "stream",
       "stream": "stdout",
       "text": [
        "\n",
        "540000/1626750"
       ]
      },
      {
       "output_type": "stream",
       "stream": "stdout",
       "text": [
        "\n",
        "550000/1626750"
       ]
      },
      {
       "output_type": "stream",
       "stream": "stdout",
       "text": [
        "\n",
        "560000/1626750"
       ]
      },
      {
       "output_type": "stream",
       "stream": "stdout",
       "text": [
        "\n",
        "570000/1626750"
       ]
      },
      {
       "output_type": "stream",
       "stream": "stdout",
       "text": [
        "\n",
        "580000/1626750"
       ]
      },
      {
       "output_type": "stream",
       "stream": "stdout",
       "text": [
        "\n",
        "590000/1626750"
       ]
      },
      {
       "output_type": "stream",
       "stream": "stdout",
       "text": [
        "\n",
        "600000/1626750"
       ]
      },
      {
       "output_type": "stream",
       "stream": "stdout",
       "text": [
        "\n",
        "610000/1626750"
       ]
      },
      {
       "output_type": "stream",
       "stream": "stdout",
       "text": [
        "\n",
        "620000/1626750"
       ]
      },
      {
       "output_type": "stream",
       "stream": "stdout",
       "text": [
        "\n",
        "630000/1626750"
       ]
      },
      {
       "output_type": "stream",
       "stream": "stdout",
       "text": [
        "\n",
        "640000/1626750"
       ]
      },
      {
       "output_type": "stream",
       "stream": "stdout",
       "text": [
        "\n",
        "650000/1626750"
       ]
      },
      {
       "output_type": "stream",
       "stream": "stdout",
       "text": [
        "\n",
        "660000/1626750"
       ]
      },
      {
       "output_type": "stream",
       "stream": "stdout",
       "text": [
        "\n",
        "670000/1626750"
       ]
      },
      {
       "output_type": "stream",
       "stream": "stdout",
       "text": [
        "\n",
        "680000/1626750"
       ]
      },
      {
       "output_type": "stream",
       "stream": "stdout",
       "text": [
        "\n",
        "690000/1626750"
       ]
      },
      {
       "output_type": "stream",
       "stream": "stdout",
       "text": [
        "\n",
        "700000/1626750"
       ]
      },
      {
       "output_type": "stream",
       "stream": "stdout",
       "text": [
        "\n",
        "710000/1626750"
       ]
      },
      {
       "output_type": "stream",
       "stream": "stdout",
       "text": [
        "\n",
        "720000/1626750"
       ]
      },
      {
       "output_type": "stream",
       "stream": "stdout",
       "text": [
        "\n",
        "730000/1626750"
       ]
      },
      {
       "output_type": "stream",
       "stream": "stdout",
       "text": [
        "\n",
        "740000/1626750"
       ]
      },
      {
       "output_type": "stream",
       "stream": "stdout",
       "text": [
        "\n",
        "750000/1626750"
       ]
      },
      {
       "output_type": "stream",
       "stream": "stdout",
       "text": [
        "\n",
        "760000/1626750"
       ]
      },
      {
       "output_type": "stream",
       "stream": "stdout",
       "text": [
        "\n",
        "770000/1626750"
       ]
      },
      {
       "output_type": "stream",
       "stream": "stdout",
       "text": [
        "\n",
        "780000/1626750"
       ]
      },
      {
       "output_type": "stream",
       "stream": "stdout",
       "text": [
        "\n",
        "790000/1626750"
       ]
      },
      {
       "output_type": "stream",
       "stream": "stdout",
       "text": [
        "\n",
        "800000/1626750"
       ]
      },
      {
       "output_type": "stream",
       "stream": "stdout",
       "text": [
        "\n",
        "810000/1626750"
       ]
      },
      {
       "output_type": "stream",
       "stream": "stdout",
       "text": [
        "\n",
        "820000/1626750"
       ]
      },
      {
       "output_type": "stream",
       "stream": "stdout",
       "text": [
        "\n",
        "830000/1626750"
       ]
      },
      {
       "output_type": "stream",
       "stream": "stdout",
       "text": [
        "\n",
        "840000/1626750"
       ]
      },
      {
       "output_type": "stream",
       "stream": "stdout",
       "text": [
        "\n",
        "850000/1626750"
       ]
      },
      {
       "output_type": "stream",
       "stream": "stdout",
       "text": [
        "\n",
        "860000/1626750"
       ]
      },
      {
       "output_type": "stream",
       "stream": "stdout",
       "text": [
        "\n",
        "870000/1626750"
       ]
      },
      {
       "output_type": "stream",
       "stream": "stdout",
       "text": [
        "\n",
        "880000/1626750"
       ]
      },
      {
       "output_type": "stream",
       "stream": "stdout",
       "text": [
        "\n",
        "890000/1626750"
       ]
      },
      {
       "output_type": "stream",
       "stream": "stdout",
       "text": [
        "\n",
        "900000/1626750"
       ]
      },
      {
       "output_type": "stream",
       "stream": "stdout",
       "text": [
        "\n",
        "910000/1626750"
       ]
      },
      {
       "output_type": "stream",
       "stream": "stdout",
       "text": [
        "\n",
        "920000/1626750"
       ]
      },
      {
       "output_type": "stream",
       "stream": "stdout",
       "text": [
        "\n",
        "930000/1626750"
       ]
      },
      {
       "output_type": "stream",
       "stream": "stdout",
       "text": [
        "\n",
        "940000/1626750"
       ]
      },
      {
       "output_type": "stream",
       "stream": "stdout",
       "text": [
        "\n",
        "950000/1626750"
       ]
      },
      {
       "output_type": "stream",
       "stream": "stdout",
       "text": [
        "\n",
        "960000/1626750"
       ]
      },
      {
       "output_type": "stream",
       "stream": "stdout",
       "text": [
        "\n",
        "970000/1626750"
       ]
      },
      {
       "output_type": "stream",
       "stream": "stdout",
       "text": [
        "\n",
        "980000/1626750"
       ]
      },
      {
       "output_type": "stream",
       "stream": "stdout",
       "text": [
        "\n",
        "990000/1626750"
       ]
      },
      {
       "output_type": "stream",
       "stream": "stdout",
       "text": [
        "\n",
        "1000000/1626750"
       ]
      },
      {
       "output_type": "stream",
       "stream": "stdout",
       "text": [
        "\n",
        "1010000/1626750"
       ]
      },
      {
       "output_type": "stream",
       "stream": "stdout",
       "text": [
        "\n",
        "1020000/1626750"
       ]
      },
      {
       "output_type": "stream",
       "stream": "stdout",
       "text": [
        "\n",
        "1030000/1626750"
       ]
      },
      {
       "output_type": "stream",
       "stream": "stdout",
       "text": [
        "\n",
        "1040000/1626750"
       ]
      },
      {
       "output_type": "stream",
       "stream": "stdout",
       "text": [
        "\n",
        "1050000/1626750"
       ]
      },
      {
       "output_type": "stream",
       "stream": "stdout",
       "text": [
        "\n",
        "1060000/1626750"
       ]
      },
      {
       "output_type": "stream",
       "stream": "stdout",
       "text": [
        "\n",
        "1070000/1626750"
       ]
      },
      {
       "output_type": "stream",
       "stream": "stdout",
       "text": [
        "\n",
        "1080000/1626750"
       ]
      },
      {
       "output_type": "stream",
       "stream": "stdout",
       "text": [
        "\n",
        "1090000/1626750"
       ]
      },
      {
       "output_type": "stream",
       "stream": "stdout",
       "text": [
        "\n",
        "1100000/1626750"
       ]
      },
      {
       "output_type": "stream",
       "stream": "stdout",
       "text": [
        "\n",
        "1110000/1626750"
       ]
      },
      {
       "output_type": "stream",
       "stream": "stdout",
       "text": [
        "\n",
        "1120000/1626750"
       ]
      },
      {
       "output_type": "stream",
       "stream": "stdout",
       "text": [
        "\n",
        "1130000/1626750"
       ]
      },
      {
       "output_type": "stream",
       "stream": "stdout",
       "text": [
        "\n",
        "1140000/1626750"
       ]
      },
      {
       "output_type": "stream",
       "stream": "stdout",
       "text": [
        "\n",
        "1150000/1626750"
       ]
      },
      {
       "output_type": "stream",
       "stream": "stdout",
       "text": [
        "\n",
        "1160000/1626750"
       ]
      },
      {
       "output_type": "stream",
       "stream": "stdout",
       "text": [
        "\n",
        "1170000/1626750"
       ]
      },
      {
       "output_type": "stream",
       "stream": "stdout",
       "text": [
        "\n",
        "1180000/1626750"
       ]
      },
      {
       "output_type": "stream",
       "stream": "stdout",
       "text": [
        "\n",
        "1190000/1626750"
       ]
      },
      {
       "output_type": "stream",
       "stream": "stdout",
       "text": [
        "\n",
        "1200000/1626750"
       ]
      },
      {
       "output_type": "stream",
       "stream": "stdout",
       "text": [
        "\n",
        "1210000/1626750"
       ]
      },
      {
       "output_type": "stream",
       "stream": "stdout",
       "text": [
        "\n",
        "1220000/1626750"
       ]
      },
      {
       "output_type": "stream",
       "stream": "stdout",
       "text": [
        "\n",
        "1230000/1626750"
       ]
      },
      {
       "output_type": "stream",
       "stream": "stdout",
       "text": [
        "\n",
        "1240000/1626750"
       ]
      },
      {
       "output_type": "stream",
       "stream": "stdout",
       "text": [
        "\n",
        "1250000/1626750"
       ]
      },
      {
       "output_type": "stream",
       "stream": "stdout",
       "text": [
        "\n",
        "1260000/1626750"
       ]
      },
      {
       "output_type": "stream",
       "stream": "stdout",
       "text": [
        "\n",
        "1270000/1626750"
       ]
      },
      {
       "output_type": "stream",
       "stream": "stdout",
       "text": [
        "\n",
        "1280000/1626750"
       ]
      },
      {
       "output_type": "stream",
       "stream": "stdout",
       "text": [
        "\n",
        "1290000/1626750"
       ]
      },
      {
       "output_type": "stream",
       "stream": "stdout",
       "text": [
        "\n",
        "1300000/1626750"
       ]
      },
      {
       "output_type": "stream",
       "stream": "stdout",
       "text": [
        "\n",
        "1310000/1626750"
       ]
      },
      {
       "output_type": "stream",
       "stream": "stdout",
       "text": [
        "\n",
        "1320000/1626750"
       ]
      },
      {
       "output_type": "stream",
       "stream": "stdout",
       "text": [
        "\n",
        "1330000/1626750"
       ]
      },
      {
       "output_type": "stream",
       "stream": "stdout",
       "text": [
        "\n",
        "1340000/1626750"
       ]
      },
      {
       "output_type": "stream",
       "stream": "stdout",
       "text": [
        "\n",
        "1350000/1626750"
       ]
      },
      {
       "output_type": "stream",
       "stream": "stdout",
       "text": [
        "\n",
        "1360000/1626750"
       ]
      },
      {
       "output_type": "stream",
       "stream": "stdout",
       "text": [
        "\n",
        "1370000/1626750"
       ]
      },
      {
       "output_type": "stream",
       "stream": "stdout",
       "text": [
        "\n",
        "1380000/1626750"
       ]
      },
      {
       "output_type": "stream",
       "stream": "stdout",
       "text": [
        "\n",
        "1390000/1626750"
       ]
      },
      {
       "output_type": "stream",
       "stream": "stdout",
       "text": [
        "\n",
        "1400000/1626750"
       ]
      },
      {
       "output_type": "stream",
       "stream": "stdout",
       "text": [
        "\n",
        "1410000/1626750"
       ]
      },
      {
       "output_type": "stream",
       "stream": "stdout",
       "text": [
        "\n",
        "1420000/1626750"
       ]
      },
      {
       "output_type": "stream",
       "stream": "stdout",
       "text": [
        "\n",
        "1430000/1626750"
       ]
      },
      {
       "output_type": "stream",
       "stream": "stdout",
       "text": [
        "\n",
        "1440000/1626750"
       ]
      },
      {
       "output_type": "stream",
       "stream": "stdout",
       "text": [
        "\n",
        "1450000/1626750"
       ]
      },
      {
       "output_type": "stream",
       "stream": "stdout",
       "text": [
        "\n",
        "1460000/1626750"
       ]
      },
      {
       "output_type": "stream",
       "stream": "stdout",
       "text": [
        "\n",
        "1470000/1626750"
       ]
      },
      {
       "output_type": "stream",
       "stream": "stdout",
       "text": [
        "\n",
        "1480000/1626750"
       ]
      },
      {
       "output_type": "stream",
       "stream": "stdout",
       "text": [
        "\n",
        "1490000/1626750"
       ]
      },
      {
       "output_type": "stream",
       "stream": "stdout",
       "text": [
        "\n",
        "1500000/1626750"
       ]
      },
      {
       "output_type": "stream",
       "stream": "stdout",
       "text": [
        "\n",
        "1510000/1626750"
       ]
      },
      {
       "output_type": "stream",
       "stream": "stdout",
       "text": [
        "\n",
        "1520000/1626750"
       ]
      },
      {
       "output_type": "stream",
       "stream": "stdout",
       "text": [
        "\n",
        "1530000/1626750"
       ]
      },
      {
       "output_type": "stream",
       "stream": "stdout",
       "text": [
        "\n",
        "1540000/1626750"
       ]
      },
      {
       "output_type": "stream",
       "stream": "stdout",
       "text": [
        "\n",
        "1550000/1626750"
       ]
      },
      {
       "output_type": "stream",
       "stream": "stdout",
       "text": [
        "\n",
        "1560000/1626750"
       ]
      },
      {
       "output_type": "stream",
       "stream": "stdout",
       "text": [
        "\n",
        "1570000/1626750"
       ]
      },
      {
       "output_type": "stream",
       "stream": "stdout",
       "text": [
        "\n",
        "1580000/1626750"
       ]
      },
      {
       "output_type": "stream",
       "stream": "stdout",
       "text": [
        "\n",
        "1590000/1626750"
       ]
      },
      {
       "output_type": "stream",
       "stream": "stdout",
       "text": [
        "\n",
        "1600000/1626750"
       ]
      },
      {
       "output_type": "stream",
       "stream": "stdout",
       "text": [
        "\n",
        "1610000/1626750"
       ]
      },
      {
       "output_type": "stream",
       "stream": "stdout",
       "text": [
        "\n",
        "1620000/1626750"
       ]
      },
      {
       "output_type": "stream",
       "stream": "stdout",
       "text": [
        "\n"
       ]
      }
     ],
     "prompt_number": 5
    },
    {
     "cell_type": "code",
     "collapsed": false,
     "input": [
      "predict_clean_text = fw.cleanText(fw.weibo_predict_data.context)"
     ],
     "language": "python",
     "metadata": {},
     "outputs": [
      {
       "output_type": "stream",
       "stream": "stdout",
       "text": [
        "10000/275331\n",
        "20000/275331"
       ]
      },
      {
       "output_type": "stream",
       "stream": "stdout",
       "text": [
        "\n",
        "30000/275331"
       ]
      },
      {
       "output_type": "stream",
       "stream": "stdout",
       "text": [
        "\n",
        "40000/275331"
       ]
      },
      {
       "output_type": "stream",
       "stream": "stdout",
       "text": [
        "\n",
        "50000/275331"
       ]
      },
      {
       "output_type": "stream",
       "stream": "stdout",
       "text": [
        "\n",
        "60000/275331"
       ]
      },
      {
       "output_type": "stream",
       "stream": "stdout",
       "text": [
        "\n",
        "70000/275331"
       ]
      },
      {
       "output_type": "stream",
       "stream": "stdout",
       "text": [
        "\n",
        "80000/275331"
       ]
      },
      {
       "output_type": "stream",
       "stream": "stdout",
       "text": [
        "\n",
        "90000/275331"
       ]
      },
      {
       "output_type": "stream",
       "stream": "stdout",
       "text": [
        "\n",
        "100000/275331"
       ]
      },
      {
       "output_type": "stream",
       "stream": "stdout",
       "text": [
        "\n",
        "110000/275331"
       ]
      },
      {
       "output_type": "stream",
       "stream": "stdout",
       "text": [
        "\n",
        "120000/275331"
       ]
      },
      {
       "output_type": "stream",
       "stream": "stdout",
       "text": [
        "\n",
        "130000/275331"
       ]
      },
      {
       "output_type": "stream",
       "stream": "stdout",
       "text": [
        "\n",
        "140000/275331"
       ]
      },
      {
       "output_type": "stream",
       "stream": "stdout",
       "text": [
        "\n",
        "150000/275331"
       ]
      },
      {
       "output_type": "stream",
       "stream": "stdout",
       "text": [
        "\n",
        "160000/275331"
       ]
      },
      {
       "output_type": "stream",
       "stream": "stdout",
       "text": [
        "\n",
        "170000/275331"
       ]
      },
      {
       "output_type": "stream",
       "stream": "stdout",
       "text": [
        "\n",
        "180000/275331"
       ]
      },
      {
       "output_type": "stream",
       "stream": "stdout",
       "text": [
        "\n",
        "190000/275331"
       ]
      },
      {
       "output_type": "stream",
       "stream": "stdout",
       "text": [
        "\n",
        "200000/275331"
       ]
      },
      {
       "output_type": "stream",
       "stream": "stdout",
       "text": [
        "\n",
        "210000/275331"
       ]
      },
      {
       "output_type": "stream",
       "stream": "stdout",
       "text": [
        "\n",
        "220000/275331"
       ]
      },
      {
       "output_type": "stream",
       "stream": "stdout",
       "text": [
        "\n",
        "230000/275331"
       ]
      },
      {
       "output_type": "stream",
       "stream": "stdout",
       "text": [
        "\n",
        "240000/275331"
       ]
      },
      {
       "output_type": "stream",
       "stream": "stdout",
       "text": [
        "\n",
        "250000/275331"
       ]
      },
      {
       "output_type": "stream",
       "stream": "stdout",
       "text": [
        "\n",
        "260000/275331"
       ]
      },
      {
       "output_type": "stream",
       "stream": "stdout",
       "text": [
        "\n",
        "270000/275331"
       ]
      },
      {
       "output_type": "stream",
       "stream": "stdout",
       "text": [
        "\n"
       ]
      }
     ],
     "prompt_number": 6
    },
    {
     "cell_type": "code",
     "collapsed": false,
     "input": [
      "clean_context.head()"
     ],
     "language": "python",
     "metadata": {},
     "outputs": [
      {
       "metadata": {},
       "output_type": "pyout",
       "prompt_number": 8,
       "text": [
        "0    [\u5410, \u4eac\u4e1c, \u7528\u6237, \u4f53\u9a8c, \u592a\u5dee, ...., \u7b2c\u4e00\u6b21, \u4eac\u4e1c, \u8d2d\u7269, \u4e70, \u51e0\u767e, ...\n",
        "1    [\u7231, \u5c0f\u7c73, \u624b\u673a, \u5c0f\u7c73, \u624b\u673a, \u5c4f\u5e55, \u592a\u7ed9\u529b, \u82f1\u5bf8, \u9ad8, \u8272\u5f69, \u9971\u548c\u5ea6, \u590f...\n",
        "2    [doge, \u55b5, \u55b5, \u5929\u732b, \u771f\u662f, \u725b, ...., \u5356, \u5b9e\u9a8c, \u8017\u6750, \u8dd1, \u5929\u732b...\n",
        "3                         [doge, \u627e, \u5de5\u4f5c, \u256e, \u256f, \u25bd, \u2570, \u256d]\n",
        "4                                [doge, \u6210\u529f, \u62a2, \u53f0\u7c73, \u7535\u4fe1]\n",
        "dtype: object"
       ]
      }
     ],
     "prompt_number": 8
    },
    {
     "cell_type": "code",
     "collapsed": false,
     "input": [
      "clean_context.to_csv('data/train_context_clean.csv')"
     ],
     "language": "python",
     "metadata": {},
     "outputs": [],
     "prompt_number": 9
    },
    {
     "cell_type": "code",
     "collapsed": false,
     "input": [
      "predict_clean_text.to_csv('data/predict_context_clean.csv')"
     ],
     "language": "python",
     "metadata": {},
     "outputs": [],
     "prompt_number": 10
    },
    {
     "cell_type": "code",
     "collapsed": false,
     "input": [],
     "language": "python",
     "metadata": {},
     "outputs": []
    }
   ],
   "metadata": {}
  }
 ]
}